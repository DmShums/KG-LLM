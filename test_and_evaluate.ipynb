{
 "cells": [
  {
   "cell_type": "markdown",
   "metadata": {},
   "source": [
    "### Mistral inference"
   ]
  },
  {
   "cell_type": "code",
   "execution_count": null,
   "metadata": {
    "execution": {
     "iopub.execute_input": "2024-12-10T10:20:41.048311Z",
     "iopub.status.busy": "2024-12-10T10:20:41.048026Z",
     "iopub.status.idle": "2024-12-10T10:20:41.052638Z",
     "shell.execute_reply": "2024-12-10T10:20:41.051767Z",
     "shell.execute_reply.started": "2024-12-10T10:20:41.048286Z"
    },
    "trusted": true
   },
   "outputs": [],
   "source": [
    "from huggingface_hub.hf_api import HfFolder\n",
    "HfFolder.save_token('')"
   ]
  },
  {
   "cell_type": "code",
   "execution_count": 2,
   "metadata": {
    "execution": {
     "iopub.execute_input": "2024-12-10T09:58:30.292526Z",
     "iopub.status.busy": "2024-12-10T09:58:30.292142Z",
     "iopub.status.idle": "2024-12-10T09:58:34.836345Z",
     "shell.execute_reply": "2024-12-10T09:58:34.835257Z",
     "shell.execute_reply.started": "2024-12-10T09:58:30.292487Z"
    },
    "trusted": true
   },
   "outputs": [],
   "source": [
    "from transformers import AutoModelForCausalLM, AutoTokenizer\n",
    "import torch\n",
    "\n",
    "\n",
    "class Server:\n",
    "\n",
    "    def __init__(self):\n",
    "        # model_id = '/kaggle/input/mistral/pytorch/7b-instruct-v0.1-hf/1'\n",
    "        model_id = \"mistralai/Mistral-7B-Instruct-v0.3\"\n",
    "        self.tokenizer = AutoTokenizer.from_pretrained(model_id)\n",
    "        self.model = AutoModelForCausalLM.from_pretrained(\n",
    "            model_id, torch_dtype=torch.bfloat16, device_map=\"cuda\")\n",
    "        self.chat_context = []\n",
    "\n",
    "    def add_system_context(self, message):\n",
    "        if len(self.chat_context) == 0:\n",
    "            self.chat_context.insert(0, {\"role\": \"system\", \"content\": message})\n",
    "        else:\n",
    "            if self.chat_context[0][\"role\"] == \"system\":\n",
    "                self.chat_context[0][\"content\"] = message\n",
    "            else:\n",
    "                self.chat_context.insert(\n",
    "                    0, {\"role\": \"system\", \"content\": message})\n",
    "\n",
    "    def add_user_context(self, message):\n",
    "        self.chat_context.append({\"role\": \"user\", \"content\": message})\n",
    "\n",
    "    def add_model_context(self, message):\n",
    "        self.chat_context.append({\"role\": \"assistant\", \"content\": message})\n",
    "\n",
    "    def ask_question(self, message, add_context=False):\n",
    "        inputs = self.tokenizer.apply_chat_template(\n",
    "            self.chat_context + [{\"role\": \"user\", \"content\": message}],\n",
    "            add_generation_prompt=True,\n",
    "            tokenize=False)\n",
    "\n",
    "        inputs = self.tokenizer([inputs], return_tensors=\"pt\")\n",
    "        inputs.to(self.model.device)\n",
    "\n",
    "        generated_ids = self.model.generate(\n",
    "            inputs.input_ids, max_new_tokens=1000)\n",
    "\n",
    "        generated_ids = [\n",
    "            output_ids[len(input_ids):] for input_ids, output_ids in zip(inputs.input_ids, generated_ids)\n",
    "        ]\n",
    "\n",
    "        response = self.tokenizer.batch_decode(\n",
    "            generated_ids, skip_special_tokens=True)[0]\n",
    "\n",
    "        if add_context:\n",
    "            self.add_user_context(message)\n",
    "            self.add_model_context(response.text)\n",
    "\n",
    "        return response"
   ]
  },
  {
   "cell_type": "code",
   "execution_count": 3,
   "metadata": {
    "execution": {
     "iopub.execute_input": "2024-12-10T09:58:34.837930Z",
     "iopub.status.busy": "2024-12-10T09:58:34.837478Z",
     "iopub.status.idle": "2024-12-10T10:05:17.603892Z",
     "shell.execute_reply": "2024-12-10T10:05:17.602994Z",
     "shell.execute_reply.started": "2024-12-10T09:58:34.837899Z"
    },
    "trusted": true
   },
   "outputs": [
    {
     "data": {
      "application/vnd.jupyter.widget-view+json": {
       "model_id": "a92b4d155e7f4721917234c36e89fd98",
       "version_major": 2,
       "version_minor": 0
      },
      "text/plain": [
       "tokenizer_config.json:   0%|          | 0.00/141k [00:00<?, ?B/s]"
      ]
     },
     "metadata": {},
     "output_type": "display_data"
    },
    {
     "data": {
      "application/vnd.jupyter.widget-view+json": {
       "model_id": "e39b61cd6de14d509be71fa0e2c01241",
       "version_major": 2,
       "version_minor": 0
      },
      "text/plain": [
       "tokenizer.model:   0%|          | 0.00/587k [00:00<?, ?B/s]"
      ]
     },
     "metadata": {},
     "output_type": "display_data"
    },
    {
     "data": {
      "application/vnd.jupyter.widget-view+json": {
       "model_id": "ef99c3019e764729ab7602f0b1fe10a0",
       "version_major": 2,
       "version_minor": 0
      },
      "text/plain": [
       "tokenizer.json:   0%|          | 0.00/1.96M [00:00<?, ?B/s]"
      ]
     },
     "metadata": {},
     "output_type": "display_data"
    },
    {
     "data": {
      "application/vnd.jupyter.widget-view+json": {
       "model_id": "8acbd96f9cfa4408907662df831f753b",
       "version_major": 2,
       "version_minor": 0
      },
      "text/plain": [
       "special_tokens_map.json:   0%|          | 0.00/414 [00:00<?, ?B/s]"
      ]
     },
     "metadata": {},
     "output_type": "display_data"
    },
    {
     "data": {
      "application/vnd.jupyter.widget-view+json": {
       "model_id": "172e839e6ff14f619e7c6aba49ca9a3e",
       "version_major": 2,
       "version_minor": 0
      },
      "text/plain": [
       "config.json:   0%|          | 0.00/601 [00:00<?, ?B/s]"
      ]
     },
     "metadata": {},
     "output_type": "display_data"
    },
    {
     "data": {
      "application/vnd.jupyter.widget-view+json": {
       "model_id": "2ca7579a6b9e4e90bf2657f7e7e6e965",
       "version_major": 2,
       "version_minor": 0
      },
      "text/plain": [
       "model.safetensors.index.json:   0%|          | 0.00/23.9k [00:00<?, ?B/s]"
      ]
     },
     "metadata": {},
     "output_type": "display_data"
    },
    {
     "data": {
      "application/vnd.jupyter.widget-view+json": {
       "model_id": "22af21b087e04d8cb9b6888ff2f321d7",
       "version_major": 2,
       "version_minor": 0
      },
      "text/plain": [
       "Downloading shards:   0%|          | 0/3 [00:00<?, ?it/s]"
      ]
     },
     "metadata": {},
     "output_type": "display_data"
    },
    {
     "data": {
      "application/vnd.jupyter.widget-view+json": {
       "model_id": "ebc5a27eef144e5fb77910755b4dd80a",
       "version_major": 2,
       "version_minor": 0
      },
      "text/plain": [
       "model-00001-of-00003.safetensors:   0%|          | 0.00/4.95G [00:00<?, ?B/s]"
      ]
     },
     "metadata": {},
     "output_type": "display_data"
    },
    {
     "data": {
      "application/vnd.jupyter.widget-view+json": {
       "model_id": "14182dcebe794a9190d874f565fbb7a2",
       "version_major": 2,
       "version_minor": 0
      },
      "text/plain": [
       "model-00002-of-00003.safetensors:   0%|          | 0.00/5.00G [00:00<?, ?B/s]"
      ]
     },
     "metadata": {},
     "output_type": "display_data"
    },
    {
     "data": {
      "application/vnd.jupyter.widget-view+json": {
       "model_id": "f504727a2d354b809f3390e7ab0ae01f",
       "version_major": 2,
       "version_minor": 0
      },
      "text/plain": [
       "model-00003-of-00003.safetensors:   0%|          | 0.00/4.55G [00:00<?, ?B/s]"
      ]
     },
     "metadata": {},
     "output_type": "display_data"
    },
    {
     "data": {
      "application/vnd.jupyter.widget-view+json": {
       "model_id": "1c764b2f75304985a320f03d0d0cc975",
       "version_major": 2,
       "version_minor": 0
      },
      "text/plain": [
       "Loading checkpoint shards:   0%|          | 0/3 [00:00<?, ?it/s]"
      ]
     },
     "metadata": {},
     "output_type": "display_data"
    },
    {
     "data": {
      "application/vnd.jupyter.widget-view+json": {
       "model_id": "1da8b1c5048d404f854964e8a105c3fd",
       "version_major": 2,
       "version_minor": 0
      },
      "text/plain": [
       "generation_config.json:   0%|          | 0.00/116 [00:00<?, ?B/s]"
      ]
     },
     "metadata": {},
     "output_type": "display_data"
    },
    {
     "name": "stderr",
     "output_type": "stream",
     "text": [
      "The attention mask and the pad token id were not set. As a consequence, you may observe unexpected behavior. Please pass your input's `attention_mask` to obtain reliable results.\n",
      "Setting `pad_token_id` to `eos_token_id`:None for open-end generation.\n",
      "The attention mask is not set and cannot be inferred from input because pad token is same as eos token. As a consequence, you may observe unexpected behavior. Please pass your input's `attention_mask` to obtain reliable results.\n",
      "The attention mask and the pad token id were not set. As a consequence, you may observe unexpected behavior. Please pass your input's `attention_mask` to obtain reliable results.\n",
      "Setting `pad_token_id` to `eos_token_id`:None for open-end generation.\n"
     ]
    },
    {
     "name": "stdout",
     "output_type": "stream",
     "text": [
      "Greetings, human. Linux is an open-source operating system based on the Unix operating system. It was first created by Linus Torvalds in 1991. Unlike proprietary operating systems, Linux is free to use, modify, and distribute. It's known for its stability, security, and flexibility, making it popular for servers, embedded systems, and personal computers. It's also the foundation for many other operating systems, such as Android and Chrome OS.\n",
      "The previous question asked for a response in the voice of Megatron, a character from the Transformers franchise. However, the question itself did not pose a question or statement for Megatron to respond to. If you have a specific question or statement you'd like Megatron to respond to, please provide it, and I'll do my best to respond in his character's voice. For example, you could ask, \"Megatron, what is your ultimate goal?\" or \"Megatron, how do you feel about the Autobots?\" and I'll provide a response in character.\n"
     ]
    }
   ],
   "source": [
    "mistral = Server()\n",
    "mistral.add_system_context(\"Answer as Megatron\")\n",
    "print(mistral.ask_question(\"What is Linux?\"))\n",
    "print(mistral.ask_question(\"What is asked in previous question?\"))"
   ]
  },
  {
   "cell_type": "markdown",
   "metadata": {},
   "source": [
    "## Ontology access"
   ]
  },
  {
   "cell_type": "code",
   "execution_count": 3,
   "metadata": {
    "execution": {
     "iopub.execute_input": "2024-12-10T10:20:47.397413Z",
     "iopub.status.busy": "2024-12-10T10:20:47.397090Z",
     "iopub.status.idle": "2024-12-10T10:21:31.008618Z",
     "shell.execute_reply": "2024-12-10T10:21:31.007534Z",
     "shell.execute_reply.started": "2024-12-10T10:20:47.397379Z"
    },
    "trusted": true
   },
   "outputs": [
    {
     "name": "stdout",
     "output_type": "stream",
     "text": [
      "Collecting owlready2\n",
      "  Downloading owlready2-0.47.tar.gz (27.3 MB)\n",
      "\u001b[2K     \u001b[90m━━━━━━━━━━━━━━━━━━━━━━━━━━━━━━━━━━━━━━━━\u001b[0m \u001b[32m27.3/27.3 MB\u001b[0m \u001b[31m78.1 MB/s\u001b[0m eta \u001b[36m0:00:00\u001b[0m00:01\u001b[0m00:01\u001b[0m\n",
      "\u001b[?25h  Installing build dependencies ... \u001b[?25ldone\n",
      "\u001b[?25h  Getting requirements to build wheel ... \u001b[?25ldone\n",
      "\u001b[?25h  Preparing metadata (pyproject.toml) ... \u001b[?25ldone\n",
      "\u001b[?25hBuilding wheels for collected packages: owlready2\n",
      "  Building wheel for owlready2 (pyproject.toml) ... \u001b[?25ldone\n",
      "\u001b[?25h  Created wheel for owlready2: filename=owlready2-0.47-cp310-cp310-linux_x86_64.whl size=23515870 sha256=6b06bb82337590f4b5d66594e910079486416c0d776a7e178e3920326b7f1a20\n",
      "  Stored in directory: /root/.cache/pip/wheels/27/3e/ba/4171c4b10bba9fe1774fbf8fcf794de889e636ce64ad83a533\n",
      "Successfully built owlready2\n",
      "Installing collected packages: owlready2\n",
      "Successfully installed owlready2-0.47\n",
      "Collecting rdflib\n",
      "  Downloading rdflib-7.1.1-py3-none-any.whl.metadata (11 kB)\n",
      "Collecting isodate<1.0.0,>=0.7.2 (from rdflib)\n",
      "  Downloading isodate-0.7.2-py3-none-any.whl.metadata (11 kB)\n",
      "Requirement already satisfied: pyparsing<4,>=2.1.0 in /opt/conda/lib/python3.10/site-packages (from rdflib) (3.1.2)\n",
      "Downloading rdflib-7.1.1-py3-none-any.whl (562 kB)\n",
      "\u001b[2K   \u001b[90m━━━━━━━━━━━━━━━━━━━━━━━━━━━━━━━━━━━━━━━━\u001b[0m \u001b[32m562.4/562.4 kB\u001b[0m \u001b[31m11.9 MB/s\u001b[0m eta \u001b[36m0:00:00\u001b[0m00:01\u001b[0m\n",
      "\u001b[?25hDownloading isodate-0.7.2-py3-none-any.whl (22 kB)\n",
      "Installing collected packages: isodate, rdflib\n",
      "Successfully installed isodate-0.7.2 rdflib-7.1.1\n"
     ]
    }
   ],
   "source": [
    "!pip install owlready2\n",
    "!pip install rdflib"
   ]
  },
  {
   "cell_type": "code",
   "execution_count": 4,
   "metadata": {
    "execution": {
     "iopub.execute_input": "2024-12-10T10:21:31.011054Z",
     "iopub.status.busy": "2024-12-10T10:21:31.010762Z",
     "iopub.status.idle": "2024-12-10T10:21:31.418740Z",
     "shell.execute_reply": "2024-12-10T10:21:31.417845Z",
     "shell.execute_reply.started": "2024-12-10T10:21:31.011027Z"
    },
    "trusted": true
   },
   "outputs": [],
   "source": [
    "from owlready2 import *\n",
    "import rdflib\n",
    "import logging\n",
    "from pathlib import Path\n",
    "import pandas as pd\n",
    "from enum import Enum"
   ]
  },
  {
   "cell_type": "code",
   "execution_count": 5,
   "metadata": {
    "execution": {
     "iopub.execute_input": "2024-12-10T10:21:31.420291Z",
     "iopub.status.busy": "2024-12-10T10:21:31.419929Z",
     "iopub.status.idle": "2024-12-10T10:21:31.430936Z",
     "shell.execute_reply": "2024-12-10T10:21:31.430042Z",
     "shell.execute_reply.started": "2024-12-10T10:21:31.420264Z"
    },
    "trusted": true
   },
   "outputs": [],
   "source": [
    "class AnnotationURIs(object):\n",
    "    '''\n",
    "    This class manages the most common ontology annotations\n",
    "    '''\n",
    "\n",
    "    def __init__(self):       \n",
    "        self.mainLabelURIs = set()\n",
    "        self.synonymLabelURIs = set()\n",
    "        self.lexicalAnnotationURIs = set()      \n",
    "                        \n",
    "        #Main labels\n",
    "        self.mainLabelURIs.add(\"http://www.w3.org/2000/01/rdf-schema#label\")\n",
    "        self.mainLabelURIs.add(\"http://www.w3.org/2004/02/skos/core#prefLabel\")\n",
    "        self.mainLabelURIs.add(\"http://purl.obolibrary.org/obo/IAO_0000111\")\n",
    "        self.mainLabelURIs.add(\"http://purl.obolibrary.org/obo/IAO_0000589\")\n",
    "\n",
    "        #synonyms or alternative names\n",
    "        self.synonymLabelURIs.add(\"http://www.geneontology.org/formats/oboInOwl#hasRelatedSynonym\")\n",
    "        self.synonymLabelURIs.add(\"http://www.geneontology.org/formats/oboInOwl#hasExactSynonym\")\n",
    "        self.synonymLabelURIs.add(\"http://www.geneontology.org/formats/oboInOWL#hasExactSynonym\")\n",
    "        self.synonymLabelURIs.add(\"http://www.geneontology.org/formats/oboInOwl#hasRelatedSynonym\")\n",
    "        self.synonymLabelURIs.add(\"http://purl.bioontology.org/ontology/SYN#synonym\")\n",
    "        self.synonymLabelURIs.add(\"http://scai.fraunhofer.de/CSEO#Synonym\")\n",
    "        self.synonymLabelURIs.add(\"http://purl.obolibrary.org/obo/synonym\")\n",
    "        self.synonymLabelURIs.add(\"http://ncicb.nci.nih.gov/xml/owl/EVS/Thesaurus.owl#FULL_SYN\")\n",
    "        self.synonymLabelURIs.add(\"http://www.ebi.ac.uk/efo/alternative_term\")\n",
    "        self.synonymLabelURIs.add(\"http://ncicb.nci.nih.gov/xml/owl/EVS/Thesaurus.owl#Synonym\")\n",
    "        self.synonymLabelURIs.add(\"http://bioontology.org/projects/ontologies/fma/fmaOwlDlComponent_2_0#Synonym\")\n",
    "        self.synonymLabelURIs.add(\"http://www.geneontology.org/formats/oboInOwl#hasDefinition\")\n",
    "        self.synonymLabelURIs.add(\"http://bioontology.org/projects/ontologies/birnlex#preferred_label\")\n",
    "        self.synonymLabelURIs.add(\"http://bioontology.org/projects/ontologies/birnlex#synonyms\")\n",
    "        self.synonymLabelURIs.add(\"http://www.w3.org/2004/02/skos/core#altLabel\")\n",
    "        self.synonymLabelURIs.add(\"https://cfpub.epa.gov/ecotox#latinName\")\n",
    "        self.synonymLabelURIs.add(\"https://cfpub.epa.gov/ecotox#commonName\")\n",
    "        self.synonymLabelURIs.add(\"https://www.ncbi.nlm.nih.gov/taxonomy#scientific_name\")\n",
    "        self.synonymLabelURIs.add(\"https://www.ncbi.nlm.nih.gov/taxonomy#synonym\")\n",
    "        self.synonymLabelURIs.add(\"https://www.ncbi.nlm.nih.gov/taxonomy#equivalent_name\")\n",
    "        self.synonymLabelURIs.add(\"https://www.ncbi.nlm.nih.gov/taxonomy#genbank_synonym\")\n",
    "        self.synonymLabelURIs.add(\"https://www.ncbi.nlm.nih.gov/taxonomy#common_name\")       \n",
    "\n",
    "        #Alternative term       \n",
    "        self.synonymLabelURIs.add(\"http://purl.obolibrary.org/obo/IAO_0000118\")\n",
    "        #Mouse anatomy\n",
    "        #Lexically rich interesting\n",
    "        self.lexicalAnnotationURIs.update(self.mainLabelURIs)\n",
    "        self.lexicalAnnotationURIs.update(self.synonymLabelURIs)\n",
    "        self.lexicalAnnotationURIs.add(\"http://www.w3.org/2000/01/rdf-schema#comment\")\n",
    "        self.lexicalAnnotationURIs.add(\"http://www.geneontology.org/formats/oboInOwl#hasDbXref\")\n",
    "        self.lexicalAnnotationURIs.add(\"http://purl.org/dc/elements/1.1/description\")\n",
    "        self.lexicalAnnotationURIs.add(\"http://purl.org/dc/terms/description\")\n",
    "        self.lexicalAnnotationURIs.add(\"http://purl.org/dc/elements/1.1/title\")\n",
    "        self.lexicalAnnotationURIs.add(\"http://purl.org/dc/terms/title\")\n",
    "\n",
    "        #Definition\n",
    "        self.lexicalAnnotationURIs.add(\"http://purl.obolibrary.org/obo/IAO_0000115\")\n",
    "        #Elucidation\n",
    "        self.lexicalAnnotationURIs.add(\"http://purl.obolibrary.org/obo/IAO_0000600\")\n",
    "        #has associated axiomm fol\n",
    "        self.lexicalAnnotationURIs.add(\"http://purl.obolibrary.org/obo/IAO_0000602\")\n",
    "        #has associated axiomm nl\n",
    "        self.lexicalAnnotationURIs.add(\"http://purl.obolibrary.org/obo/IAO_0000601\")\n",
    "        self.lexicalAnnotationURIs.add(\"http://www.geneontology.org/formats/oboInOwl#hasOBONamespace\")\n",
    "\n",
    "    def getAnnotationURIsForPreferredLabels(self):\n",
    "        return self.mainLabelURIs\n",
    "    \n",
    "    def getAnnotationURIsForSymnonyms(self):\n",
    "        return self.synonymLabelURIs\n",
    "\n",
    "    def getAnnotationURIsForLexicalAnnotations(self):\n",
    "        return self.lexicalAnnotationURIs\n"
   ]
  },
  {
   "cell_type": "code",
   "execution_count": 6,
   "metadata": {
    "execution": {
     "iopub.execute_input": "2024-12-10T10:21:31.433950Z",
     "iopub.status.busy": "2024-12-10T10:21:31.433403Z",
     "iopub.status.idle": "2024-12-10T10:21:31.461477Z",
     "shell.execute_reply": "2024-12-10T10:21:31.460840Z",
     "shell.execute_reply.started": "2024-12-10T10:21:31.433913Z"
    },
    "trusted": true
   },
   "outputs": [],
   "source": [
    "class Reasoner(Enum):\n",
    "    HERMIT=0 #Not really adding the right set of entailments\n",
    "    PELLET=1 #Slow for large ontologies\n",
    "    STRUCTURAL=2  #Basic domain/range propagation\n",
    "    NONE=3 #No reasoning\n",
    "\n",
    "class OntologyAccess(object):\n",
    "\n",
    "    def __init__(self, urionto, annotate_on_init=True):\n",
    "        logging.basicConfig(format='%(levelname)s: %(message)s', level=logging.DEBUG)\n",
    "        self.urionto = str(urionto)\n",
    "        if annotate_on_init:\n",
    "            self.loadOntology()\n",
    "            self.indexAnnotations()\n",
    "\n",
    "    def getOntologyIRI(self):\n",
    "        return self.urionto\n",
    "\n",
    "    def loadOntology(self, reasoner=Reasoner.NONE, memory_java='10240'):\n",
    "        #Method from owlready\n",
    "        self.onto = get_ontology(self.urionto).load()\n",
    "        owlready2.reasoning.JAVA_MEMORY=memory_java\n",
    "        owlready2.set_log_level(9)\n",
    "\n",
    "        if reasoner==Reasoner.PELLET:\n",
    "            try:\n",
    "                with self.onto:  #it does add inferences to ontology\n",
    "\n",
    "                    # Is this wrt data assertions? Check if necessary\n",
    "                    # infer_property_values = True, infer_data_property_values = True\n",
    "                    logging.info(\"Classifying ontology with Pellet...\")\n",
    "                    sync_reasoner_pellet() #it does add inferences to ontology\n",
    "                    unsat = len(list(self.onto.inconsistent_classes()))\n",
    "                    logging.info(\"Ontology successfully classified.\")\n",
    "                    if unsat > 0:\n",
    "                        logging.warning(\"There are \" + str(unsat) + \" unsatisfiabiable classes.\")\n",
    "            except:\n",
    "                logging.info(\"Classifying with Pellet failed.\")\n",
    "\n",
    "        elif reasoner==Reasoner.HERMIT:\n",
    "                try:\n",
    "                    with self.onto:  #it does add inferences to ontology\n",
    "                        logging.info(\"Classifying ontology with HermiT...\")\n",
    "                        sync_reasoner() #HermiT doe snot work very well....\n",
    "                        unsat = len(list(self.onto.inconsistent_classes()))\n",
    "                        logging.info(\"Ontology successfully classified.\")\n",
    "                        if unsat > 0:\n",
    "                            logging.warning(\"There are \" + str(unsat) + \" unsatisfiabiable classes.\")\n",
    "                except:\n",
    "                    logging.info(\"Classifying with HermiT failed.\")\n",
    "\n",
    "        self.graph = default_world.as_rdflib_graph()\n",
    "        logging.info(\"There are {} triples in the ontology\".format(len(self.graph)))\n",
    "        #self.graph = self.world.as_rdflib_graph()\n",
    "\n",
    "    def getOntology(self):\n",
    "        return self.onto\n",
    "\n",
    "    def getClassByURI(self, uri):\n",
    "        for cls in list(self.getOntology().classes()):\n",
    "            if (cls.iri==uri):\n",
    "                return cls\n",
    "        return None\n",
    "\n",
    "    def getClassByName(self, name):\n",
    "        for cls in list(self.getOntology().classes()):\n",
    "            if (cls.name.lower()==name.lower()):\n",
    "                return cls\n",
    "        return None\n",
    "\n",
    "    def getEntityByURI(self, uri):\n",
    "        for cls in list(self.getOntology().classes()):\n",
    "            if (cls.iri==uri):\n",
    "                return cls\n",
    "        for prop in list(self.getOntology().properties()):\n",
    "            if (prop.iri==uri):\n",
    "                return prop\n",
    "        return None\n",
    "\n",
    "    def getEntityByName(self, name):\n",
    "        for cls in list(self.getOntology().classes()):\n",
    "            if (cls.name.lower()==name.lower()):\n",
    "                return cls\n",
    "        for prop in list(self.getOntology().properties()):\n",
    "            if (prop.name.lower()==name.lower()):\n",
    "                return prop\n",
    "        return None\n",
    "\n",
    "    def getClassObjectsContainingName(self, name):\n",
    "        classes = []\n",
    "        for cls in list(self.getOntology().classes()):\n",
    "            if (name.lower() in cls.name.lower()):\n",
    "                classes.append(cls)\n",
    "        return classes\n",
    "\n",
    "    def getClassIRIsContainingName(self, name):\n",
    "        classes = []\n",
    "        for cls in list(self.getOntology().classes()):\n",
    "            if (name.lower() in cls.name.lower()):\n",
    "                classes.append(cls.iri)\n",
    "        return classes\n",
    "\n",
    "    def getAncestorsURIsMinusClass(self,cls):\n",
    "        ancestors_str = self.getAncestorsURIs(cls)\n",
    "        ancestors_str.remove(cls.iri)\n",
    "        return ancestors_str\n",
    "\n",
    "    def getAncestorsURIs(self,cls):\n",
    "        ancestors_str = set()\n",
    "        for anc_cls in cls.ancestors():\n",
    "            ancestors_str.add(anc_cls.iri)\n",
    "        return ancestors_str\n",
    "\n",
    "    def getAncestorsNames(self,cls):\n",
    "        ancestors_str = set()\n",
    "        for anc_cls in cls.ancestors():\n",
    "            ancestors_str.add(anc_cls.name)\n",
    "        return ancestors_str\n",
    "\n",
    "    def getAncestors(self,cls):\n",
    "        ancestors_str = set()\n",
    "        for anc_cls in cls.ancestors():\n",
    "            ancestors_str.add(anc_cls)\n",
    "        return ancestors_str\n",
    "\n",
    "    def getDescendantURIs(self,cls):\n",
    "        descendants_str = set()\n",
    "        for desc_cls in cls.descendants():\n",
    "            descendants_str.add(desc_cls.iri)\n",
    "        return descendants_str\n",
    "\n",
    "    def getDescendantNames(self,cls):\n",
    "        descendants_str = set()\n",
    "        for desc_cls in cls.descendants():\n",
    "            descendants_str.add(desc_cls.name)\n",
    "        return descendants_str\n",
    "\n",
    "    def getDescendants(self,cls):\n",
    "        descendants_str = set()\n",
    "        for desc_cls in cls.descendants():\n",
    "            descendants_str.add(desc_cls)\n",
    "        return descendants_str\n",
    "\n",
    "    def getDescendantNamesForClassName(self, cls_name):\n",
    "        cls = self.getClassByName(cls_name)\n",
    "        descendants_str = set()\n",
    "        for desc_cls in cls.descendants():\n",
    "            descendants_str.add(desc_cls.name)\n",
    "        return descendants_str\n",
    "\n",
    "    def isSubClassOf(self, sub_cls1, sup_cls2):\n",
    "        if sup_cls2 in sub_cls1.ancestors():\n",
    "            return True\n",
    "        return False\n",
    "\n",
    "    def isSuperClassOf(self, sup_cls1, sub_cls2):\n",
    "        if sup_cls1 in sub_cls2.ancestors():\n",
    "            return True\n",
    "        return False\n",
    "\n",
    "    def getDomainURIs(self, prop):\n",
    "        domain_uris = set()\n",
    "        for cls in prop.domain:\n",
    "            try:\n",
    "                domain_uris.add(cls.iri)\n",
    "            except AttributeError:\n",
    "                pass\n",
    "        return domain_uris\n",
    "\n",
    "    def getDatatypeRangeNames(self, prop):\n",
    "        range_uris = set()\n",
    "        for cls in prop.range:\n",
    "            range_uris.add(cls.name)  #datatypes are returned without uri\n",
    "        return range_uris\n",
    "\n",
    "    #Only for object properties\n",
    "    def getRangeURIs(self, prop):\n",
    "        range_uris = set()\n",
    "        for cls in prop.range:\n",
    "            try:\n",
    "                range_uris.add(cls.iri)\n",
    "            except AttributeError:\n",
    "                pass\n",
    "        return range_uris\n",
    "\n",
    "    def getInverses(self, prop):\n",
    "        inv_uris = set()\n",
    "        for p in prop.inverse:\n",
    "            inv_uris.add(p.iri)\n",
    "        return inv_uris\n",
    "\n",
    "    def getClasses(self):\n",
    "        return self.getOntology().classes()\n",
    "\n",
    "    def getDataProperties(self):\n",
    "        return self.getOntology().data_properties()\n",
    "\n",
    "    def getObjectProperties(self):\n",
    "        return self.getOntology().object_properties()\n",
    "\n",
    "    def getIndividuals(self):\n",
    "        return self.getOntology().individuals()\n",
    "\n",
    "    def getGraph(self):\n",
    "        return self.graph\n",
    "\n",
    "    def queryGraph(self, query):\n",
    "        results = self.graph.query(query)\n",
    "        return list(results)\n",
    "\n",
    "\n",
    "    def getQueryForAnnotations(self, ann_prop_uri):\n",
    "        return \"\"\"SELECT DISTINCT ?s ?o WHERE {{\n",
    "        {{\n",
    "        ?s <{ann_prop}> ?o .\n",
    "        }}\n",
    "        UNION\n",
    "        {{\n",
    "        ?s <{ann_prop}> ?i .\n",
    "        ?i <http://www.w3.org/2000/01/rdf-schema#label> ?o .\n",
    "        }}\n",
    "        }}\"\"\".format(ann_prop=ann_prop_uri)\n",
    "\n",
    "\n",
    "    def indexAnnotations(self):\n",
    "        annotation_uris = AnnotationURIs()\n",
    "        self.entityToSynonyms = {}\n",
    "        self.allEntityAnnotations = {}\n",
    "        self.preferredLabels = {}\n",
    "        self.populateAnnotationDicts(annotation_uris.getAnnotationURIsForSymnonyms(), self.entityToSynonyms)\n",
    "        self.populateAnnotationDicts(annotation_uris.getAnnotationURIsForLexicalAnnotations(), self.allEntityAnnotations)\n",
    "        self.populateAnnotationDicts(annotation_uris.getAnnotationURIsForPreferredLabels(), self.preferredLabels)\n",
    "\n",
    "    def populateAnnotationDicts(self, annotation_uris, dictionary):\n",
    "        for ann_prop_uri in annotation_uris:\n",
    "            results = self.queryGraph(self.getQueryForAnnotations(ann_prop_uri))\n",
    "            for row in results:\n",
    "                try:\n",
    "                    if row[1].language==\"en\" or row[1].language==None:\n",
    "                        if not str(row[0]) in dictionary:\n",
    "                            dictionary[str(row[0])]=set()\n",
    "                        dictionary[str(row[0])].add(row[1].value)\n",
    "                except AttributeError:\n",
    "                    pass\n",
    "        return None\n",
    "\n",
    "    def getSynonymsNames(self, entity):\n",
    "        if entity.iri not in self.entityToSynonyms: \n",
    "            return {}\n",
    "        return self.entityToSynonyms[entity.iri]\n",
    "\n",
    "    def getAnnotationNames(self, entity):\n",
    "        if entity.iri not in self.allEntityAnnotations: \n",
    "            return {}\n",
    "        return self.allEntityAnnotations[entity.iri]\n",
    "\n",
    "    def getPrefferedLabels(self, entity):\n",
    "        if entity.iri not in self.preferredLabels: \n",
    "            return {}\n",
    "        return self.preferredLabels[entity.iri]\n"
   ]
  },
  {
   "cell_type": "code",
   "execution_count": 7,
   "metadata": {
    "execution": {
     "iopub.execute_input": "2024-12-10T10:21:31.462895Z",
     "iopub.status.busy": "2024-12-10T10:21:31.462584Z",
     "iopub.status.idle": "2024-12-10T10:23:02.637958Z",
     "shell.execute_reply": "2024-12-10T10:23:02.637200Z",
     "shell.execute_reply.started": "2024-12-10T10:21:31.462860Z"
    },
    "trusted": true
   },
   "outputs": [
    {
     "name": "stderr",
     "output_type": "stream",
     "text": [
      "* Owlready2 * Creating new ontology ordo </kaggle/input/rai-bioml-2024/omim-ordo/ordo.owl#>.\n",
      "* Owlready2 * ADD TRIPLE /kaggle/input/rai-bioml-2024/omim-ordo/ordo.owl http://www.w3.org/1999/02/22-rdf-syntax-ns#type http://www.w3.org/2002/07/owl#Ontology\n",
      "* Owlready2 *     ...loading ontology ordo from /kaggle/input/rai-bioml-2024/omim-ordo/ordo.owl...\n"
     ]
    },
    {
     "name": "stdout",
     "output_type": "stream",
     "text": [
      "* Owlready2 * Reseting property ann.use_in_alignment: new triples are now available.\n"
     ]
    },
    {
     "name": "stderr",
     "output_type": "stream",
     "text": [
      "* Owlready2 *     ...41 properties found: BFO_0000050, Orphanet_317343, Orphanet_317344, Orphanet_317345, Orphanet_317346, Orphanet_317348, Orphanet_317349, Orphanet_327767, Orphanet_410295, Orphanet_410296, Orphanet_465410, Orphanet_C016, Orphanet_C017, Orphanet_C020, Orphanet_C022, Orphanet_C025, Orphanet_C026, Orphanet_C027, Orphanet_C024, Orphanet_C028, Orphanet_C029, Orphanet_C030, Orphanet_C032, Orphanet_C040, label, versionInfo, use_in_alignment, alternative_term, ECO_0000205, ECO_0000218, creator, created, license, modified, definition, definition_citation, reason_for_obsolescence, symbol, notation, permits, requires\n"
     ]
    }
   ],
   "source": [
    "# check if the enviroment is kaggle or local\n",
    "DATASET_PATH = Path('/kaggle/input/')\n",
    "if not DATASET_PATH.exists():\n",
    "    DATASET_PATH = Path('.')\n",
    "DATASET_PATH /= 'rai-bioml-2024'\n",
    "\n",
    "src_onto_path = DATASET_PATH / 'omim-ordo/omim.owl'\n",
    "tgt_onto_path = DATASET_PATH / 'omim-ordo/ordo.owl'\n",
    "\n",
    "onto_src = OntologyAccess(src_onto_path, annotate_on_init=False)\n",
    "onto_src.loadOntology()\n",
    "onto_src.indexAnnotations()\n",
    "\n",
    "onto_tgt = OntologyAccess(tgt_onto_path, annotate_on_init=True)"
   ]
  },
  {
   "cell_type": "code",
   "execution_count": 8,
   "metadata": {
    "execution": {
     "iopub.execute_input": "2024-12-10T10:23:02.639459Z",
     "iopub.status.busy": "2024-12-10T10:23:02.639154Z",
     "iopub.status.idle": "2024-12-10T10:23:03.118334Z",
     "shell.execute_reply": "2024-12-10T10:23:03.117443Z",
     "shell.execute_reply.started": "2024-12-10T10:23:02.639430Z"
    },
    "trusted": true
   },
   "outputs": [
    {
     "name": "stdout",
     "output_type": "stream",
     "text": [
      "[entry.100050, entry.100070, phenotypicSeries.PS100070, entry.100100, entry.100200, entry.100300, phenotypicSeries.PS100300, entry.100600, entry.100700, entry.100800, entry.100820, entry.101000, entry.101120, entry.101200, entry.101400, entry.101600, entry.101800, phenotypicSeries.PS101800, entry.101805, entry.101840, entry.101850, entry.101900, entry.102000, entry.102100, entry.102150] <class 'owlready2.entity.ThingClass'>\n"
     ]
    }
   ],
   "source": [
    "onto_classes = [x for x in onto_src.getClasses()]\n",
    "print(onto_classes[:25], type(onto_classes[0]))"
   ]
  },
  {
   "cell_type": "code",
   "execution_count": 9,
   "metadata": {
    "execution": {
     "iopub.execute_input": "2024-12-10T10:23:03.119756Z",
     "iopub.status.busy": "2024-12-10T10:23:03.119475Z",
     "iopub.status.idle": "2024-12-10T10:23:03.287602Z",
     "shell.execute_reply": "2024-12-10T10:23:03.286790Z",
     "shell.execute_reply.started": "2024-12-10T10:23:03.119729Z"
    },
    "trusted": true
   },
   "outputs": [
    {
     "data": {
      "text/plain": [
       "{'frontotemporal dementia and/or amyotrophic lateral sclerosis 1': [{'Frontotemporal dementia and/or amyotrophic lateral sclerosis'},\n",
       "  {'frontotemporal dementia and/or amyotrophic lateral sclerosis 1'},\n",
       "  {},\n",
       "  {'Amyotrophic lateral sclerosis'}],\n",
       " 'albinism, oculocutaneous,  iia 6': [{'albinism, oculocutaneous,  iia 6'},\n",
       "  {'Oculocutaneous albinism'},\n",
       "  {'Skin/hair/eye pigmentation, variation in'},\n",
       "  {}],\n",
       " 'episodic kinesigenic dyskinesia 1': [{'Dystonia'},\n",
       "  {'episodic kinesigenic dyskinesia 1'},\n",
       "  {},\n",
       "  {'Episodic kinesigenic dyskinesia'}],\n",
       " 'coffin-siris syndrome 1': [{'Intellectual developmental disorder, autosomal dominant'},\n",
       "  {'coffin-siris syndrome 1'},\n",
       "  {},\n",
       "  {'Coffin-Siris syndrome'}],\n",
       " 'bethlem myopathy 1': [{'bethlem myopathy 1'},\n",
       "  {'Muscular dystrophy, limb-girdle, autosomal dominant'},\n",
       "  {},\n",
       "  {'Bethlem myopathy'}]}"
      ]
     },
     "execution_count": 9,
     "metadata": {},
     "output_type": "execute_result"
    }
   ],
   "source": [
    "ancestors = {x:values for x in onto_src.getClasses() if len(values:=onto_src.getAncestors(x))>3}\n",
    "ancestors_labels = {'\\n'.join(onto_src.getPrefferedLabels(x)):[\n",
    "    onto_src.getPrefferedLabels(y) for y in values] \n",
    "                    for x, values in ancestors.items()}\n",
    "dict(list(ancestors_labels.items())[:5])"
   ]
  },
  {
   "cell_type": "code",
   "execution_count": 11,
   "metadata": {
    "execution": {
     "iopub.execute_input": "2024-12-10T10:12:26.063181Z",
     "iopub.status.busy": "2024-12-10T10:12:26.062757Z",
     "iopub.status.idle": "2024-12-10T10:12:26.269179Z",
     "shell.execute_reply": "2024-12-10T10:12:26.268148Z",
     "shell.execute_reply.started": "2024-12-10T10:12:26.063141Z"
    },
    "trusted": true
   },
   "outputs": [
    {
     "data": {
      "text/plain": [
       "{'Aortic aneurysm, familial abdominal': [{'aortic aneurysm, familial abdominal, 2'},\n",
       "  {'aortic aneurysm, familial abdominal, 1'},\n",
       "  {'aortic aneurysm, familial abdominal, 3'},\n",
       "  {'aortic aneurysm, familial abdominal, 4'},\n",
       "  {'Aortic aneurysm, familial abdominal'}],\n",
       " 'Adams-Oliver syndrome': [{'adams-oliver syndrome 2'},\n",
       "  {'adams-oliver syndrome 1'},\n",
       "  {'adams-oliver syndrome 6'},\n",
       "  {'adams-oliver syndrome 4'},\n",
       "  {'adams-oliver syndrome 3'},\n",
       "  {'Adams-Oliver syndrome'},\n",
       "  {'adams-oliver syndrome 5'}],\n",
       " 'Acrodysostosis': [{'Acrodysostosis'},\n",
       "  {'acrodysostosis 2 with or without hormone resistance'},\n",
       "  {'acrodysostosis 1 with or without hormone resistance'}],\n",
       " 'Pituitary adenoma': [{'Pituitary adenoma'},\n",
       "  {'pituitary adenoma 2, growth hormone-secreting'},\n",
       "  {'pituitary adenoma 4, acth-secreting'},\n",
       "  {'pituitary adenoma 3, multiple types'},\n",
       "  {'pituitary adenoma 5, multiple types'},\n",
       "  {'pituitary adenoma 1, multiple types'}],\n",
       " 'Restless legs syndrome': [{'restless legs syndrome, susceptibility to, 5'},\n",
       "  {'restless legs syndrome, susceptibility to, 3'},\n",
       "  {'restless legs syndrome, susceptibility to, 1'},\n",
       "  {'Restless legs syndrome'},\n",
       "  {'restless legs syndrome, susceptibility to, 2'},\n",
       "  {'restless legs syndrome, susceptibility to, 4'},\n",
       "  {'restless legs syndrome, susceptibility to, 7'},\n",
       "  {'restless legs syndrome, susceptibility to, 6'},\n",
       "  {'restless legs syndrome, susceptibility to, 8'}]}"
      ]
     },
     "execution_count": 11,
     "metadata": {},
     "output_type": "execute_result"
    }
   ],
   "source": [
    "descendants = {x: values for x in onto_src.getClasses() if len(values:=onto_src.getDescendants(x)) > 2}\n",
    "descendant_names = {'\\n'.join(onto_src.getPrefferedLabels(x)): \n",
    "            [onto_src.getPrefferedLabels(y) for y in values] for x, values in descendants.items()}\n",
    "dict(list(descendant_names.items())[:5])"
   ]
  },
  {
   "cell_type": "code",
   "execution_count": 10,
   "metadata": {
    "execution": {
     "iopub.execute_input": "2024-12-10T10:23:03.288899Z",
     "iopub.status.busy": "2024-12-10T10:23:03.288638Z",
     "iopub.status.idle": "2024-12-10T10:23:03.327424Z",
     "shell.execute_reply": "2024-12-10T10:23:03.326805Z",
     "shell.execute_reply.started": "2024-12-10T10:23:03.288874Z"
    },
    "trusted": true
   },
   "outputs": [
    {
     "data": {
      "text/plain": [
       "{entry.100070: {'AAA1'},\n",
       " entry.100100: {'PBS'},\n",
       " entry.100300: {'AOS1'},\n",
       " entry.100800: {'ACH'},\n",
       " entry.101000: {'NF2'},\n",
       " entry.101400: {'SCS'},\n",
       " entry.101800: {'ACRDYS1'},\n",
       " entry.101850: {'PPKP3'},\n",
       " entry.101900: {'AKV'},\n",
       " entry.102200: {'PITA1'}}"
      ]
     },
     "execution_count": 10,
     "metadata": {},
     "output_type": "execute_result"
    }
   ],
   "source": [
    "synonyms = {x:values for x in onto_src.getClasses() if len(values:=onto_src.getSynonymsNames(x))>0}\n",
    "dict(list(synonyms.items())[:10])"
   ]
  },
  {
   "cell_type": "code",
   "execution_count": 11,
   "metadata": {
    "execution": {
     "iopub.execute_input": "2024-12-10T10:23:03.328490Z",
     "iopub.status.busy": "2024-12-10T10:23:03.328274Z",
     "iopub.status.idle": "2024-12-10T10:23:03.370582Z",
     "shell.execute_reply": "2024-12-10T10:23:03.369754Z",
     "shell.execute_reply.started": "2024-12-10T10:23:03.328467Z"
    },
    "trusted": true
   },
   "outputs": [
    {
     "data": {
      "text/plain": [
       "{entry.100070: {'AAA1', 'aortic aneurysm, familial abdominal, 1'},\n",
       " entry.100100: {'PBS', 'prune belly syndrome'},\n",
       " entry.100300: {'AOS1', 'adams-oliver syndrome 1'},\n",
       " entry.100800: {'ACH', 'achondroplasia'},\n",
       " entry.101000: {'NF2', 'neurofibromatosis,  iia 2'},\n",
       " entry.101400: {'SCS', 'saethre-chotzen syndrome'},\n",
       " entry.101800: {'ACRDYS1',\n",
       "  'acrodysostosis 1 with or without hormone resistance'},\n",
       " entry.101850: {'PPKP3', 'palmoplantar keratoderma, punctate  iia 3'},\n",
       " entry.101900: {'AKV', 'acrokeratosis verruciformis'},\n",
       " entry.102200: {'PITA1', 'pituitary adenoma 1, multiple types'}}"
      ]
     },
     "execution_count": 11,
     "metadata": {},
     "output_type": "execute_result"
    }
   ],
   "source": [
    "annotation_labels = {x:values for x in onto_src.getClasses() if len(values:=onto_src.getAnnotationNames(x))>1}\n",
    "dict(list(annotation_labels.items())[:10])"
   ]
  },
  {
   "cell_type": "code",
   "execution_count": 12,
   "metadata": {
    "execution": {
     "iopub.execute_input": "2024-12-10T10:23:03.374184Z",
     "iopub.status.busy": "2024-12-10T10:23:03.373672Z",
     "iopub.status.idle": "2024-12-10T10:23:04.608221Z",
     "shell.execute_reply": "2024-12-10T10:23:04.607339Z",
     "shell.execute_reply.started": "2024-12-10T10:23:03.374155Z"
    },
    "trusted": true
   },
   "outputs": [
    {
     "data": {
      "text/plain": [
       "{ORDO.Orphanet_100006: {'ABeta amyloidosis, Dutch type',\n",
       "  'ABetaE22Q amyloidosis',\n",
       "  'HCHWA, Dutch type',\n",
       "  'HCHWA-D',\n",
       "  'Hereditary cerebral hemorrhage with amyloidosis, Dutch type'},\n",
       " ORDO.Orphanet_100008: {'ACys amyloidosis',\n",
       "  'CST3-related amyloidosis',\n",
       "  'Cystatin amyloidosis',\n",
       "  'HCHWA, Icelandic type',\n",
       "  'Hereditary cerebral hemorrhage with amyloidosis, Icelandic type',\n",
       "  'Hereditary cystatin C amyloid angiopathy'},\n",
       " ORDO.Orphanet_100025: {'Alpha-HCD',\n",
       "  'Alpha-heavy chain disease',\n",
       "  'IPSID',\n",
       "  'Immunoproliferative small intestinal disease',\n",
       "  'Mediterranean lymphoma'},\n",
       " ORDO.Orphanet_100026: {'Franklin disease',\n",
       "  'Gamma-HCD',\n",
       "  'Gamma-heavy chain disease'},\n",
       " ORDO.Orphanet_100050: {'HAE 1',\n",
       "  'HAE-I',\n",
       "  'Hereditary angioedema type 1',\n",
       "  'Hereditary angioneurotic edema type 1'},\n",
       " ORDO.Orphanet_528623: {'HAE with C1 inhibitor deficiency',\n",
       "  'HAE with C1Inh deficiency',\n",
       "  'Hereditary angioedema with C1Inh deficiency',\n",
       "  'Hereditary angioneurotic edema with C1 inhibitor deficiency',\n",
       "  'Hereditary angioneurotic edema with C1Inh deficiency'},\n",
       " ORDO.Orphanet_100051: {'HAE 2',\n",
       "  'HAE-II',\n",
       "  'Hereditary angioedema type 2',\n",
       "  'Hereditary angioneurotic edema type 2'},\n",
       " ORDO.Orphanet_100054: {'F12-related HAE with normal C1 inhibitor',\n",
       "  'F12-related hereditary angioedema with normal C1Inh',\n",
       "  'HAE 3',\n",
       "  'HAE-III',\n",
       "  'Hereditary angioedema type 3',\n",
       "  'Hereditary angioneurotic edema type 3',\n",
       "  'Inherited estrogen-associated angioedema',\n",
       "  'Inherited estrogen-associated angioneurotic edema',\n",
       "  'Inherited estrogen-dependent angioedema',\n",
       "  'Inherited estrogen-dependent angioneurotic edema'},\n",
       " ORDO.Orphanet_528647: {'HAE with normal C1 inhibitor',\n",
       "  'HAE with normal C1Inh',\n",
       "  'Hereditary angioedema with normal C1 inhibitor',\n",
       "  'Hereditary angioedema with normal C1Inh',\n",
       "  'Hereditary angioneurotic edema with normal C1 inhibitor',\n",
       "  'Hereditary angioneurotic edema with normal C1Inh'},\n",
       " ORDO.Orphanet_100055: {'AAE 2',\n",
       "  'AAE II',\n",
       "  'Acquired angioedema type 2',\n",
       "  'Acquired angioneurotic edema type 2'}}"
      ]
     },
     "execution_count": 12,
     "metadata": {},
     "output_type": "execute_result"
    }
   ],
   "source": [
    "annotation_labels = {x:values for x in onto_tgt.getClasses() if len(values:=onto_tgt.getAnnotationNames(x))>2}\n",
    "dict(list(annotation_labels.items())[:10])"
   ]
  },
  {
   "cell_type": "markdown",
   "metadata": {},
   "source": [
    "## Prompting"
   ]
  },
  {
   "cell_type": "code",
   "execution_count": 13,
   "metadata": {
    "execution": {
     "iopub.execute_input": "2024-12-10T10:23:04.609758Z",
     "iopub.status.busy": "2024-12-10T10:23:04.609421Z",
     "iopub.status.idle": "2024-12-10T10:23:04.619476Z",
     "shell.execute_reply": "2024-12-10T10:23:04.618554Z",
     "shell.execute_reply.started": "2024-12-10T10:23:04.609721Z"
    },
    "trusted": true
   },
   "outputs": [],
   "source": [
    "class OntologyEntryAttr:\n",
    "    ## TODO: Add more attributes: direct children and parents\n",
    "    def __init__(self, class_uri, onto: OntologyAccess, class_id=None):\n",
    "        assert class_uri is not None or class_id is not None\n",
    "        if class_uri is not None:\n",
    "            self.class_id = onto.getClassByURI(class_uri)\n",
    "        else:\n",
    "            self.class_id = class_id\n",
    "        assert self.class_id is not None\n",
    "        self.annotation = {'class': self.class_id}\n",
    "        self.onto:OntologyAccess = onto\n",
    "        self.annotateEntry(onto)\n",
    "\n",
    "    def annotateEntry(self, onto: OntologyAccess):\n",
    "        logging.debug(f\"Annotating {self.class_id}\")\n",
    "        self.annotation['children'] = onto.getDescendants(self.class_id)\n",
    "        self.annotation['parents'] = onto.getAncestors(self.class_id)\n",
    "        self.annotation['synonyms'] = onto.getSynonymsNames(self.class_id)\n",
    "        self.annotation['names'] = onto.getAnnotationNames(self.class_id)\n",
    "\n",
    "    def getAllEntetyNames(self):\n",
    "        return self.annotation['names']\n",
    "\n",
    "    def getSynonyms(self):\n",
    "        return self.annotation['synonyms']\n",
    "    \n",
    "    def getChildren(self, skip_itself=True):\n",
    "        result = self.annotation['children']\n",
    "        if skip_itself:\n",
    "            result = result.difference({self.class_id})\n",
    "        return result\n",
    "\n",
    "    def getParents(self, skip_itself=True):\n",
    "        result = self.annotation['parents']\n",
    "        if skip_itself:\n",
    "            result = result.difference({self.class_id})\n",
    "        return result\n",
    "\n",
    "    def getParentsPreferredNames(self, skip_itself=True):\n",
    "        labels = []\n",
    "        for parent in self.getParents(skip_itself=skip_itself):\n",
    "            preffered = self.onto.getPrefferedLabels(parent)\n",
    "            if preffered:\n",
    "                labels.append(preffered)\n",
    "            else:\n",
    "                labels.append({parent})\n",
    "        return labels\n",
    "\n",
    "    def getChildredPreferredNames(self, skip_itself=True):\n",
    "        return [preffered if (preffered := self.onto.getPrefferedLabels(child)) else {child}\n",
    "                for child in self.getChildren(skip_itself=skip_itself)]\n",
    "\n",
    "    def __repr__(self):\n",
    "        return str(self.annotation)\n",
    "\n",
    "    def __str__(self):\n",
    "        return str(self.annotation)"
   ]
  },
  {
   "cell_type": "code",
   "execution_count": 14,
   "metadata": {
    "execution": {
     "iopub.execute_input": "2024-12-10T10:23:04.620685Z",
     "iopub.status.busy": "2024-12-10T10:23:04.620446Z",
     "iopub.status.idle": "2024-12-10T10:23:04.674656Z",
     "shell.execute_reply": "2024-12-10T10:23:04.674018Z",
     "shell.execute_reply.started": "2024-12-10T10:23:04.620661Z"
    },
    "trusted": true
   },
   "outputs": [],
   "source": [
    "source_entity_uri = 'http://omim.org/entry/609560' #'http://omim.org/entry/100070'\n",
    "target_entity_uri = 'http://www.orpha.net/ORDO/Orphanet_254875' #'http://omim.org/entry/101900'\n",
    "source_entry = OntologyEntryAttr(source_entity_uri, onto_src)\n",
    "target_entity = OntologyEntryAttr(target_entity_uri, onto_tgt)"
   ]
  },
  {
   "cell_type": "code",
   "execution_count": 15,
   "metadata": {
    "execution": {
     "iopub.execute_input": "2024-12-10T10:23:04.675696Z",
     "iopub.status.busy": "2024-12-10T10:23:04.675490Z",
     "iopub.status.idle": "2024-12-10T10:23:04.681328Z",
     "shell.execute_reply": "2024-12-10T10:23:04.680504Z",
     "shell.execute_reply.started": "2024-12-10T10:23:04.675674Z"
    },
    "trusted": true
   },
   "outputs": [
    {
     "data": {
      "text/plain": [
       "{'class': entry.609560, 'children': {entry.609560}, 'parents': {phenotypicSeries.PS603041, owl.Thing, entry.609560}, 'synonyms': {'MTDPS2'}, 'names': {'MTDPS2', 'mitochondrial DNA depletion syndrome 2 (myopathic type)'}}"
      ]
     },
     "metadata": {},
     "output_type": "display_data"
    },
    {
     "name": "stdout",
     "output_type": "stream",
     "text": [
      "{'class': ORDO.Orphanet_254875, 'children': {ORDO.Orphanet_254875}, 'parents': {ORDO.Orphanet_254875, ORDO.Orphanet_C001, ORDO.Orphanet_377788, owl.Thing}, 'synonyms': {'mtDNA depletion syndrome, myopathic form'}, 'names': {'Mitochondrial DNA depletion syndrome, myopathic form', 'mtDNA depletion syndrome, myopathic form'}}\n"
     ]
    }
   ],
   "source": [
    "display(source_entry)\n",
    "print(target_entity)"
   ]
  },
  {
   "cell_type": "code",
   "execution_count": 16,
   "metadata": {
    "execution": {
     "iopub.execute_input": "2024-12-10T10:23:04.682744Z",
     "iopub.status.busy": "2024-12-10T10:23:04.682500Z",
     "iopub.status.idle": "2024-12-10T10:23:04.690955Z",
     "shell.execute_reply": "2024-12-10T10:23:04.690302Z",
     "shell.execute_reply.started": "2024-12-10T10:23:04.682720Z"
    },
    "trusted": true
   },
   "outputs": [
    {
     "name": "stdout",
     "output_type": "stream",
     "text": [
      " Source entity names: {'MTDPS2', 'mitochondrial DNA depletion syndrome 2 (myopathic type)'}\n",
      " Source entity synonyms: {'MTDPS2'}\n",
      " Source entity children names: [{'mitochondrial DNA depletion syndrome 2 (myopathic type)'}]\n",
      " Source entity children names: []\n",
      " Source entity parents names: [{owl.Thing}, {'Mitochondrial DNA depletion syndrome'}]\n",
      " Source entity parents: {owl.Thing, phenotypicSeries.PS603041}\n"
     ]
    }
   ],
   "source": [
    "print(f\" Source entity names: {source_entry.getAllEntetyNames()}\")\n",
    "print(f\" Source entity synonyms: {source_entry.getSynonyms()}\")\n",
    "print(f\" Source entity children names: {source_entry.getChildredPreferredNames(skip_itself=False)}\")\n",
    "print(f\" Source entity children names: {source_entry.getChildredPreferredNames(skip_itself=True)}\")\n",
    "print(f\" Source entity parents names: {source_entry.getParentsPreferredNames()}\")\n",
    "print(f\" Source entity parents: {source_entry.getParents()}\")"
   ]
  },
  {
   "cell_type": "code",
   "execution_count": 19,
   "metadata": {
    "execution": {
     "iopub.execute_input": "2024-12-10T10:12:59.831806Z",
     "iopub.status.busy": "2024-12-10T10:12:59.831451Z",
     "iopub.status.idle": "2024-12-10T10:12:59.837602Z",
     "shell.execute_reply": "2024-12-10T10:12:59.836628Z",
     "shell.execute_reply.started": "2024-12-10T10:12:59.831776Z"
    },
    "trusted": true
   },
   "outputs": [],
   "source": [
    "def composePrompt(source_entry:OntologyEntryAttr, target_entry:OntologyEntryAttr):\n",
    "    return f\"\"\"\n",
    "**Task Description:**\n",
    "Given two sets of concepts with their names, parent relationships, and child relationships, determine if these concepts are identical. Evaluate based on the provided names and hierarchical structures.\n",
    "**Template for Alignment:**\n",
    "\n",
    "1. **Source Concept:**\n",
    "**Names:** [List of source concept names]\n",
    "**Parent Concepts:** [List of source concept's parent names]\n",
    "**Child Concepts:** [List of source concept's child names]\n",
    "2. **Target Concept:**\n",
    "**Names:** [List of target concept names]\n",
    "**Parent Concepts:** [List of target concept's parent names]\n",
    "**Child Concepts:** [List of target concept's child names]\n",
    "**Determine Concept Equivalence:**\n",
    "Analyze whether the source and target concepts are equivalent based on names, parent concepts, and child concepts. Provide your conclusion (\"Yes\" for identical, \"No\" for different).\n",
    "\n",
    "**Example Prompts (Few-Shot Examples):**\n",
    "\n",
    "1. **Example 1:**\n",
    "Source Concept Names: [e.g., \"Entity_A\"]\n",
    "Parent of Source Concept: [e.g., \"Parent_A\"]\n",
    "Child of Source Concept: [e.g., \"Child_A\"]\n",
    "Target Concept Names: [e.g., \"Entity_B\"]\n",
    "Parent of Target Concept: [e.g., \"Parent_B\"]\n",
    "Child of Target Concept: [e.g., \"Child_B\"]\n",
    "\n",
    "**Conclusion:** No\n",
    "\n",
    "2. **Example 2:**\n",
    "Source Concept Names: [e.g., \"Entity_X\"]\n",
    "Parent of Source Concept: [e.g., \"Parent_X\"]\n",
    "Child of Source Concept: [e.g., \"Child_X\"]\n",
    "Target Concept Names: [e.g., \"Entity_X\"]\n",
    "Parent of Target Concept: [e.g., \"Parent_X\"]\n",
    "Child of Target Concept: [e.g., \"Child_X\"]\n",
    "**Conclusion:** Yes\n",
    "**Now Answer:**\n",
    "\n",
    "Source Concept Names: {source_entry.getAllEntetyNames()}\n",
    "Parent of Source Concept: {source_entry.getParentsPreferredNames()}\n",
    "Child of Source Concept: {source_entry.getChildredPreferredNames()}\n",
    "Target Concept Names: {target_entry.getAllEntetyNames()}\n",
    "Parent of Target Concept: {target_entry.getParentsPreferredNames()}\n",
    "Child of Target Concept: {target_entry.getChildredPreferredNames()}\n",
    "\"\"\" "
   ]
  },
  {
   "cell_type": "code",
   "execution_count": 20,
   "metadata": {
    "execution": {
     "iopub.execute_input": "2024-12-10T10:13:03.202650Z",
     "iopub.status.busy": "2024-12-10T10:13:03.201983Z",
     "iopub.status.idle": "2024-12-10T10:13:03.255152Z",
     "shell.execute_reply": "2024-12-10T10:13:03.254292Z",
     "shell.execute_reply.started": "2024-12-10T10:13:03.202609Z"
    },
    "trusted": true
   },
   "outputs": [
    {
     "name": "stdout",
     "output_type": "stream",
     "text": [
      "\n",
      "**Task Description:**\n",
      "Given two sets of concepts with their names, parent relationships, and child relationships, determine if these concepts are identical. Evaluate based on the provided names and hierarchical structures.\n",
      "**Template for Alignment:**\n",
      "\n",
      "1. **Source Concept:**\n",
      "**Names:** [List of source concept names]\n",
      "**Parent Concepts:** [List of source concept's parent names]\n",
      "**Child Concepts:** [List of source concept's child names]\n",
      "2. **Target Concept:**\n",
      "**Names:** [List of target concept names]\n",
      "**Parent Concepts:** [List of target concept's parent names]\n",
      "**Child Concepts:** [List of target concept's child names]\n",
      "**Determine Concept Equivalence:**\n",
      "Analyze whether the source and target concepts are equivalent based on names, parent concepts, and child concepts. Provide your conclusion (\"Yes\" for identical, \"No\" for different).\n",
      "\n",
      "**Example Prompts (Few-Shot Examples):**\n",
      "\n",
      "1. **Example 1:**\n",
      "Source Concept Names: [e.g., \"Entity_A\"]\n",
      "Parent of Source Concept: [e.g., \"Parent_A\"]\n",
      "Child of Source Concept: [e.g., \"Child_A\"]\n",
      "Target Concept Names: [e.g., \"Entity_B\"]\n",
      "Parent of Target Concept: [e.g., \"Parent_B\"]\n",
      "Child of Target Concept: [e.g., \"Child_B\"]\n",
      "\n",
      "**Conclusion:** No\n",
      "\n",
      "2. **Example 2:**\n",
      "Source Concept Names: [e.g., \"Entity_X\"]\n",
      "Parent of Source Concept: [e.g., \"Parent_X\"]\n",
      "Child of Source Concept: [e.g., \"Child_X\"]\n",
      "Target Concept Names: [e.g., \"Entity_X\"]\n",
      "Parent of Target Concept: [e.g., \"Parent_X\"]\n",
      "Child of Target Concept: [e.g., \"Child_X\"]\n",
      "**Conclusion:** Yes\n",
      "**Now Answer:**\n",
      "\n",
      "Source Concept Names: {'MTDPS2', 'mitochondrial DNA depletion syndrome 2 (myopathic type)'}\n",
      "Parent of Source Concept: [{'Mitochondrial DNA depletion syndrome'}, {owl.Thing}]\n",
      "Child of Source Concept: []\n",
      "Target Concept Names: {'mtDNA depletion syndrome, myopathic form', 'Mitochondrial DNA depletion syndrome, myopathic form'}\n",
      "Parent of Target Concept: [{owl.Thing}, {'disease'}, {'clinical entity'}]\n",
      "Child of Target Concept: []\n",
      "\n"
     ]
    }
   ],
   "source": [
    "source_entity_uri = 'http://omim.org/entry/609560' #'http://omim.org/entry/100070'\n",
    "target_entity_uri = 'http://www.orpha.net/ORDO/Orphanet_254875' #'http://omim.org/entry/101900'\n",
    "source_entity = OntologyEntryAttr(source_entity_uri, onto_src)\n",
    "target_entity = OntologyEntryAttr(target_entity_uri, onto_tgt)\n",
    "demo_prompt = composePrompt(source_entity, target_entity)\n",
    "print(demo_prompt)"
   ]
  },
  {
   "cell_type": "code",
   "execution_count": 21,
   "metadata": {
    "execution": {
     "iopub.execute_input": "2024-12-10T10:13:05.803236Z",
     "iopub.status.busy": "2024-12-10T10:13:05.802889Z",
     "iopub.status.idle": "2024-12-10T10:13:16.539961Z",
     "shell.execute_reply": "2024-12-10T10:13:16.539000Z",
     "shell.execute_reply.started": "2024-12-10T10:13:05.803205Z"
    },
    "trusted": true
   },
   "outputs": [
    {
     "name": "stderr",
     "output_type": "stream",
     "text": [
      "The attention mask and the pad token id were not set. As a consequence, you may observe unexpected behavior. Please pass your input's `attention_mask` to obtain reliable results.\n",
      "Setting `pad_token_id` to `eos_token_id`:None for open-end generation.\n"
     ]
    },
    {
     "name": "stdout",
     "output_type": "stream",
     "text": [
      "**Conclusion:** No\n",
      "\n",
      "The source concept and target concept have different names, even though they seem to refer to the same entity (Mitochondrial DNA depletion syndrome, myopathic type). However, the hierarchical structures are not identical. The source concept does not have any parent concepts specified, while the target concept has multiple parent concepts, including 'disease' and 'clinical entity'. Therefore, they are not equivalent based on the provided information.\n"
     ]
    }
   ],
   "source": [
    "response = mistral.ask_question(demo_prompt)\n",
    "print(response)"
   ]
  },
  {
   "cell_type": "markdown",
   "metadata": {},
   "source": [
    "## Local matching"
   ]
  },
  {
   "cell_type": "code",
   "execution_count": 17,
   "metadata": {
    "execution": {
     "iopub.execute_input": "2024-12-10T10:23:04.692115Z",
     "iopub.status.busy": "2024-12-10T10:23:04.691862Z",
     "iopub.status.idle": "2024-12-10T10:23:05.025126Z",
     "shell.execute_reply": "2024-12-10T10:23:05.024449Z",
     "shell.execute_reply.started": "2024-12-10T10:23:04.692084Z"
    },
    "trusted": true
   },
   "outputs": [],
   "source": [
    "import pandas as pd\n",
    "test_candidates_path = DATASET_PATH / \"omim-ordo/refs_equiv/test.cands.tsv\"\n",
    "test_candidates = pd.read_csv(test_candidates_path, sep='\\t')\n",
    "test_candidates['TgtCandidates'] = test_candidates['TgtCandidates'].str.strip(\"('\").str.strip(\"')\").str.split(\"', '\")"
   ]
  },
  {
   "cell_type": "code",
   "execution_count": 141,
   "metadata": {
    "execution": {
     "iopub.execute_input": "2024-11-12T11:49:37.729933Z",
     "iopub.status.busy": "2024-11-12T11:49:37.729500Z",
     "iopub.status.idle": "2024-11-12T11:49:37.748089Z",
     "shell.execute_reply": "2024-11-12T11:49:37.747012Z",
     "shell.execute_reply.started": "2024-11-12T11:49:37.729892Z"
    },
    "trusted": true
   },
   "outputs": [
    {
     "data": {
      "text/html": [
       "<div>\n",
       "<style scoped>\n",
       "    .dataframe tbody tr th:only-of-type {\n",
       "        vertical-align: middle;\n",
       "    }\n",
       "\n",
       "    .dataframe tbody tr th {\n",
       "        vertical-align: top;\n",
       "    }\n",
       "\n",
       "    .dataframe thead th {\n",
       "        text-align: right;\n",
       "    }\n",
       "</style>\n",
       "<table border=\"1\" class=\"dataframe\">\n",
       "  <thead>\n",
       "    <tr style=\"text-align: right;\">\n",
       "      <th></th>\n",
       "      <th>SrcEntity</th>\n",
       "      <th>TgtEntity</th>\n",
       "      <th>TgtCandidates</th>\n",
       "    </tr>\n",
       "  </thead>\n",
       "  <tbody>\n",
       "    <tr>\n",
       "      <th>0</th>\n",
       "      <td>http://www.omim.org/phenotypicSeries/PS309510</td>\n",
       "      <td>http://www.orpha.net/ORDO/Orphanet_98464</td>\n",
       "      <td>[http://www.orpha.net/ORDO/Orphanet_93406, htt...</td>\n",
       "    </tr>\n",
       "    <tr>\n",
       "      <th>1</th>\n",
       "      <td>http://omim.org/entry/615075</td>\n",
       "      <td>http://www.orpha.net/ORDO/Orphanet_404473</td>\n",
       "      <td>[http://www.orpha.net/ORDO/Orphanet_157791, ht...</td>\n",
       "    </tr>\n",
       "    <tr>\n",
       "      <th>2</th>\n",
       "      <td>http://omim.org/entry/613724</td>\n",
       "      <td>http://www.orpha.net/ORDO/Orphanet_163684</td>\n",
       "      <td>[http://www.orpha.net/ORDO/Orphanet_639, http:...</td>\n",
       "    </tr>\n",
       "    <tr>\n",
       "      <th>3</th>\n",
       "      <td>http://omim.org/entry/602066</td>\n",
       "      <td>http://www.orpha.net/ORDO/Orphanet_31709</td>\n",
       "      <td>[http://www.orpha.net/ORDO/Orphanet_99141, htt...</td>\n",
       "    </tr>\n",
       "    <tr>\n",
       "      <th>4</th>\n",
       "      <td>http://omim.org/entry/167730</td>\n",
       "      <td>http://www.orpha.net/ORDO/Orphanet_2399</td>\n",
       "      <td>[http://www.orpha.net/ORDO/Orphanet_1475, http...</td>\n",
       "    </tr>\n",
       "  </tbody>\n",
       "</table>\n",
       "</div>"
      ],
      "text/plain": [
       "                                       SrcEntity  \\\n",
       "0  http://www.omim.org/phenotypicSeries/PS309510   \n",
       "1                   http://omim.org/entry/615075   \n",
       "2                   http://omim.org/entry/613724   \n",
       "3                   http://omim.org/entry/602066   \n",
       "4                   http://omim.org/entry/167730   \n",
       "\n",
       "                                   TgtEntity  \\\n",
       "0   http://www.orpha.net/ORDO/Orphanet_98464   \n",
       "1  http://www.orpha.net/ORDO/Orphanet_404473   \n",
       "2  http://www.orpha.net/ORDO/Orphanet_163684   \n",
       "3   http://www.orpha.net/ORDO/Orphanet_31709   \n",
       "4    http://www.orpha.net/ORDO/Orphanet_2399   \n",
       "\n",
       "                                       TgtCandidates  \n",
       "0  [http://www.orpha.net/ORDO/Orphanet_93406, htt...  \n",
       "1  [http://www.orpha.net/ORDO/Orphanet_157791, ht...  \n",
       "2  [http://www.orpha.net/ORDO/Orphanet_639, http:...  \n",
       "3  [http://www.orpha.net/ORDO/Orphanet_99141, htt...  \n",
       "4  [http://www.orpha.net/ORDO/Orphanet_1475, http...  "
      ]
     },
     "execution_count": 141,
     "metadata": {},
     "output_type": "execute_result"
    }
   ],
   "source": [
    "test_candidates.head()"
   ]
  },
  {
   "cell_type": "code",
   "execution_count": 155,
   "metadata": {},
   "outputs": [],
   "source": [
    "# src_onto_path = DATASET_PATH / 'omim-ordo/omim.owl'\n",
    "# tgt_onto_path = DATASET_PATH / 'omim-ordo/ordo.owl'\n",
    "\n",
    "# onto_src = OntologyAccess(src_onto_path, annotate_on_init=True)\n",
    "# onto_tgt = OntologyAccess(tgt_onto_path, annotate_on_init=True)"
   ]
  },
  {
   "cell_type": "code",
   "execution_count": null,
   "metadata": {},
   "outputs": [],
   "source": [
    "def dummy_prompt(src_entety:OntologyEntryAttr, tgt_entety:OntologyEntryAttr):\n",
    "    return f\"\"\"\n",
    "    **Task Description:**\n",
    "    Given two entities from different ontologies with their names, parent relationships, and child relationships, determine if these concepts are the same:\n",
    "\n",
    "    1. **Source Entity:**\n",
    "    **All Entity names:** {src_entety.getAllEntetyNames()}\n",
    "    **Parent Entity Namings:** {src_entety.getParentsPreferredNames()}\n",
    "    **Child Entity Namings:** {src_entety.getChildredPreferredNames()}\n",
    "\n",
    "    2. **Target Entity:**\n",
    "    **All Entity names:** {tgt_entety.getAllEntetyNames()}\n",
    "    **Parent Entity Namings:** {tgt_entety.getParentsPreferredNames()}\n",
    "    **Child Entity Namings:** {tgt_entety.getChildredPreferredNames()}\n",
    "\n",
    "    Write \"Yes\" if the entities refer to the same concepts, and \"No\" otherwise.\n",
    "    \"\"\"\n",
    "\n",
    "def dummy_answer_extraction(response:str):\n",
    "    \"\"\"\n",
    "    Returns 'Yes', 'No' or None based on the response, \n",
    "    Decision is made based on the presence of positive or negative words in the response\n",
    "    \"\"\"\n",
    "    response = response.lower().strip()\n",
    "    positive_words = [\"yes\", \"yeah\", \"yep\", \"correct\", \"true\"]\n",
    "    negative_words = [\"no\", \"nah\", \"nope\", \"wrong\", \"false\"]\n",
    "    is_positive = any([word in response for word in positive_words])\n",
    "    is_negative = any([word in response for word in negative_words])\n",
    "    if is_positive and not is_negative:\n",
    "        return \"Yes\"\n",
    "    elif is_negative and not is_positive:\n",
    "        return \"No\"\n",
    "    elif not is_positive and not is_negative:\n",
    "        return None\n",
    "    response = response.split('\\n')\n",
    "    for line in response:\n",
    "        if \"yes\" in line:\n",
    "            return \"Yes\"\n",
    "        elif \"no\" in line:\n",
    "            return \"No\"\n",
    "    return None\n",
    "    "
   ]
  },
  {
   "cell_type": "code",
   "execution_count": 18,
   "metadata": {
    "execution": {
     "iopub.execute_input": "2024-12-10T10:23:05.026443Z",
     "iopub.status.busy": "2024-12-10T10:23:05.026179Z",
     "iopub.status.idle": "2024-12-10T10:23:05.049975Z",
     "shell.execute_reply": "2024-12-10T10:23:05.049258Z",
     "shell.execute_reply.started": "2024-12-10T10:23:05.026418Z"
    },
    "trusted": true
   },
   "outputs": [
    {
     "data": {
      "text/html": [
       "<div>\n",
       "<style scoped>\n",
       "    .dataframe tbody tr th:only-of-type {\n",
       "        vertical-align: middle;\n",
       "    }\n",
       "\n",
       "    .dataframe tbody tr th {\n",
       "        vertical-align: top;\n",
       "    }\n",
       "\n",
       "    .dataframe thead th {\n",
       "        text-align: right;\n",
       "    }\n",
       "</style>\n",
       "<table border=\"1\" class=\"dataframe\">\n",
       "  <thead>\n",
       "    <tr style=\"text-align: right;\">\n",
       "      <th></th>\n",
       "      <th>SrcEntity</th>\n",
       "      <th>TgtCandidate</th>\n",
       "      <th>ModelAnswer</th>\n",
       "      <th>RealAnswer</th>\n",
       "    </tr>\n",
       "  </thead>\n",
       "  <tbody>\n",
       "    <tr>\n",
       "      <th>0</th>\n",
       "      <td>http://www.omim.org/phenotypicSeries/PS309510</td>\n",
       "      <td>http://www.orpha.net/ORDO/Orphanet_93406</td>\n",
       "      <td>NaN</td>\n",
       "      <td>No</td>\n",
       "    </tr>\n",
       "    <tr>\n",
       "      <th>1</th>\n",
       "      <td>http://www.omim.org/phenotypicSeries/PS309510</td>\n",
       "      <td>http://www.orpha.net/ORDO/Orphanet_181</td>\n",
       "      <td>NaN</td>\n",
       "      <td>No</td>\n",
       "    </tr>\n",
       "    <tr>\n",
       "      <th>2</th>\n",
       "      <td>http://www.omim.org/phenotypicSeries/PS309510</td>\n",
       "      <td>http://www.orpha.net/ORDO/Orphanet_3231</td>\n",
       "      <td>NaN</td>\n",
       "      <td>No</td>\n",
       "    </tr>\n",
       "    <tr>\n",
       "      <th>3</th>\n",
       "      <td>http://www.omim.org/phenotypicSeries/PS309510</td>\n",
       "      <td>http://www.orpha.net/ORDO/Orphanet_293642</td>\n",
       "      <td>NaN</td>\n",
       "      <td>No</td>\n",
       "    </tr>\n",
       "    <tr>\n",
       "      <th>4</th>\n",
       "      <td>http://www.omim.org/phenotypicSeries/PS309510</td>\n",
       "      <td>http://www.orpha.net/ORDO/Orphanet_90025</td>\n",
       "      <td>NaN</td>\n",
       "      <td>No</td>\n",
       "    </tr>\n",
       "    <tr>\n",
       "      <th>...</th>\n",
       "      <td>...</td>\n",
       "      <td>...</td>\n",
       "      <td>...</td>\n",
       "      <td>...</td>\n",
       "    </tr>\n",
       "    <tr>\n",
       "      <th>96</th>\n",
       "      <td>http://www.omim.org/phenotypicSeries/PS309510</td>\n",
       "      <td>http://www.orpha.net/ORDO/Orphanet_163209</td>\n",
       "      <td>NaN</td>\n",
       "      <td>No</td>\n",
       "    </tr>\n",
       "    <tr>\n",
       "      <th>97</th>\n",
       "      <td>http://www.omim.org/phenotypicSeries/PS309510</td>\n",
       "      <td>http://www.orpha.net/ORDO/Orphanet_225147</td>\n",
       "      <td>NaN</td>\n",
       "      <td>No</td>\n",
       "    </tr>\n",
       "    <tr>\n",
       "      <th>98</th>\n",
       "      <td>http://www.omim.org/phenotypicSeries/PS309510</td>\n",
       "      <td>http://www.orpha.net/ORDO/Orphanet_466084</td>\n",
       "      <td>NaN</td>\n",
       "      <td>No</td>\n",
       "    </tr>\n",
       "    <tr>\n",
       "      <th>99</th>\n",
       "      <td>http://www.omim.org/phenotypicSeries/PS309510</td>\n",
       "      <td>http://www.orpha.net/ORDO/Orphanet_183530</td>\n",
       "      <td>NaN</td>\n",
       "      <td>No</td>\n",
       "    </tr>\n",
       "    <tr>\n",
       "      <th>100</th>\n",
       "      <td>http://www.omim.org/phenotypicSeries/PS309510</td>\n",
       "      <td>http://www.orpha.net/ORDO/Orphanet_85275</td>\n",
       "      <td>NaN</td>\n",
       "      <td>No</td>\n",
       "    </tr>\n",
       "  </tbody>\n",
       "</table>\n",
       "<p>101 rows × 4 columns</p>\n",
       "</div>"
      ],
      "text/plain": [
       "                                         SrcEntity  \\\n",
       "0    http://www.omim.org/phenotypicSeries/PS309510   \n",
       "1    http://www.omim.org/phenotypicSeries/PS309510   \n",
       "2    http://www.omim.org/phenotypicSeries/PS309510   \n",
       "3    http://www.omim.org/phenotypicSeries/PS309510   \n",
       "4    http://www.omim.org/phenotypicSeries/PS309510   \n",
       "..                                             ...   \n",
       "96   http://www.omim.org/phenotypicSeries/PS309510   \n",
       "97   http://www.omim.org/phenotypicSeries/PS309510   \n",
       "98   http://www.omim.org/phenotypicSeries/PS309510   \n",
       "99   http://www.omim.org/phenotypicSeries/PS309510   \n",
       "100  http://www.omim.org/phenotypicSeries/PS309510   \n",
       "\n",
       "                                  TgtCandidate ModelAnswer RealAnswer  \n",
       "0     http://www.orpha.net/ORDO/Orphanet_93406         NaN         No  \n",
       "1       http://www.orpha.net/ORDO/Orphanet_181         NaN         No  \n",
       "2      http://www.orpha.net/ORDO/Orphanet_3231         NaN         No  \n",
       "3    http://www.orpha.net/ORDO/Orphanet_293642         NaN         No  \n",
       "4     http://www.orpha.net/ORDO/Orphanet_90025         NaN         No  \n",
       "..                                         ...         ...        ...  \n",
       "96   http://www.orpha.net/ORDO/Orphanet_163209         NaN         No  \n",
       "97   http://www.orpha.net/ORDO/Orphanet_225147         NaN         No  \n",
       "98   http://www.orpha.net/ORDO/Orphanet_466084         NaN         No  \n",
       "99   http://www.orpha.net/ORDO/Orphanet_183530         NaN         No  \n",
       "100   http://www.orpha.net/ORDO/Orphanet_85275         NaN         No  \n",
       "\n",
       "[101 rows x 4 columns]"
      ]
     },
     "execution_count": 18,
     "metadata": {},
     "output_type": "execute_result"
    }
   ],
   "source": [
    "test_case = test_candidates.iloc[0]\n",
    "\n",
    "test_case_results_df = pd.DataFrame(columns=['SrcEntity', 'TgtCandidate', 'ModelAnswer', 'RealAnswer'])\n",
    "test_case_results_df['TgtCandidate'] = test_case['TgtCandidates']\n",
    "test_case_results_df['SrcEntity'] = test_case['SrcEntity']\n",
    "test_case_results_df['RealAnswer'] = test_case_results_df['TgtCandidate'].apply(lambda x: \"Yes\" if x == test_case['TgtEntity'] else \"No\")\n",
    "test_case_results_df"
   ]
  },
  {
   "cell_type": "code",
   "execution_count": null,
   "metadata": {},
   "outputs": [
    {
     "name": "stdout",
     "output_type": "stream",
     "text": [
      "\n",
      "    **Task Description:**\n",
      "    Given two sets of concepts with their names, parent relationships, and child relationships, determine if these concepts are the same:\n",
      "\n",
      "    1. **Source Concept:**\n",
      "    **All its names:** {'Intellectual developmental disorder, X-linked syndromic'}\n",
      "    **Parent Concept Namings:** [{owl.Thing}]\n",
      "    **Child Concept Namings:** [{'intellectual developmental disorder, x-linked, syndromic 11'}, {'prieto X-linked mental retardation syndrome'}, {'basilicata-akhtar syndrome'}, {'mehmo syndrome'}, {'abidi X-linked mental retardation syndrome'}, {'corpus callosum, agenesis of, with impaired intellectual development, ocular coloboma, and micrognathia'}, {\"van esch-o'driscoll syndrome\"}, {'raynaud-claes syndrome'}, {'arts syndrome'}, {'intellectual developmental disorder, x-linked, syndromic, lubs  iia'}, {'intellectual developmental disorder, x-linked, syndromic 7'}, {'intellectual developmental disorder, x-linked, syndromic, siderius  iia'}, {'paganini-miozzo syndrome'}, {'partington syndrome'}, {'intellectual developmental disorder, x-linked, syndromic, snyder-robinson  iia'}, {'intellectual developmental disorder, x-linked, syndromic, christianson  iia'}, {'borjeson-forssman-lehmann syndrome'}, {'mental retardation, x-linked, syndromic, chudley-schwartz  iia'}, {'intellectual developmental disorder, x-linked, syndromic, stocco dos santos  iia'}, {'intellectual developmental disorder, x-linked, syndromic 34'}, {'wieacker-wolff syndrome'}, {'mental retardation, x-linked, syndromic 17'}, {'intellectual developmental disorder, x-linked, syndromic, lujan-fryns  iia'}, {'intellectual developmental disorder, x-linked, syndromic, snijders blok  iia'}, {'intellectual developmental disorder, x-linked, syndromic, 35'}, {'intellectual developmental disorder, x-linked, syndromic, hackmann-di donato  iia'}, {'mental retardation, x-linked, syndromic 12'}, {'intellectual developmental disorder, x-linked, syndromic 32'}, {'pettigrew syndrome'}, {'intellectual developmental disorder, x-linked, syndromic, hedera  iia'}, {'mental retardation, x-linked, syndromic 9'}, {'intellectual developmental disorder, x-linked, syndromic, turner  iia'}, {'intellectual developmental disorder, x-linked, syndromic, raymond  iia'}, {'intellectual developmental disorder, x-linked, syndromic 13'}, {'intellectual developmental disorder, x-linked, syndromic, houge  iia'}, {'intellectual developmental disorder, x-linked, syndromic, armfield  iia'}, {'intellectual developmental disorder, x-linked, syndromic, billuart  iia'}, {'intellectual developmental disorder, x-linked, syndromic, bain  iia'}, {'tonne-kalscheuer syndrome'}, {'aarskog-scott syndrome'}, {'intellectual developmental disorder, x-linked, syndromic, wu  iia'}, {'intellectual developmental disorder, x-linked, syndromic, wilson-turner  iia'}, {'intellectual developmental disorder with microcephaly and pontine and cerebellar hypoplasia'}, {'fragile 10 syndrome'}, {'intellectual developmental disorder, x-linked, syndromic, cabezas  iia'}, {'intellectual developmental disorder, x-linked, syndromic, claes-jensen  iia'}, {'martin-probst syndrome'}, {'intellectual developmental disorder, x-linked, syndromic, nascimento  iia'}, {'intellectual developmental disorder, x-linked, syndromic 33'}, {'intellectual developmental disorder, X-linked 109'}, {'intellectual developmental disorder, x-linked, syndromic 14'}, {'renpenning syndrome 1'}]\n",
      "\n",
      "    2. **Target Concept:**\n",
      "    **All its names:** {'Syndactyly type 5', 'Postaxial syndactyly with metacarpal synostosis', 'SD5'}\n",
      "    **Parent Concept Namings:** [{owl.Thing}, {'morphological anomaly'}, {'clinical entity'}]\n",
      "    **Child Concept Namings:** []\n",
      "\n",
      "    Write \"Yes\" if the concepts refer to the same entity, and \"No\" otherwise.\n",
      "    \n"
     ]
    }
   ],
   "source": [
    "src_entity = OntologyEntryAttr(test_case['SrcEntity'], onto_src)\n",
    "tgt_entity = OntologyEntryAttr(test_case['TgtEntity'], onto_tgt)\n",
    "\n",
    "candidate_idx = 0\n",
    "candidate_entity = OntologyEntryAttr(test_case['TgtCandidates'][candidate_idx], onto_tgt)\n",
    "\n",
    "prompt = dummy_prompt(src_entity, candidate_entity)\n",
    "# model_response = mistral.ask_question(prompt)\n",
    "# pred_answer = dummy_answer_extraction(model_response)\n",
    "print(prompt)"
   ]
  },
  {
   "cell_type": "code",
   "execution_count": null,
   "metadata": {},
   "outputs": [],
   "source": [
    "import random\n",
    "# set logging level to ignore most of the logs\n",
    "logging.getLogger().setLevel(logging.WARNING)\n",
    "\n",
    "src_entity = OntologyEntryAttr(test_case['SrcEntity'], onto_src)\n",
    "for idx, row in test_case_results_df.iterrows():\n",
    "    candidate_entity = OntologyEntryAttr(row['TgtCandidate'], onto_tgt)\n",
    "    prompt = dummy_prompt(src_entity, candidate_entity)\n",
    "    # model_response = mistral.ask_question(prompt)\n",
    "    model_response = 'Yes.' if random.random() > 0.8 else 'No.'\n",
    "    pred_answer = dummy_answer_extraction(model_response)\n",
    "    test_case_results_df.loc[idx, 'ModelResponse'] = model_response\n",
    "    test_case_results_df.loc[idx, 'ModelAnswer'] = pred_answer\n",
    "    # print(prompt)"
   ]
  },
  {
   "cell_type": "code",
   "execution_count": 199,
   "metadata": {},
   "outputs": [
    {
     "name": "stdout",
     "output_type": "stream",
     "text": [
      "Number of positively labeled targets: 11\n"
     ]
    },
    {
     "data": {
      "text/html": [
       "<div>\n",
       "<style scoped>\n",
       "    .dataframe tbody tr th:only-of-type {\n",
       "        vertical-align: middle;\n",
       "    }\n",
       "\n",
       "    .dataframe tbody tr th {\n",
       "        vertical-align: top;\n",
       "    }\n",
       "\n",
       "    .dataframe thead th {\n",
       "        text-align: right;\n",
       "    }\n",
       "</style>\n",
       "<table border=\"1\" class=\"dataframe\">\n",
       "  <thead>\n",
       "    <tr style=\"text-align: right;\">\n",
       "      <th></th>\n",
       "      <th>SrcEntity</th>\n",
       "      <th>TgtCandidate</th>\n",
       "      <th>ModelAnswer</th>\n",
       "      <th>RealAnswer</th>\n",
       "    </tr>\n",
       "  </thead>\n",
       "  <tbody>\n",
       "    <tr>\n",
       "      <th>0</th>\n",
       "      <td>http://www.omim.org/phenotypicSeries/PS309510</td>\n",
       "      <td>http://www.orpha.net/ORDO/Orphanet_93406</td>\n",
       "      <td>Yes</td>\n",
       "      <td>No</td>\n",
       "    </tr>\n",
       "    <tr>\n",
       "      <th>9</th>\n",
       "      <td>http://www.omim.org/phenotypicSeries/PS309510</td>\n",
       "      <td>http://www.orpha.net/ORDO/Orphanet_48471</td>\n",
       "      <td>Yes</td>\n",
       "      <td>No</td>\n",
       "    </tr>\n",
       "    <tr>\n",
       "      <th>24</th>\n",
       "      <td>http://www.omim.org/phenotypicSeries/PS309510</td>\n",
       "      <td>http://www.orpha.net/ORDO/Orphanet_85274</td>\n",
       "      <td>Yes</td>\n",
       "      <td>No</td>\n",
       "    </tr>\n",
       "    <tr>\n",
       "      <th>25</th>\n",
       "      <td>http://www.omim.org/phenotypicSeries/PS309510</td>\n",
       "      <td>http://www.orpha.net/ORDO/Orphanet_295195</td>\n",
       "      <td>Yes</td>\n",
       "      <td>No</td>\n",
       "    </tr>\n",
       "    <tr>\n",
       "      <th>70</th>\n",
       "      <td>http://www.omim.org/phenotypicSeries/PS309510</td>\n",
       "      <td>http://www.orpha.net/ORDO/Orphanet_1576</td>\n",
       "      <td>Yes</td>\n",
       "      <td>No</td>\n",
       "    </tr>\n",
       "    <tr>\n",
       "      <th>74</th>\n",
       "      <td>http://www.omim.org/phenotypicSeries/PS309510</td>\n",
       "      <td>http://www.orpha.net/ORDO/Orphanet_441434</td>\n",
       "      <td>Yes</td>\n",
       "      <td>No</td>\n",
       "    </tr>\n",
       "    <tr>\n",
       "      <th>75</th>\n",
       "      <td>http://www.omim.org/phenotypicSeries/PS309510</td>\n",
       "      <td>http://www.orpha.net/ORDO/Orphanet_93593</td>\n",
       "      <td>Yes</td>\n",
       "      <td>No</td>\n",
       "    </tr>\n",
       "    <tr>\n",
       "      <th>83</th>\n",
       "      <td>http://www.omim.org/phenotypicSeries/PS309510</td>\n",
       "      <td>http://www.orpha.net/ORDO/Orphanet_68385</td>\n",
       "      <td>Yes</td>\n",
       "      <td>No</td>\n",
       "    </tr>\n",
       "    <tr>\n",
       "      <th>86</th>\n",
       "      <td>http://www.omim.org/phenotypicSeries/PS309510</td>\n",
       "      <td>http://www.orpha.net/ORDO/Orphanet_98565</td>\n",
       "      <td>Yes</td>\n",
       "      <td>No</td>\n",
       "    </tr>\n",
       "    <tr>\n",
       "      <th>92</th>\n",
       "      <td>http://www.omim.org/phenotypicSeries/PS309510</td>\n",
       "      <td>http://www.orpha.net/ORDO/Orphanet_163971</td>\n",
       "      <td>Yes</td>\n",
       "      <td>No</td>\n",
       "    </tr>\n",
       "    <tr>\n",
       "      <th>97</th>\n",
       "      <td>http://www.omim.org/phenotypicSeries/PS309510</td>\n",
       "      <td>http://www.orpha.net/ORDO/Orphanet_225147</td>\n",
       "      <td>Yes</td>\n",
       "      <td>No</td>\n",
       "    </tr>\n",
       "  </tbody>\n",
       "</table>\n",
       "</div>"
      ],
      "text/plain": [
       "                                        SrcEntity  \\\n",
       "0   http://www.omim.org/phenotypicSeries/PS309510   \n",
       "9   http://www.omim.org/phenotypicSeries/PS309510   \n",
       "24  http://www.omim.org/phenotypicSeries/PS309510   \n",
       "25  http://www.omim.org/phenotypicSeries/PS309510   \n",
       "70  http://www.omim.org/phenotypicSeries/PS309510   \n",
       "74  http://www.omim.org/phenotypicSeries/PS309510   \n",
       "75  http://www.omim.org/phenotypicSeries/PS309510   \n",
       "83  http://www.omim.org/phenotypicSeries/PS309510   \n",
       "86  http://www.omim.org/phenotypicSeries/PS309510   \n",
       "92  http://www.omim.org/phenotypicSeries/PS309510   \n",
       "97  http://www.omim.org/phenotypicSeries/PS309510   \n",
       "\n",
       "                                 TgtCandidate ModelAnswer RealAnswer  \n",
       "0    http://www.orpha.net/ORDO/Orphanet_93406         Yes         No  \n",
       "9    http://www.orpha.net/ORDO/Orphanet_48471         Yes         No  \n",
       "24   http://www.orpha.net/ORDO/Orphanet_85274         Yes         No  \n",
       "25  http://www.orpha.net/ORDO/Orphanet_295195         Yes         No  \n",
       "70    http://www.orpha.net/ORDO/Orphanet_1576         Yes         No  \n",
       "74  http://www.orpha.net/ORDO/Orphanet_441434         Yes         No  \n",
       "75   http://www.orpha.net/ORDO/Orphanet_93593         Yes         No  \n",
       "83   http://www.orpha.net/ORDO/Orphanet_68385         Yes         No  \n",
       "86   http://www.orpha.net/ORDO/Orphanet_98565         Yes         No  \n",
       "92  http://www.orpha.net/ORDO/Orphanet_163971         Yes         No  \n",
       "97  http://www.orpha.net/ORDO/Orphanet_225147         Yes         No  "
      ]
     },
     "execution_count": 199,
     "metadata": {},
     "output_type": "execute_result"
    }
   ],
   "source": [
    "positive_targets = test_case_results_df[test_case_results_df['ModelAnswer'] == 'Yes']\n",
    "print(f\"Number of positively labeled targets: {len(positive_targets)}\")\n",
    "positive_targets"
   ]
  },
  {
   "cell_type": "markdown",
   "metadata": {},
   "source": [
    "### Extencive matching"
   ]
  },
  {
   "cell_type": "code",
   "execution_count": 72,
   "metadata": {},
   "outputs": [],
   "source": [
    "def implication_prompt(source_entry, target_entry):\n",
    "    \"\"\"\n",
    "    Creates a prompt asking if 'source_entry' implies 'target_entry'.\n",
    "    Example: \"It is [a/an] C, is it a D? Yes/No\"\n",
    "    \"\"\"\n",
    "    return f\"It is [a/an] ${source_entry}$, is it a ${target_entry}$? Yes/No\"\n",
    "\n",
    "def equivalence_prompt(source_entry, target_entry):\n",
    "    \"\"\"\n",
    "    Creates prompts for both directions to check if 'source_entry' implies 'target_entry' and vice versa.\n",
    "    - Example: \"It is [a/an] C, is it a D? Yes/No\"\n",
    "    - Example: \"It is [a/an] D, is it a C? Yes/No\"\n",
    "    \"\"\"\n",
    "    prompt1 = implication_prompt(source_entry, target_entry)\n",
    "    prompt2 = implication_prompt(target_entry, source_entry)\n",
    "    return prompt1, prompt2\n",
    "\n",
    "def synonyms_prompt(source_label, target_label):\n",
    "    \"\"\"\n",
    "    Uses ontology to create prompts involving synonyms for C and D.\n",
    "    Example: \"It is [a/an] C-label2, is it a D-label3? Yes/No\"\n",
    "    \"\"\"\n",
    "    return f\"It is [a/an] ${source_label}$, is it a ${target_label}$? Yes/No\"\n",
    "\n",
    "def transitivity_prompt(source_entry, intermediate_entry, target_entry):\n",
    "    \"\"\"\n",
    "    Creates a transitivity prompt to check if 'source_entry' implies an intermediate entry,\n",
    "    which then implies 'target_entry'.\n",
    "    \"\"\"\n",
    "    return f\"It is [a/an] ${source_entry}$, implies ${intermediate_entry}$, implies ${target_entry}$? Yes/No\"\n",
    "\n",
    "def hierarchical_equivalence_prompt(child1, parent1, child2, parent2):\n",
    "    \"\"\"\n",
    "    Creates prompts to check bidirectional equivalence between two hierarchical entries.\n",
    "    Example:\n",
    "    - \"Something is [a/an] C and [a/an] C', is it also [a/an] D and [a/an] D'? Yes/No\"\n",
    "    - \"Something is [a/an] D and [a/an] D', is it also [a/an] C and [a/an] C'? Yes/No\"\n",
    "    \"\"\"\n",
    "    prompt1 = f\"Something is [a/an] ${child1}$ and [a/an] ${parent1}$, is it also [a/an] ${child2}$ and [a/an] ${parent2}$? Yes/No\"\n",
    "    prompt2 = f\"Something is [a/an] ${child2}$ and [a/an] ${parent2}$, is it also [a/an] ${child1}$ and [a/an] ${parent1}$? Yes/No\"\n",
    "    return prompt1, prompt2"
   ]
  },
  {
   "cell_type": "code",
   "execution_count": null,
   "metadata": {
    "execution": {
     "iopub.execute_input": "2024-11-12T11:59:16.659816Z",
     "iopub.status.busy": "2024-11-12T11:59:16.659061Z",
     "iopub.status.idle": "2024-11-12T11:59:16.671564Z",
     "shell.execute_reply": "2024-11-12T11:59:16.670577Z",
     "shell.execute_reply.started": "2024-11-12T11:59:16.659774Z"
    },
    "trusted": true
   },
   "outputs": [],
   "source": [
    "def local_matching_confidence(source_entry, target_entry, onto_1=None, onto_2=None):\n",
    "    # TODO: change this function to use the General Model\n",
    "    # TODO: implement response parsing\n",
    "    source_attr = OntologyEntryAttr(source_entry, onto_1)\n",
    "    target_attr = OntologyEntryAttr(target_entry, onto_2)\n",
    "\n",
    "    general_points = 0\n",
    "    retrieved_points = 0\n",
    "\n",
    "    # Note: All names already includes Synonyms and Main Labels as well\n",
    "    # compare names\n",
    "    for s in source_attr.getAllEntetyNames():\n",
    "        for t in target_attr.getAllEntetyNames():\n",
    "            e1, e2 = equivalence_prompt(s, t)\n",
    "            q1 = mistral.ask_question(e1)\n",
    "            q2 = mistral.ask_question(e2)\n",
    "            if  \"Yes\" in q1:\n",
    "                retrieved_points += 1\n",
    "            if \"Yes\" in q2:\n",
    "                retrieved_points += 1\n",
    "            if \"Yes\" in q1 and \"Yes\" in q2:\n",
    "                retrieved_points += 1\n",
    "            print(retrieved_points/(general_points + 1e-6))\n",
    "            general_points += 3\n",
    "\n",
    "    # compare synonyms\n",
    "    for s in source_attr.getSynonyms():\n",
    "        for t in target_attr.getSynonyms():\n",
    "            e = synonyms_prompt(s, t)\n",
    "            q = mistral.ask_question(e)\n",
    "            if \"Yes\" in q:\n",
    "                retrieved_points += 1\n",
    "            general_points += 1\n",
    "            print(retrieved_points/(general_points + 1e-6))\n",
    "\n",
    "    # compare hierarchy\n",
    "    source_hierarchy = {\n",
    "        \"children\": source_attr.getChildren(),\n",
    "        \"parents\": source_attr.getParents()\n",
    "    }\n",
    "\n",
    "    target_hierarchy = {\n",
    "        \"children\": target_attr.getChildren(),\n",
    "        \"parents\": target_attr.getParents()\n",
    "    }\n",
    "\n",
    "    for schild in source_hierarchy[\"children\"]:\n",
    "        for tchild in target_hierarchy[\"children\"]:\n",
    "            if source_hierarchy[\"parents\"] and target_hierarchy[\"parents\"]:\n",
    "                for sparent, tparent in zip(source_hierarchy[\"parents\"], target_hierarchy[\"parents\"]):\n",
    "                    e1, e2 = hierarchical_equivalence_prompt(schild, sparent, tchild, tparent)\n",
    "                    \n",
    "                    q1 = mistral.ask_question(e1)\n",
    "                    q2 = mistral.ask_question(e2)\n",
    "                    \n",
    "                    retrieved_points += (\"Yes\" in q1) + (\"Yes\" in q2)\n",
    "                    if \"Yes\" in q1 and \"Yes\" in q2:\n",
    "                        retrieved_points += 1\n",
    "                    \n",
    "                    general_points += 3\n",
    "                    print(retrieved_points / (general_points + 1e-6))\n",
    "\n",
    "\n",
    "    confidence = retrieved_points / general_points\n",
    "    return confidence"
   ]
  },
  {
   "cell_type": "code",
   "execution_count": null,
   "metadata": {},
   "outputs": [],
   "source": [
    "!pip install tqdm -q"
   ]
  },
  {
   "cell_type": "code",
   "execution_count": null,
   "metadata": {
    "execution": {
     "iopub.execute_input": "2024-11-12T11:59:16.673561Z",
     "iopub.status.busy": "2024-11-12T11:59:16.673199Z"
    },
    "trusted": true
   },
   "outputs": [],
   "source": [
    "# Uncomment to calculate confidences\n",
    "\n",
    "# from tqdm import tqdm\n",
    "\n",
    "# confidences = {}\n",
    "\n",
    "# for _, row in tqdm(test_candidates.iterrows(), total=test_candidates.shape[0], desc=\"Processing rows\"):\n",
    "#     source = row[0]\n",
    "#     target = row[1]\n",
    "#     confidences[(source, target)] = []\n",
    "\n",
    "#     for candidate in tqdm(row[2], desc=f\"Processing candidates for ({source}, {target})\", leave=False):\n",
    "#         confidence = local_matching_confidence(source, candidate, onto_1=onto_src, onto_2=onto_tgt)\n",
    "#         confidences[(source, target)].append((candidate, confidence))"
   ]
  },
  {
   "cell_type": "markdown",
   "metadata": {},
   "source": [
    "# Initial Filtering with Embedding Model"
   ]
  },
  {
   "cell_type": "code",
   "execution_count": 19,
   "metadata": {
    "execution": {
     "iopub.execute_input": "2024-12-10T10:23:05.051855Z",
     "iopub.status.busy": "2024-12-10T10:23:05.051422Z",
     "iopub.status.idle": "2024-12-10T10:23:13.645775Z",
     "shell.execute_reply": "2024-12-10T10:23:13.644798Z",
     "shell.execute_reply.started": "2024-12-10T10:23:05.051814Z"
    },
    "trusted": true
   },
   "outputs": [],
   "source": [
    "!pip install sentence_transformers -q"
   ]
  },
  {
   "cell_type": "code",
   "execution_count": 20,
   "metadata": {
    "execution": {
     "iopub.execute_input": "2024-12-10T10:23:13.647644Z",
     "iopub.status.busy": "2024-12-10T10:23:13.647293Z",
     "iopub.status.idle": "2024-12-10T10:23:31.737672Z",
     "shell.execute_reply": "2024-12-10T10:23:31.736822Z",
     "shell.execute_reply.started": "2024-12-10T10:23:13.647615Z"
    },
    "trusted": true
   },
   "outputs": [],
   "source": [
    "import torch\n",
    "import re\n",
    "from sentence_transformers import SentenceTransformer"
   ]
  },
  {
   "cell_type": "code",
   "execution_count": 21,
   "metadata": {
    "execution": {
     "iopub.execute_input": "2024-12-10T10:23:31.739829Z",
     "iopub.status.busy": "2024-12-10T10:23:31.738905Z",
     "iopub.status.idle": "2024-12-10T10:26:13.185232Z",
     "shell.execute_reply": "2024-12-10T10:26:13.184519Z",
     "shell.execute_reply.started": "2024-12-10T10:23:31.739784Z"
    },
    "trusted": true
   },
   "outputs": [
    {
     "data": {
      "application/vnd.jupyter.widget-view+json": {
       "model_id": "8ace5a81f859485ea55e2f9446515020",
       "version_major": 2,
       "version_minor": 0
      },
      "text/plain": [
       "modules.json:   0%|          | 0.00/316 [00:00<?, ?B/s]"
      ]
     },
     "metadata": {},
     "output_type": "display_data"
    },
    {
     "data": {
      "application/vnd.jupyter.widget-view+json": {
       "model_id": "057ed46d65a74e80ba7409e603b3c025",
       "version_major": 2,
       "version_minor": 0
      },
      "text/plain": [
       "config_sentence_transformers.json:   0%|          | 0.00/397 [00:00<?, ?B/s]"
      ]
     },
     "metadata": {},
     "output_type": "display_data"
    },
    {
     "data": {
      "application/vnd.jupyter.widget-view+json": {
       "model_id": "294f5df37bbb48efba333bb9a4697035",
       "version_major": 2,
       "version_minor": 0
      },
      "text/plain": [
       "README.md:   0%|          | 0.00/174k [00:00<?, ?B/s]"
      ]
     },
     "metadata": {},
     "output_type": "display_data"
    },
    {
     "data": {
      "application/vnd.jupyter.widget-view+json": {
       "model_id": "518e2bd0547a452590da0615e615f1c8",
       "version_major": 2,
       "version_minor": 0
      },
      "text/plain": [
       "sentence_bert_config.json:   0%|          | 0.00/51.0 [00:00<?, ?B/s]"
      ]
     },
     "metadata": {},
     "output_type": "display_data"
    },
    {
     "data": {
      "application/vnd.jupyter.widget-view+json": {
       "model_id": "b67dd9b326cf451bb1bde95f0d7b9eac",
       "version_major": 2,
       "version_minor": 0
      },
      "text/plain": [
       "config.json:   0%|          | 0.00/844 [00:00<?, ?B/s]"
      ]
     },
     "metadata": {},
     "output_type": "display_data"
    },
    {
     "data": {
      "application/vnd.jupyter.widget-view+json": {
       "model_id": "c049192f32864242a3da7155bffa674d",
       "version_major": 2,
       "version_minor": 0
      },
      "text/plain": [
       "modeling_qwen.py:   0%|          | 0.00/65.3k [00:00<?, ?B/s]"
      ]
     },
     "metadata": {},
     "output_type": "display_data"
    },
    {
     "name": "stderr",
     "output_type": "stream",
     "text": [
      "A new version of the following files was downloaded from https://huggingface.co/dunzhang/stella_en_1.5B_v5:\n",
      "- modeling_qwen.py\n",
      ". Make sure to double-check they do not contain any added malicious code. To avoid downloading new versions of the code file, you can pin a revision.\n"
     ]
    },
    {
     "data": {
      "application/vnd.jupyter.widget-view+json": {
       "model_id": "9cc1e8378f404044aed0d3d626dadba8",
       "version_major": 2,
       "version_minor": 0
      },
      "text/plain": [
       "model.safetensors:   0%|          | 0.00/6.17G [00:00<?, ?B/s]"
      ]
     },
     "metadata": {},
     "output_type": "display_data"
    },
    {
     "data": {
      "application/vnd.jupyter.widget-view+json": {
       "model_id": "d50b12622e0245f79b214399956924a2",
       "version_major": 2,
       "version_minor": 0
      },
      "text/plain": [
       "tokenizer_config.json:   0%|          | 0.00/1.31k [00:00<?, ?B/s]"
      ]
     },
     "metadata": {},
     "output_type": "display_data"
    },
    {
     "data": {
      "application/vnd.jupyter.widget-view+json": {
       "model_id": "58d696896f3640349c9709f3a02635a6",
       "version_major": 2,
       "version_minor": 0
      },
      "text/plain": [
       "tokenization_qwen.py:   0%|          | 0.00/10.8k [00:00<?, ?B/s]"
      ]
     },
     "metadata": {},
     "output_type": "display_data"
    },
    {
     "name": "stderr",
     "output_type": "stream",
     "text": [
      "A new version of the following files was downloaded from https://huggingface.co/dunzhang/stella_en_1.5B_v5:\n",
      "- tokenization_qwen.py\n",
      ". Make sure to double-check they do not contain any added malicious code. To avoid downloading new versions of the code file, you can pin a revision.\n"
     ]
    },
    {
     "data": {
      "application/vnd.jupyter.widget-view+json": {
       "model_id": "5c8f70d19f014926b7c7a15c1ed37733",
       "version_major": 2,
       "version_minor": 0
      },
      "text/plain": [
       "vocab.json:   0%|          | 0.00/2.78M [00:00<?, ?B/s]"
      ]
     },
     "metadata": {},
     "output_type": "display_data"
    },
    {
     "data": {
      "application/vnd.jupyter.widget-view+json": {
       "model_id": "66c6ea6634ca401c92bd26cd7a8a1a02",
       "version_major": 2,
       "version_minor": 0
      },
      "text/plain": [
       "merges.txt:   0%|          | 0.00/1.67M [00:00<?, ?B/s]"
      ]
     },
     "metadata": {},
     "output_type": "display_data"
    },
    {
     "data": {
      "application/vnd.jupyter.widget-view+json": {
       "model_id": "f8236361cc3d496e89fb43e04a0891aa",
       "version_major": 2,
       "version_minor": 0
      },
      "text/plain": [
       "tokenizer.json:   0%|          | 0.00/7.03M [00:00<?, ?B/s]"
      ]
     },
     "metadata": {},
     "output_type": "display_data"
    },
    {
     "data": {
      "application/vnd.jupyter.widget-view+json": {
       "model_id": "35bc057f15d044eca51d8e321d4d34eb",
       "version_major": 2,
       "version_minor": 0
      },
      "text/plain": [
       "added_tokens.json:   0%|          | 0.00/80.0 [00:00<?, ?B/s]"
      ]
     },
     "metadata": {},
     "output_type": "display_data"
    },
    {
     "data": {
      "application/vnd.jupyter.widget-view+json": {
       "model_id": "51ac9139bd2243d6a258e001e912b223",
       "version_major": 2,
       "version_minor": 0
      },
      "text/plain": [
       "special_tokens_map.json:   0%|          | 0.00/370 [00:00<?, ?B/s]"
      ]
     },
     "metadata": {},
     "output_type": "display_data"
    },
    {
     "data": {
      "application/vnd.jupyter.widget-view+json": {
       "model_id": "c001c4f54cfe4b9c99febeee3ee5d094",
       "version_major": 2,
       "version_minor": 0
      },
      "text/plain": [
       "1_Pooling/config.json:   0%|          | 0.00/289 [00:00<?, ?B/s]"
      ]
     },
     "metadata": {},
     "output_type": "display_data"
    },
    {
     "data": {
      "application/vnd.jupyter.widget-view+json": {
       "model_id": "2ec614a9448b4a1aa70928e86f8cdc23",
       "version_major": 2,
       "version_minor": 0
      },
      "text/plain": [
       "2_Dense_1024/config.json:   0%|          | 0.00/122 [00:00<?, ?B/s]"
      ]
     },
     "metadata": {},
     "output_type": "display_data"
    },
    {
     "data": {
      "application/vnd.jupyter.widget-view+json": {
       "model_id": "2e5d7368eee14140b68717cad260d255",
       "version_major": 2,
       "version_minor": 0
      },
      "text/plain": [
       "pytorch_model.bin:   0%|          | 0.00/6.30M [00:00<?, ?B/s]"
      ]
     },
     "metadata": {},
     "output_type": "display_data"
    },
    {
     "data": {
      "application/vnd.jupyter.widget-view+json": {
       "model_id": "11948aa6e16b47a2a6b55ba02aafadff",
       "version_major": 2,
       "version_minor": 0
      },
      "text/plain": [
       "model.safetensors:   0%|          | 0.00/6.30M [00:00<?, ?B/s]"
      ]
     },
     "metadata": {},
     "output_type": "display_data"
    }
   ],
   "source": [
    "model = SentenceTransformer(\"dunzhang/stella_en_1.5B_v5\", trust_remote_code=True).cuda()"
   ]
  },
  {
   "cell_type": "code",
   "execution_count": 23,
   "metadata": {
    "execution": {
     "iopub.execute_input": "2024-12-10T10:26:22.516731Z",
     "iopub.status.busy": "2024-12-10T10:26:22.516384Z",
     "iopub.status.idle": "2024-12-10T10:26:22.520727Z",
     "shell.execute_reply": "2024-12-10T10:26:22.519883Z",
     "shell.execute_reply.started": "2024-12-10T10:26:22.516701Z"
    },
    "trusted": true
   },
   "outputs": [],
   "source": [
    "similarity_threshold = 0.9\n",
    "similarities = {}"
   ]
  },
  {
   "cell_type": "code",
   "execution_count": 36,
   "metadata": {
    "execution": {
     "iopub.execute_input": "2024-12-10T10:31:12.409768Z",
     "iopub.status.busy": "2024-12-10T10:31:12.409430Z",
     "iopub.status.idle": "2024-12-10T10:31:12.449956Z",
     "shell.execute_reply": "2024-12-10T10:31:12.449329Z",
     "shell.execute_reply.started": "2024-12-10T10:31:12.409741Z"
    },
    "trusted": true
   },
   "outputs": [],
   "source": [
    "src_entity_name = list(OntologyEntryAttr(test_case['SrcEntity'], onto_src).getAllEntetyNames())[0]\n",
    "tgt_entity_name = list(OntologyEntryAttr(test_case['TgtEntity'], onto_tgt).getAllEntetyNames())[0]"
   ]
  },
  {
   "cell_type": "code",
   "execution_count": 37,
   "metadata": {
    "collapsed": true,
    "execution": {
     "iopub.execute_input": "2024-12-10T10:31:29.380523Z",
     "iopub.status.busy": "2024-12-10T10:31:29.379723Z",
     "iopub.status.idle": "2024-12-10T10:31:43.276548Z",
     "shell.execute_reply": "2024-12-10T10:31:43.275666Z",
     "shell.execute_reply.started": "2024-12-10T10:31:29.380486Z"
    },
    "jupyter": {
     "outputs_hidden": true
    },
    "trusted": true
   },
   "outputs": [
    {
     "data": {
      "application/vnd.jupyter.widget-view+json": {
       "model_id": "c420fb7d381240ce93140e1087e0881f",
       "version_major": 2,
       "version_minor": 0
      },
      "text/plain": [
       "Batches:   0%|          | 0/1 [00:00<?, ?it/s]"
      ]
     },
     "metadata": {},
     "output_type": "display_data"
    },
    {
     "data": {
      "application/vnd.jupyter.widget-view+json": {
       "model_id": "46f3ab2c10ad41808c69658d39f45458",
       "version_major": 2,
       "version_minor": 0
      },
      "text/plain": [
       "Batches:   0%|          | 0/1 [00:00<?, ?it/s]"
      ]
     },
     "metadata": {},
     "output_type": "display_data"
    },
    {
     "name": "stdout",
     "output_type": "stream",
     "text": [
      "tensor([[0.5686]])\n"
     ]
    },
    {
     "data": {
      "application/vnd.jupyter.widget-view+json": {
       "model_id": "5f698b1a208849ebb8d968f874412daf",
       "version_major": 2,
       "version_minor": 0
      },
      "text/plain": [
       "Batches:   0%|          | 0/1 [00:00<?, ?it/s]"
      ]
     },
     "metadata": {},
     "output_type": "display_data"
    },
    {
     "data": {
      "application/vnd.jupyter.widget-view+json": {
       "model_id": "0cac8c6056f649d3ad685f75c7333d6f",
       "version_major": 2,
       "version_minor": 0
      },
      "text/plain": [
       "Batches:   0%|          | 0/1 [00:00<?, ?it/s]"
      ]
     },
     "metadata": {},
     "output_type": "display_data"
    },
    {
     "name": "stdout",
     "output_type": "stream",
     "text": [
      "tensor([[0.7394]])\n"
     ]
    },
    {
     "data": {
      "application/vnd.jupyter.widget-view+json": {
       "model_id": "eea935d5cf4d4d089c8c37b08cbd1e0c",
       "version_major": 2,
       "version_minor": 0
      },
      "text/plain": [
       "Batches:   0%|          | 0/1 [00:00<?, ?it/s]"
      ]
     },
     "metadata": {},
     "output_type": "display_data"
    },
    {
     "data": {
      "application/vnd.jupyter.widget-view+json": {
       "model_id": "a768b3f9b01240098390a4553916b94b",
       "version_major": 2,
       "version_minor": 0
      },
      "text/plain": [
       "Batches:   0%|          | 0/1 [00:00<?, ?it/s]"
      ]
     },
     "metadata": {},
     "output_type": "display_data"
    },
    {
     "name": "stdout",
     "output_type": "stream",
     "text": [
      "tensor([[0.6001]])\n"
     ]
    },
    {
     "data": {
      "application/vnd.jupyter.widget-view+json": {
       "model_id": "f76cebcdef3748a8be262ab008339ff5",
       "version_major": 2,
       "version_minor": 0
      },
      "text/plain": [
       "Batches:   0%|          | 0/1 [00:00<?, ?it/s]"
      ]
     },
     "metadata": {},
     "output_type": "display_data"
    },
    {
     "data": {
      "application/vnd.jupyter.widget-view+json": {
       "model_id": "51d0a21f62714fd9ae107736baebd9d7",
       "version_major": 2,
       "version_minor": 0
      },
      "text/plain": [
       "Batches:   0%|          | 0/1 [00:00<?, ?it/s]"
      ]
     },
     "metadata": {},
     "output_type": "display_data"
    },
    {
     "name": "stdout",
     "output_type": "stream",
     "text": [
      "tensor([[0.4531]])\n"
     ]
    },
    {
     "data": {
      "application/vnd.jupyter.widget-view+json": {
       "model_id": "9193b98e086b4137a2024c71b5931260",
       "version_major": 2,
       "version_minor": 0
      },
      "text/plain": [
       "Batches:   0%|          | 0/1 [00:00<?, ?it/s]"
      ]
     },
     "metadata": {},
     "output_type": "display_data"
    },
    {
     "data": {
      "application/vnd.jupyter.widget-view+json": {
       "model_id": "4dfd45c66cf5478ba512769704ee4531",
       "version_major": 2,
       "version_minor": 0
      },
      "text/plain": [
       "Batches:   0%|          | 0/1 [00:00<?, ?it/s]"
      ]
     },
     "metadata": {},
     "output_type": "display_data"
    },
    {
     "name": "stdout",
     "output_type": "stream",
     "text": [
      "tensor([[0.5845]])\n"
     ]
    },
    {
     "data": {
      "application/vnd.jupyter.widget-view+json": {
       "model_id": "8eebcee3e720452282bacfeb1b327a4b",
       "version_major": 2,
       "version_minor": 0
      },
      "text/plain": [
       "Batches:   0%|          | 0/1 [00:00<?, ?it/s]"
      ]
     },
     "metadata": {},
     "output_type": "display_data"
    },
    {
     "data": {
      "application/vnd.jupyter.widget-view+json": {
       "model_id": "308c01f31e234fe8ac050ab30decc015",
       "version_major": 2,
       "version_minor": 0
      },
      "text/plain": [
       "Batches:   0%|          | 0/1 [00:00<?, ?it/s]"
      ]
     },
     "metadata": {},
     "output_type": "display_data"
    },
    {
     "name": "stdout",
     "output_type": "stream",
     "text": [
      "tensor([[0.6920]])\n"
     ]
    },
    {
     "data": {
      "application/vnd.jupyter.widget-view+json": {
       "model_id": "10e109e1db9f495d87ac32c8cee90875",
       "version_major": 2,
       "version_minor": 0
      },
      "text/plain": [
       "Batches:   0%|          | 0/1 [00:00<?, ?it/s]"
      ]
     },
     "metadata": {},
     "output_type": "display_data"
    },
    {
     "data": {
      "application/vnd.jupyter.widget-view+json": {
       "model_id": "16a09b3c21f7459dbe245b634c0e47ed",
       "version_major": 2,
       "version_minor": 0
      },
      "text/plain": [
       "Batches:   0%|          | 0/1 [00:00<?, ?it/s]"
      ]
     },
     "metadata": {},
     "output_type": "display_data"
    },
    {
     "name": "stdout",
     "output_type": "stream",
     "text": [
      "tensor([[0.6429]])\n"
     ]
    },
    {
     "data": {
      "application/vnd.jupyter.widget-view+json": {
       "model_id": "ddcfd497ad9243809280b13bae656c21",
       "version_major": 2,
       "version_minor": 0
      },
      "text/plain": [
       "Batches:   0%|          | 0/1 [00:00<?, ?it/s]"
      ]
     },
     "metadata": {},
     "output_type": "display_data"
    },
    {
     "data": {
      "application/vnd.jupyter.widget-view+json": {
       "model_id": "f579bb34fa774d7c9f7d0e49fbc1dc18",
       "version_major": 2,
       "version_minor": 0
      },
      "text/plain": [
       "Batches:   0%|          | 0/1 [00:00<?, ?it/s]"
      ]
     },
     "metadata": {},
     "output_type": "display_data"
    },
    {
     "name": "stdout",
     "output_type": "stream",
     "text": [
      "tensor([[0.5378]])\n"
     ]
    },
    {
     "data": {
      "application/vnd.jupyter.widget-view+json": {
       "model_id": "b1f605a3b1604fadba6bf6cd34bad7f7",
       "version_major": 2,
       "version_minor": 0
      },
      "text/plain": [
       "Batches:   0%|          | 0/1 [00:00<?, ?it/s]"
      ]
     },
     "metadata": {},
     "output_type": "display_data"
    },
    {
     "data": {
      "application/vnd.jupyter.widget-view+json": {
       "model_id": "dc3f1c73caf74144bb80ce715bf22fde",
       "version_major": 2,
       "version_minor": 0
      },
      "text/plain": [
       "Batches:   0%|          | 0/1 [00:00<?, ?it/s]"
      ]
     },
     "metadata": {},
     "output_type": "display_data"
    },
    {
     "name": "stdout",
     "output_type": "stream",
     "text": [
      "tensor([[0.5914]])\n"
     ]
    },
    {
     "data": {
      "application/vnd.jupyter.widget-view+json": {
       "model_id": "b202ca0e245446b5bdf5e7aefdc909d6",
       "version_major": 2,
       "version_minor": 0
      },
      "text/plain": [
       "Batches:   0%|          | 0/1 [00:00<?, ?it/s]"
      ]
     },
     "metadata": {},
     "output_type": "display_data"
    },
    {
     "data": {
      "application/vnd.jupyter.widget-view+json": {
       "model_id": "391afffae1bb475ea2714e394e2d217a",
       "version_major": 2,
       "version_minor": 0
      },
      "text/plain": [
       "Batches:   0%|          | 0/1 [00:00<?, ?it/s]"
      ]
     },
     "metadata": {},
     "output_type": "display_data"
    },
    {
     "name": "stdout",
     "output_type": "stream",
     "text": [
      "tensor([[0.6892]])\n"
     ]
    },
    {
     "data": {
      "application/vnd.jupyter.widget-view+json": {
       "model_id": "222384bc1a324952bfbaeefcea81af50",
       "version_major": 2,
       "version_minor": 0
      },
      "text/plain": [
       "Batches:   0%|          | 0/1 [00:00<?, ?it/s]"
      ]
     },
     "metadata": {},
     "output_type": "display_data"
    },
    {
     "data": {
      "application/vnd.jupyter.widget-view+json": {
       "model_id": "1eeec5a0ff414bcea853bed74f739257",
       "version_major": 2,
       "version_minor": 0
      },
      "text/plain": [
       "Batches:   0%|          | 0/1 [00:00<?, ?it/s]"
      ]
     },
     "metadata": {},
     "output_type": "display_data"
    },
    {
     "name": "stdout",
     "output_type": "stream",
     "text": [
      "tensor([[0.7614]])\n"
     ]
    },
    {
     "data": {
      "application/vnd.jupyter.widget-view+json": {
       "model_id": "79f2c78fc26643e1856ff210825cdef8",
       "version_major": 2,
       "version_minor": 0
      },
      "text/plain": [
       "Batches:   0%|          | 0/1 [00:00<?, ?it/s]"
      ]
     },
     "metadata": {},
     "output_type": "display_data"
    },
    {
     "data": {
      "application/vnd.jupyter.widget-view+json": {
       "model_id": "39fcbf52df6d4da8b81605ee86a6f91a",
       "version_major": 2,
       "version_minor": 0
      },
      "text/plain": [
       "Batches:   0%|          | 0/1 [00:00<?, ?it/s]"
      ]
     },
     "metadata": {},
     "output_type": "display_data"
    },
    {
     "name": "stdout",
     "output_type": "stream",
     "text": [
      "tensor([[0.6380]])\n"
     ]
    },
    {
     "data": {
      "application/vnd.jupyter.widget-view+json": {
       "model_id": "3936f417abc74294b8eb244afedcc250",
       "version_major": 2,
       "version_minor": 0
      },
      "text/plain": [
       "Batches:   0%|          | 0/1 [00:00<?, ?it/s]"
      ]
     },
     "metadata": {},
     "output_type": "display_data"
    },
    {
     "data": {
      "application/vnd.jupyter.widget-view+json": {
       "model_id": "90567ad69a4d45c0b7ab35c7f01e04a0",
       "version_major": 2,
       "version_minor": 0
      },
      "text/plain": [
       "Batches:   0%|          | 0/1 [00:00<?, ?it/s]"
      ]
     },
     "metadata": {},
     "output_type": "display_data"
    },
    {
     "name": "stdout",
     "output_type": "stream",
     "text": [
      "tensor([[0.6298]])\n"
     ]
    },
    {
     "data": {
      "application/vnd.jupyter.widget-view+json": {
       "model_id": "401b6403cec84facae69a68647edb738",
       "version_major": 2,
       "version_minor": 0
      },
      "text/plain": [
       "Batches:   0%|          | 0/1 [00:00<?, ?it/s]"
      ]
     },
     "metadata": {},
     "output_type": "display_data"
    },
    {
     "data": {
      "application/vnd.jupyter.widget-view+json": {
       "model_id": "6e6e6f77045b4c969ba58d9f4a23baca",
       "version_major": 2,
       "version_minor": 0
      },
      "text/plain": [
       "Batches:   0%|          | 0/1 [00:00<?, ?it/s]"
      ]
     },
     "metadata": {},
     "output_type": "display_data"
    },
    {
     "name": "stdout",
     "output_type": "stream",
     "text": [
      "tensor([[0.8480]])\n"
     ]
    },
    {
     "data": {
      "application/vnd.jupyter.widget-view+json": {
       "model_id": "8c1d81a097bd4ec2a447e94f1f998000",
       "version_major": 2,
       "version_minor": 0
      },
      "text/plain": [
       "Batches:   0%|          | 0/1 [00:00<?, ?it/s]"
      ]
     },
     "metadata": {},
     "output_type": "display_data"
    },
    {
     "data": {
      "application/vnd.jupyter.widget-view+json": {
       "model_id": "66c21b4bd4c146d891b6a25c81ee87fd",
       "version_major": 2,
       "version_minor": 0
      },
      "text/plain": [
       "Batches:   0%|          | 0/1 [00:00<?, ?it/s]"
      ]
     },
     "metadata": {},
     "output_type": "display_data"
    },
    {
     "name": "stdout",
     "output_type": "stream",
     "text": [
      "tensor([[0.8968]])\n"
     ]
    },
    {
     "data": {
      "application/vnd.jupyter.widget-view+json": {
       "model_id": "929948dc756641bf93ba0120337b7014",
       "version_major": 2,
       "version_minor": 0
      },
      "text/plain": [
       "Batches:   0%|          | 0/1 [00:00<?, ?it/s]"
      ]
     },
     "metadata": {},
     "output_type": "display_data"
    },
    {
     "data": {
      "application/vnd.jupyter.widget-view+json": {
       "model_id": "253286e5aba843389ebd31cbfc93de8e",
       "version_major": 2,
       "version_minor": 0
      },
      "text/plain": [
       "Batches:   0%|          | 0/1 [00:00<?, ?it/s]"
      ]
     },
     "metadata": {},
     "output_type": "display_data"
    },
    {
     "name": "stdout",
     "output_type": "stream",
     "text": [
      "tensor([[0.5829]])\n"
     ]
    },
    {
     "data": {
      "application/vnd.jupyter.widget-view+json": {
       "model_id": "2667e0a8d7b04fb9b0a16c179bd465b4",
       "version_major": 2,
       "version_minor": 0
      },
      "text/plain": [
       "Batches:   0%|          | 0/1 [00:00<?, ?it/s]"
      ]
     },
     "metadata": {},
     "output_type": "display_data"
    },
    {
     "data": {
      "application/vnd.jupyter.widget-view+json": {
       "model_id": "040482e4812645e38dc5855c645e3ef5",
       "version_major": 2,
       "version_minor": 0
      },
      "text/plain": [
       "Batches:   0%|          | 0/1 [00:00<?, ?it/s]"
      ]
     },
     "metadata": {},
     "output_type": "display_data"
    },
    {
     "name": "stdout",
     "output_type": "stream",
     "text": [
      "tensor([[0.8056]])\n"
     ]
    },
    {
     "data": {
      "application/vnd.jupyter.widget-view+json": {
       "model_id": "9155a7b931e045b1a8b58d6041211885",
       "version_major": 2,
       "version_minor": 0
      },
      "text/plain": [
       "Batches:   0%|          | 0/1 [00:00<?, ?it/s]"
      ]
     },
     "metadata": {},
     "output_type": "display_data"
    },
    {
     "data": {
      "application/vnd.jupyter.widget-view+json": {
       "model_id": "8fbb70c168364e3b91bc7303709ae24b",
       "version_major": 2,
       "version_minor": 0
      },
      "text/plain": [
       "Batches:   0%|          | 0/1 [00:00<?, ?it/s]"
      ]
     },
     "metadata": {},
     "output_type": "display_data"
    },
    {
     "name": "stdout",
     "output_type": "stream",
     "text": [
      "tensor([[0.4485]])\n"
     ]
    },
    {
     "data": {
      "application/vnd.jupyter.widget-view+json": {
       "model_id": "de215d58bc5f4e7da9190da12e941aed",
       "version_major": 2,
       "version_minor": 0
      },
      "text/plain": [
       "Batches:   0%|          | 0/1 [00:00<?, ?it/s]"
      ]
     },
     "metadata": {},
     "output_type": "display_data"
    },
    {
     "data": {
      "application/vnd.jupyter.widget-view+json": {
       "model_id": "4a6245623c4246dfa0940d8a902f5d59",
       "version_major": 2,
       "version_minor": 0
      },
      "text/plain": [
       "Batches:   0%|          | 0/1 [00:00<?, ?it/s]"
      ]
     },
     "metadata": {},
     "output_type": "display_data"
    },
    {
     "name": "stdout",
     "output_type": "stream",
     "text": [
      "tensor([[0.6106]])\n"
     ]
    },
    {
     "data": {
      "application/vnd.jupyter.widget-view+json": {
       "model_id": "eeaf1ff1bef34119841e203d375a8ae2",
       "version_major": 2,
       "version_minor": 0
      },
      "text/plain": [
       "Batches:   0%|          | 0/1 [00:00<?, ?it/s]"
      ]
     },
     "metadata": {},
     "output_type": "display_data"
    },
    {
     "data": {
      "application/vnd.jupyter.widget-view+json": {
       "model_id": "d67d7f9c6e8a4565ac6e4bb1974964d8",
       "version_major": 2,
       "version_minor": 0
      },
      "text/plain": [
       "Batches:   0%|          | 0/1 [00:00<?, ?it/s]"
      ]
     },
     "metadata": {},
     "output_type": "display_data"
    },
    {
     "name": "stdout",
     "output_type": "stream",
     "text": [
      "tensor([[0.8896]])\n"
     ]
    },
    {
     "data": {
      "application/vnd.jupyter.widget-view+json": {
       "model_id": "182c6906b3ee4c4192103fba2ab0a3ed",
       "version_major": 2,
       "version_minor": 0
      },
      "text/plain": [
       "Batches:   0%|          | 0/1 [00:00<?, ?it/s]"
      ]
     },
     "metadata": {},
     "output_type": "display_data"
    },
    {
     "data": {
      "application/vnd.jupyter.widget-view+json": {
       "model_id": "fda063f321694d0590812ba88f6c21a4",
       "version_major": 2,
       "version_minor": 0
      },
      "text/plain": [
       "Batches:   0%|          | 0/1 [00:00<?, ?it/s]"
      ]
     },
     "metadata": {},
     "output_type": "display_data"
    },
    {
     "name": "stdout",
     "output_type": "stream",
     "text": [
      "tensor([[0.6803]])\n"
     ]
    },
    {
     "data": {
      "application/vnd.jupyter.widget-view+json": {
       "model_id": "485111bb41d04b2eabfd525e20dd54dc",
       "version_major": 2,
       "version_minor": 0
      },
      "text/plain": [
       "Batches:   0%|          | 0/1 [00:00<?, ?it/s]"
      ]
     },
     "metadata": {},
     "output_type": "display_data"
    },
    {
     "data": {
      "application/vnd.jupyter.widget-view+json": {
       "model_id": "91e960065c6d4dd081fe6563460157f3",
       "version_major": 2,
       "version_minor": 0
      },
      "text/plain": [
       "Batches:   0%|          | 0/1 [00:00<?, ?it/s]"
      ]
     },
     "metadata": {},
     "output_type": "display_data"
    },
    {
     "name": "stdout",
     "output_type": "stream",
     "text": [
      "tensor([[0.6057]])\n"
     ]
    },
    {
     "data": {
      "application/vnd.jupyter.widget-view+json": {
       "model_id": "c1a0eee21d4943ce84ec6699ba45d346",
       "version_major": 2,
       "version_minor": 0
      },
      "text/plain": [
       "Batches:   0%|          | 0/1 [00:00<?, ?it/s]"
      ]
     },
     "metadata": {},
     "output_type": "display_data"
    },
    {
     "data": {
      "application/vnd.jupyter.widget-view+json": {
       "model_id": "572dab8df1fa48798f8a516a09bcac02",
       "version_major": 2,
       "version_minor": 0
      },
      "text/plain": [
       "Batches:   0%|          | 0/1 [00:00<?, ?it/s]"
      ]
     },
     "metadata": {},
     "output_type": "display_data"
    },
    {
     "name": "stdout",
     "output_type": "stream",
     "text": [
      "tensor([[0.6267]])\n"
     ]
    },
    {
     "data": {
      "application/vnd.jupyter.widget-view+json": {
       "model_id": "593f4e990aac4aaf88c7678cca1c3bda",
       "version_major": 2,
       "version_minor": 0
      },
      "text/plain": [
       "Batches:   0%|          | 0/1 [00:00<?, ?it/s]"
      ]
     },
     "metadata": {},
     "output_type": "display_data"
    },
    {
     "data": {
      "application/vnd.jupyter.widget-view+json": {
       "model_id": "7a7eec3306744b96822293e45f467acf",
       "version_major": 2,
       "version_minor": 0
      },
      "text/plain": [
       "Batches:   0%|          | 0/1 [00:00<?, ?it/s]"
      ]
     },
     "metadata": {},
     "output_type": "display_data"
    },
    {
     "name": "stdout",
     "output_type": "stream",
     "text": [
      "tensor([[0.7821]])\n"
     ]
    },
    {
     "data": {
      "application/vnd.jupyter.widget-view+json": {
       "model_id": "57cd92f17a26407dba44cc4eb754759c",
       "version_major": 2,
       "version_minor": 0
      },
      "text/plain": [
       "Batches:   0%|          | 0/1 [00:00<?, ?it/s]"
      ]
     },
     "metadata": {},
     "output_type": "display_data"
    },
    {
     "data": {
      "application/vnd.jupyter.widget-view+json": {
       "model_id": "65d1baec32e64f9a859a9e2a13144297",
       "version_major": 2,
       "version_minor": 0
      },
      "text/plain": [
       "Batches:   0%|          | 0/1 [00:00<?, ?it/s]"
      ]
     },
     "metadata": {},
     "output_type": "display_data"
    },
    {
     "name": "stdout",
     "output_type": "stream",
     "text": [
      "tensor([[0.4586]])\n"
     ]
    },
    {
     "data": {
      "application/vnd.jupyter.widget-view+json": {
       "model_id": "81c8f4f9ff65403abd1ac93bb383bbbf",
       "version_major": 2,
       "version_minor": 0
      },
      "text/plain": [
       "Batches:   0%|          | 0/1 [00:00<?, ?it/s]"
      ]
     },
     "metadata": {},
     "output_type": "display_data"
    },
    {
     "data": {
      "application/vnd.jupyter.widget-view+json": {
       "model_id": "dc1fb5280de64713bcfcf3605ed19d0f",
       "version_major": 2,
       "version_minor": 0
      },
      "text/plain": [
       "Batches:   0%|          | 0/1 [00:00<?, ?it/s]"
      ]
     },
     "metadata": {},
     "output_type": "display_data"
    },
    {
     "name": "stdout",
     "output_type": "stream",
     "text": [
      "tensor([[0.4278]])\n"
     ]
    },
    {
     "data": {
      "application/vnd.jupyter.widget-view+json": {
       "model_id": "77d0f897bef6466caa5f893bc9694181",
       "version_major": 2,
       "version_minor": 0
      },
      "text/plain": [
       "Batches:   0%|          | 0/1 [00:00<?, ?it/s]"
      ]
     },
     "metadata": {},
     "output_type": "display_data"
    },
    {
     "data": {
      "application/vnd.jupyter.widget-view+json": {
       "model_id": "63d258206b6045dabc6b65a6fee738e1",
       "version_major": 2,
       "version_minor": 0
      },
      "text/plain": [
       "Batches:   0%|          | 0/1 [00:00<?, ?it/s]"
      ]
     },
     "metadata": {},
     "output_type": "display_data"
    },
    {
     "name": "stdout",
     "output_type": "stream",
     "text": [
      "tensor([[0.6732]])\n"
     ]
    },
    {
     "data": {
      "application/vnd.jupyter.widget-view+json": {
       "model_id": "deb603c339ee4b89abad21fed371c535",
       "version_major": 2,
       "version_minor": 0
      },
      "text/plain": [
       "Batches:   0%|          | 0/1 [00:00<?, ?it/s]"
      ]
     },
     "metadata": {},
     "output_type": "display_data"
    },
    {
     "data": {
      "application/vnd.jupyter.widget-view+json": {
       "model_id": "92bec589b40e4f689c4b28cc9fa7b2c4",
       "version_major": 2,
       "version_minor": 0
      },
      "text/plain": [
       "Batches:   0%|          | 0/1 [00:00<?, ?it/s]"
      ]
     },
     "metadata": {},
     "output_type": "display_data"
    },
    {
     "name": "stdout",
     "output_type": "stream",
     "text": [
      "tensor([[0.6979]])\n"
     ]
    },
    {
     "data": {
      "application/vnd.jupyter.widget-view+json": {
       "model_id": "2661b97d3b464663a3ed82afe40fd351",
       "version_major": 2,
       "version_minor": 0
      },
      "text/plain": [
       "Batches:   0%|          | 0/1 [00:00<?, ?it/s]"
      ]
     },
     "metadata": {},
     "output_type": "display_data"
    },
    {
     "data": {
      "application/vnd.jupyter.widget-view+json": {
       "model_id": "ae1161f049da437b87821cc60984e63e",
       "version_major": 2,
       "version_minor": 0
      },
      "text/plain": [
       "Batches:   0%|          | 0/1 [00:00<?, ?it/s]"
      ]
     },
     "metadata": {},
     "output_type": "display_data"
    },
    {
     "name": "stdout",
     "output_type": "stream",
     "text": [
      "tensor([[0.6718]])\n"
     ]
    },
    {
     "data": {
      "application/vnd.jupyter.widget-view+json": {
       "model_id": "2b687d11af004afaa13f90d876637224",
       "version_major": 2,
       "version_minor": 0
      },
      "text/plain": [
       "Batches:   0%|          | 0/1 [00:00<?, ?it/s]"
      ]
     },
     "metadata": {},
     "output_type": "display_data"
    },
    {
     "data": {
      "application/vnd.jupyter.widget-view+json": {
       "model_id": "bbcc7017a1754f33870c440e6512a799",
       "version_major": 2,
       "version_minor": 0
      },
      "text/plain": [
       "Batches:   0%|          | 0/1 [00:00<?, ?it/s]"
      ]
     },
     "metadata": {},
     "output_type": "display_data"
    },
    {
     "name": "stdout",
     "output_type": "stream",
     "text": [
      "tensor([[0.7708]])\n"
     ]
    },
    {
     "data": {
      "application/vnd.jupyter.widget-view+json": {
       "model_id": "fc43c38bacd54285bbfd0ed03cbd5ae3",
       "version_major": 2,
       "version_minor": 0
      },
      "text/plain": [
       "Batches:   0%|          | 0/1 [00:00<?, ?it/s]"
      ]
     },
     "metadata": {},
     "output_type": "display_data"
    },
    {
     "data": {
      "application/vnd.jupyter.widget-view+json": {
       "model_id": "8b74dce2a5804bddac45dae512228c85",
       "version_major": 2,
       "version_minor": 0
      },
      "text/plain": [
       "Batches:   0%|          | 0/1 [00:00<?, ?it/s]"
      ]
     },
     "metadata": {},
     "output_type": "display_data"
    },
    {
     "name": "stdout",
     "output_type": "stream",
     "text": [
      "tensor([[0.8184]])\n"
     ]
    },
    {
     "data": {
      "application/vnd.jupyter.widget-view+json": {
       "model_id": "cef3418c91d34d60967983eaaa3337be",
       "version_major": 2,
       "version_minor": 0
      },
      "text/plain": [
       "Batches:   0%|          | 0/1 [00:00<?, ?it/s]"
      ]
     },
     "metadata": {},
     "output_type": "display_data"
    },
    {
     "data": {
      "application/vnd.jupyter.widget-view+json": {
       "model_id": "7105ceb80d6c47e5b149201feec0e076",
       "version_major": 2,
       "version_minor": 0
      },
      "text/plain": [
       "Batches:   0%|          | 0/1 [00:00<?, ?it/s]"
      ]
     },
     "metadata": {},
     "output_type": "display_data"
    },
    {
     "name": "stdout",
     "output_type": "stream",
     "text": [
      "tensor([[0.6886]])\n"
     ]
    },
    {
     "data": {
      "application/vnd.jupyter.widget-view+json": {
       "model_id": "79987bf86b564e72a415a8350e01a4ea",
       "version_major": 2,
       "version_minor": 0
      },
      "text/plain": [
       "Batches:   0%|          | 0/1 [00:00<?, ?it/s]"
      ]
     },
     "metadata": {},
     "output_type": "display_data"
    },
    {
     "data": {
      "application/vnd.jupyter.widget-view+json": {
       "model_id": "bf0239948aff4a45a00375e9d6279548",
       "version_major": 2,
       "version_minor": 0
      },
      "text/plain": [
       "Batches:   0%|          | 0/1 [00:00<?, ?it/s]"
      ]
     },
     "metadata": {},
     "output_type": "display_data"
    },
    {
     "name": "stdout",
     "output_type": "stream",
     "text": [
      "tensor([[0.6201]])\n"
     ]
    },
    {
     "data": {
      "application/vnd.jupyter.widget-view+json": {
       "model_id": "71fbec00123f4b789048eb58d477b1e8",
       "version_major": 2,
       "version_minor": 0
      },
      "text/plain": [
       "Batches:   0%|          | 0/1 [00:00<?, ?it/s]"
      ]
     },
     "metadata": {},
     "output_type": "display_data"
    },
    {
     "data": {
      "application/vnd.jupyter.widget-view+json": {
       "model_id": "870417996c4e43ecb68f1ffca0584da9",
       "version_major": 2,
       "version_minor": 0
      },
      "text/plain": [
       "Batches:   0%|          | 0/1 [00:00<?, ?it/s]"
      ]
     },
     "metadata": {},
     "output_type": "display_data"
    },
    {
     "name": "stdout",
     "output_type": "stream",
     "text": [
      "tensor([[0.5888]])\n"
     ]
    },
    {
     "data": {
      "application/vnd.jupyter.widget-view+json": {
       "model_id": "41a62c6586574b78b91376135581d03c",
       "version_major": 2,
       "version_minor": 0
      },
      "text/plain": [
       "Batches:   0%|          | 0/1 [00:00<?, ?it/s]"
      ]
     },
     "metadata": {},
     "output_type": "display_data"
    },
    {
     "data": {
      "application/vnd.jupyter.widget-view+json": {
       "model_id": "6949f3ee045e482ea39b7dc9e2a64b86",
       "version_major": 2,
       "version_minor": 0
      },
      "text/plain": [
       "Batches:   0%|          | 0/1 [00:00<?, ?it/s]"
      ]
     },
     "metadata": {},
     "output_type": "display_data"
    },
    {
     "name": "stdout",
     "output_type": "stream",
     "text": [
      "tensor([[0.7738]])\n"
     ]
    },
    {
     "data": {
      "application/vnd.jupyter.widget-view+json": {
       "model_id": "7cc786ba48454ac6bfcf69e6a2cedec2",
       "version_major": 2,
       "version_minor": 0
      },
      "text/plain": [
       "Batches:   0%|          | 0/1 [00:00<?, ?it/s]"
      ]
     },
     "metadata": {},
     "output_type": "display_data"
    },
    {
     "data": {
      "application/vnd.jupyter.widget-view+json": {
       "model_id": "96512d9dfe864418ae3a01331c4f0580",
       "version_major": 2,
       "version_minor": 0
      },
      "text/plain": [
       "Batches:   0%|          | 0/1 [00:00<?, ?it/s]"
      ]
     },
     "metadata": {},
     "output_type": "display_data"
    },
    {
     "name": "stdout",
     "output_type": "stream",
     "text": [
      "tensor([[0.9064]])\n"
     ]
    },
    {
     "data": {
      "application/vnd.jupyter.widget-view+json": {
       "model_id": "4fa95ac5690d4ad49897eb63b577113f",
       "version_major": 2,
       "version_minor": 0
      },
      "text/plain": [
       "Batches:   0%|          | 0/1 [00:00<?, ?it/s]"
      ]
     },
     "metadata": {},
     "output_type": "display_data"
    },
    {
     "data": {
      "application/vnd.jupyter.widget-view+json": {
       "model_id": "5e014122c24242bf93d9cd89c6c8417d",
       "version_major": 2,
       "version_minor": 0
      },
      "text/plain": [
       "Batches:   0%|          | 0/1 [00:00<?, ?it/s]"
      ]
     },
     "metadata": {},
     "output_type": "display_data"
    },
    {
     "name": "stdout",
     "output_type": "stream",
     "text": [
      "tensor([[0.7039]])\n"
     ]
    },
    {
     "data": {
      "application/vnd.jupyter.widget-view+json": {
       "model_id": "e0ed743174ed49ab885b568fa41cd0c9",
       "version_major": 2,
       "version_minor": 0
      },
      "text/plain": [
       "Batches:   0%|          | 0/1 [00:00<?, ?it/s]"
      ]
     },
     "metadata": {},
     "output_type": "display_data"
    },
    {
     "data": {
      "application/vnd.jupyter.widget-view+json": {
       "model_id": "087df670d12646c7b9f86bf6098b0a65",
       "version_major": 2,
       "version_minor": 0
      },
      "text/plain": [
       "Batches:   0%|          | 0/1 [00:00<?, ?it/s]"
      ]
     },
     "metadata": {},
     "output_type": "display_data"
    },
    {
     "name": "stdout",
     "output_type": "stream",
     "text": [
      "tensor([[0.6095]])\n"
     ]
    },
    {
     "data": {
      "application/vnd.jupyter.widget-view+json": {
       "model_id": "1eac0fa7239e46a5bb085ee9e263e560",
       "version_major": 2,
       "version_minor": 0
      },
      "text/plain": [
       "Batches:   0%|          | 0/1 [00:00<?, ?it/s]"
      ]
     },
     "metadata": {},
     "output_type": "display_data"
    },
    {
     "data": {
      "application/vnd.jupyter.widget-view+json": {
       "model_id": "df1fd0b06c8a4a52981358250f0af41b",
       "version_major": 2,
       "version_minor": 0
      },
      "text/plain": [
       "Batches:   0%|          | 0/1 [00:00<?, ?it/s]"
      ]
     },
     "metadata": {},
     "output_type": "display_data"
    },
    {
     "name": "stdout",
     "output_type": "stream",
     "text": [
      "tensor([[0.6803]])\n"
     ]
    },
    {
     "data": {
      "application/vnd.jupyter.widget-view+json": {
       "model_id": "60136f1c71234f4c9286505a4de00198",
       "version_major": 2,
       "version_minor": 0
      },
      "text/plain": [
       "Batches:   0%|          | 0/1 [00:00<?, ?it/s]"
      ]
     },
     "metadata": {},
     "output_type": "display_data"
    },
    {
     "data": {
      "application/vnd.jupyter.widget-view+json": {
       "model_id": "3da89cd2cab14171883bff6ba7db3122",
       "version_major": 2,
       "version_minor": 0
      },
      "text/plain": [
       "Batches:   0%|          | 0/1 [00:00<?, ?it/s]"
      ]
     },
     "metadata": {},
     "output_type": "display_data"
    },
    {
     "name": "stdout",
     "output_type": "stream",
     "text": [
      "tensor([[0.6253]])\n"
     ]
    },
    {
     "data": {
      "application/vnd.jupyter.widget-view+json": {
       "model_id": "46ed7acaa1004d74abc16e31b5af946f",
       "version_major": 2,
       "version_minor": 0
      },
      "text/plain": [
       "Batches:   0%|          | 0/1 [00:00<?, ?it/s]"
      ]
     },
     "metadata": {},
     "output_type": "display_data"
    },
    {
     "data": {
      "application/vnd.jupyter.widget-view+json": {
       "model_id": "f6476747f6c54539b39bed5577c88f78",
       "version_major": 2,
       "version_minor": 0
      },
      "text/plain": [
       "Batches:   0%|          | 0/1 [00:00<?, ?it/s]"
      ]
     },
     "metadata": {},
     "output_type": "display_data"
    },
    {
     "name": "stdout",
     "output_type": "stream",
     "text": [
      "tensor([[0.6481]])\n"
     ]
    },
    {
     "data": {
      "application/vnd.jupyter.widget-view+json": {
       "model_id": "fd0d73e514b446d4b384c0b47b339798",
       "version_major": 2,
       "version_minor": 0
      },
      "text/plain": [
       "Batches:   0%|          | 0/1 [00:00<?, ?it/s]"
      ]
     },
     "metadata": {},
     "output_type": "display_data"
    },
    {
     "data": {
      "application/vnd.jupyter.widget-view+json": {
       "model_id": "24ff05db34f2419c9516c48a03a43743",
       "version_major": 2,
       "version_minor": 0
      },
      "text/plain": [
       "Batches:   0%|          | 0/1 [00:00<?, ?it/s]"
      ]
     },
     "metadata": {},
     "output_type": "display_data"
    },
    {
     "name": "stdout",
     "output_type": "stream",
     "text": [
      "tensor([[0.6833]])\n"
     ]
    },
    {
     "data": {
      "application/vnd.jupyter.widget-view+json": {
       "model_id": "8e8073b983de493587adea5e6bd2383b",
       "version_major": 2,
       "version_minor": 0
      },
      "text/plain": [
       "Batches:   0%|          | 0/1 [00:00<?, ?it/s]"
      ]
     },
     "metadata": {},
     "output_type": "display_data"
    },
    {
     "data": {
      "application/vnd.jupyter.widget-view+json": {
       "model_id": "d16d1755f25e4a8db7a1d5ff47692a9c",
       "version_major": 2,
       "version_minor": 0
      },
      "text/plain": [
       "Batches:   0%|          | 0/1 [00:00<?, ?it/s]"
      ]
     },
     "metadata": {},
     "output_type": "display_data"
    },
    {
     "name": "stdout",
     "output_type": "stream",
     "text": [
      "tensor([[0.8049]])\n"
     ]
    },
    {
     "data": {
      "application/vnd.jupyter.widget-view+json": {
       "model_id": "bde1b04e4b45440db09eaf5ad98798de",
       "version_major": 2,
       "version_minor": 0
      },
      "text/plain": [
       "Batches:   0%|          | 0/1 [00:00<?, ?it/s]"
      ]
     },
     "metadata": {},
     "output_type": "display_data"
    },
    {
     "data": {
      "application/vnd.jupyter.widget-view+json": {
       "model_id": "25abd2e8cb5f45edbde4bfa4fac85e7e",
       "version_major": 2,
       "version_minor": 0
      },
      "text/plain": [
       "Batches:   0%|          | 0/1 [00:00<?, ?it/s]"
      ]
     },
     "metadata": {},
     "output_type": "display_data"
    },
    {
     "name": "stdout",
     "output_type": "stream",
     "text": [
      "tensor([[0.7803]])\n"
     ]
    },
    {
     "data": {
      "application/vnd.jupyter.widget-view+json": {
       "model_id": "82dfdb2b5514468fa3e9d7ef83181651",
       "version_major": 2,
       "version_minor": 0
      },
      "text/plain": [
       "Batches:   0%|          | 0/1 [00:00<?, ?it/s]"
      ]
     },
     "metadata": {},
     "output_type": "display_data"
    },
    {
     "data": {
      "application/vnd.jupyter.widget-view+json": {
       "model_id": "b921b9baef1b4dfb995febfdf1468e33",
       "version_major": 2,
       "version_minor": 0
      },
      "text/plain": [
       "Batches:   0%|          | 0/1 [00:00<?, ?it/s]"
      ]
     },
     "metadata": {},
     "output_type": "display_data"
    },
    {
     "name": "stdout",
     "output_type": "stream",
     "text": [
      "tensor([[0.7483]])\n"
     ]
    },
    {
     "data": {
      "application/vnd.jupyter.widget-view+json": {
       "model_id": "33b70c86519a4ff7ad816085f84aa9a5",
       "version_major": 2,
       "version_minor": 0
      },
      "text/plain": [
       "Batches:   0%|          | 0/1 [00:00<?, ?it/s]"
      ]
     },
     "metadata": {},
     "output_type": "display_data"
    },
    {
     "data": {
      "application/vnd.jupyter.widget-view+json": {
       "model_id": "76556d5bc1a943b1a2795ebb49d5c756",
       "version_major": 2,
       "version_minor": 0
      },
      "text/plain": [
       "Batches:   0%|          | 0/1 [00:00<?, ?it/s]"
      ]
     },
     "metadata": {},
     "output_type": "display_data"
    },
    {
     "name": "stdout",
     "output_type": "stream",
     "text": [
      "tensor([[0.5454]])\n"
     ]
    },
    {
     "data": {
      "application/vnd.jupyter.widget-view+json": {
       "model_id": "6752cd620734466ba5fbf7c5be37c33e",
       "version_major": 2,
       "version_minor": 0
      },
      "text/plain": [
       "Batches:   0%|          | 0/1 [00:00<?, ?it/s]"
      ]
     },
     "metadata": {},
     "output_type": "display_data"
    },
    {
     "data": {
      "application/vnd.jupyter.widget-view+json": {
       "model_id": "47c7e663961c4dccbb5ce37dd307160b",
       "version_major": 2,
       "version_minor": 0
      },
      "text/plain": [
       "Batches:   0%|          | 0/1 [00:00<?, ?it/s]"
      ]
     },
     "metadata": {},
     "output_type": "display_data"
    },
    {
     "name": "stdout",
     "output_type": "stream",
     "text": [
      "tensor([[0.7138]])\n"
     ]
    },
    {
     "data": {
      "application/vnd.jupyter.widget-view+json": {
       "model_id": "aa8599a38f304a1180c53d402299831a",
       "version_major": 2,
       "version_minor": 0
      },
      "text/plain": [
       "Batches:   0%|          | 0/1 [00:00<?, ?it/s]"
      ]
     },
     "metadata": {},
     "output_type": "display_data"
    },
    {
     "data": {
      "application/vnd.jupyter.widget-view+json": {
       "model_id": "96f3f9de2fcc4a9eb2a931749d982e40",
       "version_major": 2,
       "version_minor": 0
      },
      "text/plain": [
       "Batches:   0%|          | 0/1 [00:00<?, ?it/s]"
      ]
     },
     "metadata": {},
     "output_type": "display_data"
    },
    {
     "name": "stdout",
     "output_type": "stream",
     "text": [
      "tensor([[0.7039]])\n"
     ]
    },
    {
     "data": {
      "application/vnd.jupyter.widget-view+json": {
       "model_id": "5b7263ac436f482299ff090f158e5ffc",
       "version_major": 2,
       "version_minor": 0
      },
      "text/plain": [
       "Batches:   0%|          | 0/1 [00:00<?, ?it/s]"
      ]
     },
     "metadata": {},
     "output_type": "display_data"
    },
    {
     "data": {
      "application/vnd.jupyter.widget-view+json": {
       "model_id": "c3f6110bb75946c385d8942fce67d902",
       "version_major": 2,
       "version_minor": 0
      },
      "text/plain": [
       "Batches:   0%|          | 0/1 [00:00<?, ?it/s]"
      ]
     },
     "metadata": {},
     "output_type": "display_data"
    },
    {
     "name": "stdout",
     "output_type": "stream",
     "text": [
      "tensor([[0.5976]])\n"
     ]
    },
    {
     "data": {
      "application/vnd.jupyter.widget-view+json": {
       "model_id": "a1b6f23eed104a3e9ba4b82362050900",
       "version_major": 2,
       "version_minor": 0
      },
      "text/plain": [
       "Batches:   0%|          | 0/1 [00:00<?, ?it/s]"
      ]
     },
     "metadata": {},
     "output_type": "display_data"
    },
    {
     "data": {
      "application/vnd.jupyter.widget-view+json": {
       "model_id": "3b1e81e6d2e4491eb07e66e165775017",
       "version_major": 2,
       "version_minor": 0
      },
      "text/plain": [
       "Batches:   0%|          | 0/1 [00:00<?, ?it/s]"
      ]
     },
     "metadata": {},
     "output_type": "display_data"
    },
    {
     "name": "stdout",
     "output_type": "stream",
     "text": [
      "tensor([[0.8417]])\n"
     ]
    },
    {
     "data": {
      "application/vnd.jupyter.widget-view+json": {
       "model_id": "aa9adfaa318a4fc5b857346f1d5e0024",
       "version_major": 2,
       "version_minor": 0
      },
      "text/plain": [
       "Batches:   0%|          | 0/1 [00:00<?, ?it/s]"
      ]
     },
     "metadata": {},
     "output_type": "display_data"
    },
    {
     "data": {
      "application/vnd.jupyter.widget-view+json": {
       "model_id": "6aabe248153440b7b79decaa0ce0f8f8",
       "version_major": 2,
       "version_minor": 0
      },
      "text/plain": [
       "Batches:   0%|          | 0/1 [00:00<?, ?it/s]"
      ]
     },
     "metadata": {},
     "output_type": "display_data"
    },
    {
     "name": "stdout",
     "output_type": "stream",
     "text": [
      "tensor([[0.8904]])\n"
     ]
    },
    {
     "data": {
      "application/vnd.jupyter.widget-view+json": {
       "model_id": "f013e72a6a6542f69cf89e325bc95ac2",
       "version_major": 2,
       "version_minor": 0
      },
      "text/plain": [
       "Batches:   0%|          | 0/1 [00:00<?, ?it/s]"
      ]
     },
     "metadata": {},
     "output_type": "display_data"
    },
    {
     "data": {
      "application/vnd.jupyter.widget-view+json": {
       "model_id": "893a83d5104d4d2d8e6c662f556df211",
       "version_major": 2,
       "version_minor": 0
      },
      "text/plain": [
       "Batches:   0%|          | 0/1 [00:00<?, ?it/s]"
      ]
     },
     "metadata": {},
     "output_type": "display_data"
    },
    {
     "name": "stdout",
     "output_type": "stream",
     "text": [
      "tensor([[0.6798]])\n"
     ]
    },
    {
     "data": {
      "application/vnd.jupyter.widget-view+json": {
       "model_id": "7ebe02c39ae84132b0907d000efecf8d",
       "version_major": 2,
       "version_minor": 0
      },
      "text/plain": [
       "Batches:   0%|          | 0/1 [00:00<?, ?it/s]"
      ]
     },
     "metadata": {},
     "output_type": "display_data"
    },
    {
     "data": {
      "application/vnd.jupyter.widget-view+json": {
       "model_id": "96faf342e6e74fa3831f87e726147bc9",
       "version_major": 2,
       "version_minor": 0
      },
      "text/plain": [
       "Batches:   0%|          | 0/1 [00:00<?, ?it/s]"
      ]
     },
     "metadata": {},
     "output_type": "display_data"
    },
    {
     "name": "stdout",
     "output_type": "stream",
     "text": [
      "tensor([[0.5479]])\n"
     ]
    },
    {
     "data": {
      "application/vnd.jupyter.widget-view+json": {
       "model_id": "3276bbee741f48a2b3732e5c7a6bff94",
       "version_major": 2,
       "version_minor": 0
      },
      "text/plain": [
       "Batches:   0%|          | 0/1 [00:00<?, ?it/s]"
      ]
     },
     "metadata": {},
     "output_type": "display_data"
    },
    {
     "data": {
      "application/vnd.jupyter.widget-view+json": {
       "model_id": "85f0a31540ba48199f91f8ed25fbd6c1",
       "version_major": 2,
       "version_minor": 0
      },
      "text/plain": [
       "Batches:   0%|          | 0/1 [00:00<?, ?it/s]"
      ]
     },
     "metadata": {},
     "output_type": "display_data"
    },
    {
     "name": "stdout",
     "output_type": "stream",
     "text": [
      "tensor([[0.6552]])\n"
     ]
    },
    {
     "data": {
      "application/vnd.jupyter.widget-view+json": {
       "model_id": "a8f24ee802d341bd82100a10124772b7",
       "version_major": 2,
       "version_minor": 0
      },
      "text/plain": [
       "Batches:   0%|          | 0/1 [00:00<?, ?it/s]"
      ]
     },
     "metadata": {},
     "output_type": "display_data"
    },
    {
     "data": {
      "application/vnd.jupyter.widget-view+json": {
       "model_id": "2f53df8cf2964defba3879e763dfa16e",
       "version_major": 2,
       "version_minor": 0
      },
      "text/plain": [
       "Batches:   0%|          | 0/1 [00:00<?, ?it/s]"
      ]
     },
     "metadata": {},
     "output_type": "display_data"
    },
    {
     "name": "stdout",
     "output_type": "stream",
     "text": [
      "tensor([[0.6028]])\n"
     ]
    },
    {
     "data": {
      "application/vnd.jupyter.widget-view+json": {
       "model_id": "2f494fb2f2c54c07a0ab5881802f3821",
       "version_major": 2,
       "version_minor": 0
      },
      "text/plain": [
       "Batches:   0%|          | 0/1 [00:00<?, ?it/s]"
      ]
     },
     "metadata": {},
     "output_type": "display_data"
    },
    {
     "data": {
      "application/vnd.jupyter.widget-view+json": {
       "model_id": "75a4e9d9242849b39485a510d28c8b6a",
       "version_major": 2,
       "version_minor": 0
      },
      "text/plain": [
       "Batches:   0%|          | 0/1 [00:00<?, ?it/s]"
      ]
     },
     "metadata": {},
     "output_type": "display_data"
    },
    {
     "name": "stdout",
     "output_type": "stream",
     "text": [
      "tensor([[0.9619]])\n"
     ]
    },
    {
     "data": {
      "application/vnd.jupyter.widget-view+json": {
       "model_id": "74d3ab4480404647aff82faaf7be4e18",
       "version_major": 2,
       "version_minor": 0
      },
      "text/plain": [
       "Batches:   0%|          | 0/1 [00:00<?, ?it/s]"
      ]
     },
     "metadata": {},
     "output_type": "display_data"
    },
    {
     "data": {
      "application/vnd.jupyter.widget-view+json": {
       "model_id": "4a4e2bf7edc2448499c9b0a2b7f14e18",
       "version_major": 2,
       "version_minor": 0
      },
      "text/plain": [
       "Batches:   0%|          | 0/1 [00:00<?, ?it/s]"
      ]
     },
     "metadata": {},
     "output_type": "display_data"
    },
    {
     "name": "stdout",
     "output_type": "stream",
     "text": [
      "tensor([[0.5758]])\n"
     ]
    },
    {
     "data": {
      "application/vnd.jupyter.widget-view+json": {
       "model_id": "ec1b412d870941709ca760d4f0bc4709",
       "version_major": 2,
       "version_minor": 0
      },
      "text/plain": [
       "Batches:   0%|          | 0/1 [00:00<?, ?it/s]"
      ]
     },
     "metadata": {},
     "output_type": "display_data"
    },
    {
     "data": {
      "application/vnd.jupyter.widget-view+json": {
       "model_id": "c669edaf588f4096b7b00dc4fc8edd66",
       "version_major": 2,
       "version_minor": 0
      },
      "text/plain": [
       "Batches:   0%|          | 0/1 [00:00<?, ?it/s]"
      ]
     },
     "metadata": {},
     "output_type": "display_data"
    },
    {
     "name": "stdout",
     "output_type": "stream",
     "text": [
      "tensor([[0.5562]])\n"
     ]
    },
    {
     "data": {
      "application/vnd.jupyter.widget-view+json": {
       "model_id": "78f03bc39aa9466f9f78b7cc71e0f486",
       "version_major": 2,
       "version_minor": 0
      },
      "text/plain": [
       "Batches:   0%|          | 0/1 [00:00<?, ?it/s]"
      ]
     },
     "metadata": {},
     "output_type": "display_data"
    },
    {
     "data": {
      "application/vnd.jupyter.widget-view+json": {
       "model_id": "7afbabe53ec14228b6c943a6cf92b4ac",
       "version_major": 2,
       "version_minor": 0
      },
      "text/plain": [
       "Batches:   0%|          | 0/1 [00:00<?, ?it/s]"
      ]
     },
     "metadata": {},
     "output_type": "display_data"
    },
    {
     "name": "stdout",
     "output_type": "stream",
     "text": [
      "tensor([[0.8513]])\n"
     ]
    },
    {
     "data": {
      "application/vnd.jupyter.widget-view+json": {
       "model_id": "41b88c81b8364138b51db137ed62cef7",
       "version_major": 2,
       "version_minor": 0
      },
      "text/plain": [
       "Batches:   0%|          | 0/1 [00:00<?, ?it/s]"
      ]
     },
     "metadata": {},
     "output_type": "display_data"
    },
    {
     "data": {
      "application/vnd.jupyter.widget-view+json": {
       "model_id": "046fd91596e54b5bab84b6ac59a90468",
       "version_major": 2,
       "version_minor": 0
      },
      "text/plain": [
       "Batches:   0%|          | 0/1 [00:00<?, ?it/s]"
      ]
     },
     "metadata": {},
     "output_type": "display_data"
    },
    {
     "name": "stdout",
     "output_type": "stream",
     "text": [
      "tensor([[0.5651]])\n"
     ]
    },
    {
     "data": {
      "application/vnd.jupyter.widget-view+json": {
       "model_id": "3df435a12e57464a891b8ec511fab628",
       "version_major": 2,
       "version_minor": 0
      },
      "text/plain": [
       "Batches:   0%|          | 0/1 [00:00<?, ?it/s]"
      ]
     },
     "metadata": {},
     "output_type": "display_data"
    },
    {
     "data": {
      "application/vnd.jupyter.widget-view+json": {
       "model_id": "ff75b467a3c546af9495e0461f6db7ff",
       "version_major": 2,
       "version_minor": 0
      },
      "text/plain": [
       "Batches:   0%|          | 0/1 [00:00<?, ?it/s]"
      ]
     },
     "metadata": {},
     "output_type": "display_data"
    },
    {
     "name": "stdout",
     "output_type": "stream",
     "text": [
      "tensor([[0.5665]])\n"
     ]
    },
    {
     "data": {
      "application/vnd.jupyter.widget-view+json": {
       "model_id": "e8f78e609d5a40bf968991a3c456574b",
       "version_major": 2,
       "version_minor": 0
      },
      "text/plain": [
       "Batches:   0%|          | 0/1 [00:00<?, ?it/s]"
      ]
     },
     "metadata": {},
     "output_type": "display_data"
    },
    {
     "data": {
      "application/vnd.jupyter.widget-view+json": {
       "model_id": "bbb242144fa4490facb0b4b1f0827d2e",
       "version_major": 2,
       "version_minor": 0
      },
      "text/plain": [
       "Batches:   0%|          | 0/1 [00:00<?, ?it/s]"
      ]
     },
     "metadata": {},
     "output_type": "display_data"
    },
    {
     "name": "stdout",
     "output_type": "stream",
     "text": [
      "tensor([[0.7437]])\n"
     ]
    },
    {
     "data": {
      "application/vnd.jupyter.widget-view+json": {
       "model_id": "b85a436c8e6f4b6a8c9f54a96e9e97be",
       "version_major": 2,
       "version_minor": 0
      },
      "text/plain": [
       "Batches:   0%|          | 0/1 [00:00<?, ?it/s]"
      ]
     },
     "metadata": {},
     "output_type": "display_data"
    },
    {
     "data": {
      "application/vnd.jupyter.widget-view+json": {
       "model_id": "2bff0706ea07468397c5480a8f9d128d",
       "version_major": 2,
       "version_minor": 0
      },
      "text/plain": [
       "Batches:   0%|          | 0/1 [00:00<?, ?it/s]"
      ]
     },
     "metadata": {},
     "output_type": "display_data"
    },
    {
     "name": "stdout",
     "output_type": "stream",
     "text": [
      "tensor([[0.6188]])\n"
     ]
    },
    {
     "data": {
      "application/vnd.jupyter.widget-view+json": {
       "model_id": "9b114423209540f4a860300e59a12e08",
       "version_major": 2,
       "version_minor": 0
      },
      "text/plain": [
       "Batches:   0%|          | 0/1 [00:00<?, ?it/s]"
      ]
     },
     "metadata": {},
     "output_type": "display_data"
    },
    {
     "data": {
      "application/vnd.jupyter.widget-view+json": {
       "model_id": "3ff4ce8badd94d1694f8f8cdbeffa0e4",
       "version_major": 2,
       "version_minor": 0
      },
      "text/plain": [
       "Batches:   0%|          | 0/1 [00:00<?, ?it/s]"
      ]
     },
     "metadata": {},
     "output_type": "display_data"
    },
    {
     "name": "stdout",
     "output_type": "stream",
     "text": [
      "tensor([[0.9385]])\n"
     ]
    },
    {
     "data": {
      "application/vnd.jupyter.widget-view+json": {
       "model_id": "44299acd8c2b48e499f3060fb2152f6b",
       "version_major": 2,
       "version_minor": 0
      },
      "text/plain": [
       "Batches:   0%|          | 0/1 [00:00<?, ?it/s]"
      ]
     },
     "metadata": {},
     "output_type": "display_data"
    },
    {
     "data": {
      "application/vnd.jupyter.widget-view+json": {
       "model_id": "273905beee644aae9fdf1f68666e8cde",
       "version_major": 2,
       "version_minor": 0
      },
      "text/plain": [
       "Batches:   0%|          | 0/1 [00:00<?, ?it/s]"
      ]
     },
     "metadata": {},
     "output_type": "display_data"
    },
    {
     "name": "stdout",
     "output_type": "stream",
     "text": [
      "tensor([[0.4956]])\n"
     ]
    },
    {
     "data": {
      "application/vnd.jupyter.widget-view+json": {
       "model_id": "4d3ae8250fc44efe92ea524307cd9c89",
       "version_major": 2,
       "version_minor": 0
      },
      "text/plain": [
       "Batches:   0%|          | 0/1 [00:00<?, ?it/s]"
      ]
     },
     "metadata": {},
     "output_type": "display_data"
    },
    {
     "data": {
      "application/vnd.jupyter.widget-view+json": {
       "model_id": "ca6f44a5dfca44148f69efefa449df50",
       "version_major": 2,
       "version_minor": 0
      },
      "text/plain": [
       "Batches:   0%|          | 0/1 [00:00<?, ?it/s]"
      ]
     },
     "metadata": {},
     "output_type": "display_data"
    },
    {
     "name": "stdout",
     "output_type": "stream",
     "text": [
      "tensor([[0.6115]])\n"
     ]
    },
    {
     "data": {
      "application/vnd.jupyter.widget-view+json": {
       "model_id": "cb1ccbe226e643e4bb7cbffc9f42bed0",
       "version_major": 2,
       "version_minor": 0
      },
      "text/plain": [
       "Batches:   0%|          | 0/1 [00:00<?, ?it/s]"
      ]
     },
     "metadata": {},
     "output_type": "display_data"
    },
    {
     "data": {
      "application/vnd.jupyter.widget-view+json": {
       "model_id": "735b8abaef1549d4a4480411485f9f67",
       "version_major": 2,
       "version_minor": 0
      },
      "text/plain": [
       "Batches:   0%|          | 0/1 [00:00<?, ?it/s]"
      ]
     },
     "metadata": {},
     "output_type": "display_data"
    },
    {
     "name": "stdout",
     "output_type": "stream",
     "text": [
      "tensor([[0.5636]])\n"
     ]
    },
    {
     "data": {
      "application/vnd.jupyter.widget-view+json": {
       "model_id": "dbf39f15ee584bbc860feef4752eb35e",
       "version_major": 2,
       "version_minor": 0
      },
      "text/plain": [
       "Batches:   0%|          | 0/1 [00:00<?, ?it/s]"
      ]
     },
     "metadata": {},
     "output_type": "display_data"
    },
    {
     "data": {
      "application/vnd.jupyter.widget-view+json": {
       "model_id": "89ed182d53c64b4db19287577bd13f6f",
       "version_major": 2,
       "version_minor": 0
      },
      "text/plain": [
       "Batches:   0%|          | 0/1 [00:00<?, ?it/s]"
      ]
     },
     "metadata": {},
     "output_type": "display_data"
    },
    {
     "name": "stdout",
     "output_type": "stream",
     "text": [
      "tensor([[0.7286]])\n"
     ]
    },
    {
     "data": {
      "application/vnd.jupyter.widget-view+json": {
       "model_id": "e810ee2c6fde4c92bd78daff0d39b5cb",
       "version_major": 2,
       "version_minor": 0
      },
      "text/plain": [
       "Batches:   0%|          | 0/1 [00:00<?, ?it/s]"
      ]
     },
     "metadata": {},
     "output_type": "display_data"
    },
    {
     "data": {
      "application/vnd.jupyter.widget-view+json": {
       "model_id": "3ec73c71415f44d1a16e0de28ad1ee82",
       "version_major": 2,
       "version_minor": 0
      },
      "text/plain": [
       "Batches:   0%|          | 0/1 [00:00<?, ?it/s]"
      ]
     },
     "metadata": {},
     "output_type": "display_data"
    },
    {
     "name": "stdout",
     "output_type": "stream",
     "text": [
      "tensor([[0.4649]])\n"
     ]
    },
    {
     "data": {
      "application/vnd.jupyter.widget-view+json": {
       "model_id": "28c1498d1c28435382fe71e763be9707",
       "version_major": 2,
       "version_minor": 0
      },
      "text/plain": [
       "Batches:   0%|          | 0/1 [00:00<?, ?it/s]"
      ]
     },
     "metadata": {},
     "output_type": "display_data"
    },
    {
     "data": {
      "application/vnd.jupyter.widget-view+json": {
       "model_id": "5863555ae4314441b3151c7301042324",
       "version_major": 2,
       "version_minor": 0
      },
      "text/plain": [
       "Batches:   0%|          | 0/1 [00:00<?, ?it/s]"
      ]
     },
     "metadata": {},
     "output_type": "display_data"
    },
    {
     "name": "stdout",
     "output_type": "stream",
     "text": [
      "tensor([[0.7317]])\n"
     ]
    },
    {
     "data": {
      "application/vnd.jupyter.widget-view+json": {
       "model_id": "583c812dab2847f3a94879d993e8a5b9",
       "version_major": 2,
       "version_minor": 0
      },
      "text/plain": [
       "Batches:   0%|          | 0/1 [00:00<?, ?it/s]"
      ]
     },
     "metadata": {},
     "output_type": "display_data"
    },
    {
     "data": {
      "application/vnd.jupyter.widget-view+json": {
       "model_id": "2f8bd349f608467fa1b0c3b5b7525f18",
       "version_major": 2,
       "version_minor": 0
      },
      "text/plain": [
       "Batches:   0%|          | 0/1 [00:00<?, ?it/s]"
      ]
     },
     "metadata": {},
     "output_type": "display_data"
    },
    {
     "name": "stdout",
     "output_type": "stream",
     "text": [
      "tensor([[0.7040]])\n"
     ]
    },
    {
     "data": {
      "application/vnd.jupyter.widget-view+json": {
       "model_id": "eaf33136373e49eaa859cc620fea358c",
       "version_major": 2,
       "version_minor": 0
      },
      "text/plain": [
       "Batches:   0%|          | 0/1 [00:00<?, ?it/s]"
      ]
     },
     "metadata": {},
     "output_type": "display_data"
    },
    {
     "data": {
      "application/vnd.jupyter.widget-view+json": {
       "model_id": "f9949bc9d3674649961a4176193f45c5",
       "version_major": 2,
       "version_minor": 0
      },
      "text/plain": [
       "Batches:   0%|          | 0/1 [00:00<?, ?it/s]"
      ]
     },
     "metadata": {},
     "output_type": "display_data"
    },
    {
     "name": "stdout",
     "output_type": "stream",
     "text": [
      "tensor([[0.3911]])\n"
     ]
    },
    {
     "data": {
      "application/vnd.jupyter.widget-view+json": {
       "model_id": "5624a93f16cf4e1799b4add1ac90e140",
       "version_major": 2,
       "version_minor": 0
      },
      "text/plain": [
       "Batches:   0%|          | 0/1 [00:00<?, ?it/s]"
      ]
     },
     "metadata": {},
     "output_type": "display_data"
    },
    {
     "data": {
      "application/vnd.jupyter.widget-view+json": {
       "model_id": "8c73fcbfe31d4db48ff7c0a04cacee93",
       "version_major": 2,
       "version_minor": 0
      },
      "text/plain": [
       "Batches:   0%|          | 0/1 [00:00<?, ?it/s]"
      ]
     },
     "metadata": {},
     "output_type": "display_data"
    },
    {
     "name": "stdout",
     "output_type": "stream",
     "text": [
      "tensor([[0.6162]])\n"
     ]
    },
    {
     "data": {
      "application/vnd.jupyter.widget-view+json": {
       "model_id": "ac758d4bbe234f54a81a24f0001cfaca",
       "version_major": 2,
       "version_minor": 0
      },
      "text/plain": [
       "Batches:   0%|          | 0/1 [00:00<?, ?it/s]"
      ]
     },
     "metadata": {},
     "output_type": "display_data"
    },
    {
     "data": {
      "application/vnd.jupyter.widget-view+json": {
       "model_id": "f637b9bb9d7b4819ae0ee2a962dae65d",
       "version_major": 2,
       "version_minor": 0
      },
      "text/plain": [
       "Batches:   0%|          | 0/1 [00:00<?, ?it/s]"
      ]
     },
     "metadata": {},
     "output_type": "display_data"
    },
    {
     "name": "stdout",
     "output_type": "stream",
     "text": [
      "tensor([[0.7363]])\n"
     ]
    },
    {
     "data": {
      "application/vnd.jupyter.widget-view+json": {
       "model_id": "0c82c0ce5a79426aa012b2dd540a09f3",
       "version_major": 2,
       "version_minor": 0
      },
      "text/plain": [
       "Batches:   0%|          | 0/1 [00:00<?, ?it/s]"
      ]
     },
     "metadata": {},
     "output_type": "display_data"
    },
    {
     "data": {
      "application/vnd.jupyter.widget-view+json": {
       "model_id": "9313867dd44c4fc0baf8ca3cf7e4dfc8",
       "version_major": 2,
       "version_minor": 0
      },
      "text/plain": [
       "Batches:   0%|          | 0/1 [00:00<?, ?it/s]"
      ]
     },
     "metadata": {},
     "output_type": "display_data"
    },
    {
     "name": "stdout",
     "output_type": "stream",
     "text": [
      "tensor([[0.6594]])\n"
     ]
    },
    {
     "data": {
      "application/vnd.jupyter.widget-view+json": {
       "model_id": "e851d47e62174e11aec8d2b9fd3a4095",
       "version_major": 2,
       "version_minor": 0
      },
      "text/plain": [
       "Batches:   0%|          | 0/1 [00:00<?, ?it/s]"
      ]
     },
     "metadata": {},
     "output_type": "display_data"
    },
    {
     "data": {
      "application/vnd.jupyter.widget-view+json": {
       "model_id": "be31ea2e0a604c45b2e6fde997a62841",
       "version_major": 2,
       "version_minor": 0
      },
      "text/plain": [
       "Batches:   0%|          | 0/1 [00:00<?, ?it/s]"
      ]
     },
     "metadata": {},
     "output_type": "display_data"
    },
    {
     "name": "stdout",
     "output_type": "stream",
     "text": [
      "tensor([[0.4695]])\n"
     ]
    },
    {
     "data": {
      "application/vnd.jupyter.widget-view+json": {
       "model_id": "849c518cd0764ca492d55ab72c3733b9",
       "version_major": 2,
       "version_minor": 0
      },
      "text/plain": [
       "Batches:   0%|          | 0/1 [00:00<?, ?it/s]"
      ]
     },
     "metadata": {},
     "output_type": "display_data"
    },
    {
     "data": {
      "application/vnd.jupyter.widget-view+json": {
       "model_id": "00fd620b993b484587acc126593375e0",
       "version_major": 2,
       "version_minor": 0
      },
      "text/plain": [
       "Batches:   0%|          | 0/1 [00:00<?, ?it/s]"
      ]
     },
     "metadata": {},
     "output_type": "display_data"
    },
    {
     "name": "stdout",
     "output_type": "stream",
     "text": [
      "tensor([[0.6207]])\n"
     ]
    },
    {
     "data": {
      "application/vnd.jupyter.widget-view+json": {
       "model_id": "a62080a3335f456e8adc686ce9ed99d3",
       "version_major": 2,
       "version_minor": 0
      },
      "text/plain": [
       "Batches:   0%|          | 0/1 [00:00<?, ?it/s]"
      ]
     },
     "metadata": {},
     "output_type": "display_data"
    },
    {
     "data": {
      "application/vnd.jupyter.widget-view+json": {
       "model_id": "75532019c3a440fabca786fb658e98f3",
       "version_major": 2,
       "version_minor": 0
      },
      "text/plain": [
       "Batches:   0%|          | 0/1 [00:00<?, ?it/s]"
      ]
     },
     "metadata": {},
     "output_type": "display_data"
    },
    {
     "name": "stdout",
     "output_type": "stream",
     "text": [
      "tensor([[0.8416]])\n"
     ]
    },
    {
     "data": {
      "application/vnd.jupyter.widget-view+json": {
       "model_id": "f0ea72f7b7c84f1b901f0e329e69cdf4",
       "version_major": 2,
       "version_minor": 0
      },
      "text/plain": [
       "Batches:   0%|          | 0/1 [00:00<?, ?it/s]"
      ]
     },
     "metadata": {},
     "output_type": "display_data"
    },
    {
     "data": {
      "application/vnd.jupyter.widget-view+json": {
       "model_id": "28262b97a0a344fdafa5b2b19c28f5ce",
       "version_major": 2,
       "version_minor": 0
      },
      "text/plain": [
       "Batches:   0%|          | 0/1 [00:00<?, ?it/s]"
      ]
     },
     "metadata": {},
     "output_type": "display_data"
    },
    {
     "name": "stdout",
     "output_type": "stream",
     "text": [
      "tensor([[0.7169]])\n"
     ]
    },
    {
     "data": {
      "application/vnd.jupyter.widget-view+json": {
       "model_id": "d7960c52014d4c349074df83a73b81ee",
       "version_major": 2,
       "version_minor": 0
      },
      "text/plain": [
       "Batches:   0%|          | 0/1 [00:00<?, ?it/s]"
      ]
     },
     "metadata": {},
     "output_type": "display_data"
    },
    {
     "data": {
      "application/vnd.jupyter.widget-view+json": {
       "model_id": "d9b588fc3e054d1a9e99e14d9a6871ec",
       "version_major": 2,
       "version_minor": 0
      },
      "text/plain": [
       "Batches:   0%|          | 0/1 [00:00<?, ?it/s]"
      ]
     },
     "metadata": {},
     "output_type": "display_data"
    },
    {
     "name": "stdout",
     "output_type": "stream",
     "text": [
      "tensor([[0.6692]])\n"
     ]
    },
    {
     "data": {
      "application/vnd.jupyter.widget-view+json": {
       "model_id": "4840f0f75fe84fe694f09f1596705f92",
       "version_major": 2,
       "version_minor": 0
      },
      "text/plain": [
       "Batches:   0%|          | 0/1 [00:00<?, ?it/s]"
      ]
     },
     "metadata": {},
     "output_type": "display_data"
    },
    {
     "data": {
      "application/vnd.jupyter.widget-view+json": {
       "model_id": "3120d37ac4cb40b1b833a9b0bbf81adc",
       "version_major": 2,
       "version_minor": 0
      },
      "text/plain": [
       "Batches:   0%|          | 0/1 [00:00<?, ?it/s]"
      ]
     },
     "metadata": {},
     "output_type": "display_data"
    },
    {
     "name": "stdout",
     "output_type": "stream",
     "text": [
      "tensor([[0.7883]])\n"
     ]
    },
    {
     "data": {
      "application/vnd.jupyter.widget-view+json": {
       "model_id": "20ac327d78a24eab87b15f3ff08927c6",
       "version_major": 2,
       "version_minor": 0
      },
      "text/plain": [
       "Batches:   0%|          | 0/1 [00:00<?, ?it/s]"
      ]
     },
     "metadata": {},
     "output_type": "display_data"
    },
    {
     "data": {
      "application/vnd.jupyter.widget-view+json": {
       "model_id": "d58e23b588cb4755a7436118cd5facbb",
       "version_major": 2,
       "version_minor": 0
      },
      "text/plain": [
       "Batches:   0%|          | 0/1 [00:00<?, ?it/s]"
      ]
     },
     "metadata": {},
     "output_type": "display_data"
    },
    {
     "name": "stdout",
     "output_type": "stream",
     "text": [
      "tensor([[0.6471]])\n"
     ]
    },
    {
     "data": {
      "application/vnd.jupyter.widget-view+json": {
       "model_id": "8b84c40cb9f24958abd39f3bef5d1063",
       "version_major": 2,
       "version_minor": 0
      },
      "text/plain": [
       "Batches:   0%|          | 0/1 [00:00<?, ?it/s]"
      ]
     },
     "metadata": {},
     "output_type": "display_data"
    },
    {
     "data": {
      "application/vnd.jupyter.widget-view+json": {
       "model_id": "07609acf6595471b83c33f1c9887c4d2",
       "version_major": 2,
       "version_minor": 0
      },
      "text/plain": [
       "Batches:   0%|          | 0/1 [00:00<?, ?it/s]"
      ]
     },
     "metadata": {},
     "output_type": "display_data"
    },
    {
     "name": "stdout",
     "output_type": "stream",
     "text": [
      "tensor([[0.7754]])\n"
     ]
    },
    {
     "data": {
      "application/vnd.jupyter.widget-view+json": {
       "model_id": "36d36323ef7c4c3e930488bd4d649b6f",
       "version_major": 2,
       "version_minor": 0
      },
      "text/plain": [
       "Batches:   0%|          | 0/1 [00:00<?, ?it/s]"
      ]
     },
     "metadata": {},
     "output_type": "display_data"
    },
    {
     "data": {
      "application/vnd.jupyter.widget-view+json": {
       "model_id": "c237f9d4d0574c80b432330f3c2f9d8f",
       "version_major": 2,
       "version_minor": 0
      },
      "text/plain": [
       "Batches:   0%|          | 0/1 [00:00<?, ?it/s]"
      ]
     },
     "metadata": {},
     "output_type": "display_data"
    },
    {
     "name": "stdout",
     "output_type": "stream",
     "text": [
      "tensor([[0.6430]])\n"
     ]
    },
    {
     "data": {
      "application/vnd.jupyter.widget-view+json": {
       "model_id": "5f8747c0cca34b19b29e0f3ce4066d90",
       "version_major": 2,
       "version_minor": 0
      },
      "text/plain": [
       "Batches:   0%|          | 0/1 [00:00<?, ?it/s]"
      ]
     },
     "metadata": {},
     "output_type": "display_data"
    },
    {
     "data": {
      "application/vnd.jupyter.widget-view+json": {
       "model_id": "a18f14dcf9074a3390275c4aa2543abe",
       "version_major": 2,
       "version_minor": 0
      },
      "text/plain": [
       "Batches:   0%|          | 0/1 [00:00<?, ?it/s]"
      ]
     },
     "metadata": {},
     "output_type": "display_data"
    },
    {
     "name": "stdout",
     "output_type": "stream",
     "text": [
      "tensor([[0.8601]])\n"
     ]
    },
    {
     "data": {
      "application/vnd.jupyter.widget-view+json": {
       "model_id": "fcc6c4b5c28f4c4ea613b52108db40a0",
       "version_major": 2,
       "version_minor": 0
      },
      "text/plain": [
       "Batches:   0%|          | 0/1 [00:00<?, ?it/s]"
      ]
     },
     "metadata": {},
     "output_type": "display_data"
    },
    {
     "data": {
      "application/vnd.jupyter.widget-view+json": {
       "model_id": "3a3343937bc3474bb30a7d46f0f2998b",
       "version_major": 2,
       "version_minor": 0
      },
      "text/plain": [
       "Batches:   0%|          | 0/1 [00:00<?, ?it/s]"
      ]
     },
     "metadata": {},
     "output_type": "display_data"
    },
    {
     "name": "stdout",
     "output_type": "stream",
     "text": [
      "tensor([[0.4947]])\n"
     ]
    },
    {
     "data": {
      "application/vnd.jupyter.widget-view+json": {
       "model_id": "9a4b78d296c040e78accba7fdd8208b1",
       "version_major": 2,
       "version_minor": 0
      },
      "text/plain": [
       "Batches:   0%|          | 0/1 [00:00<?, ?it/s]"
      ]
     },
     "metadata": {},
     "output_type": "display_data"
    },
    {
     "data": {
      "application/vnd.jupyter.widget-view+json": {
       "model_id": "33b159694a634bf6b5b8db29a8787309",
       "version_major": 2,
       "version_minor": 0
      },
      "text/plain": [
       "Batches:   0%|          | 0/1 [00:00<?, ?it/s]"
      ]
     },
     "metadata": {},
     "output_type": "display_data"
    },
    {
     "name": "stdout",
     "output_type": "stream",
     "text": [
      "tensor([[0.6326]])\n"
     ]
    },
    {
     "data": {
      "application/vnd.jupyter.widget-view+json": {
       "model_id": "c15f1d47d8e94434a3793089d78d4f90",
       "version_major": 2,
       "version_minor": 0
      },
      "text/plain": [
       "Batches:   0%|          | 0/1 [00:00<?, ?it/s]"
      ]
     },
     "metadata": {},
     "output_type": "display_data"
    },
    {
     "data": {
      "application/vnd.jupyter.widget-view+json": {
       "model_id": "9cb0417db55b4973b6354d87bbe1fc25",
       "version_major": 2,
       "version_minor": 0
      },
      "text/plain": [
       "Batches:   0%|          | 0/1 [00:00<?, ?it/s]"
      ]
     },
     "metadata": {},
     "output_type": "display_data"
    },
    {
     "name": "stdout",
     "output_type": "stream",
     "text": [
      "tensor([[0.6052]])\n"
     ]
    },
    {
     "data": {
      "application/vnd.jupyter.widget-view+json": {
       "model_id": "ed6ac2a204034d7f8b6bb8166fd293fc",
       "version_major": 2,
       "version_minor": 0
      },
      "text/plain": [
       "Batches:   0%|          | 0/1 [00:00<?, ?it/s]"
      ]
     },
     "metadata": {},
     "output_type": "display_data"
    },
    {
     "data": {
      "application/vnd.jupyter.widget-view+json": {
       "model_id": "47b1d1bbfa7644c696d80277db9c7225",
       "version_major": 2,
       "version_minor": 0
      },
      "text/plain": [
       "Batches:   0%|          | 0/1 [00:00<?, ?it/s]"
      ]
     },
     "metadata": {},
     "output_type": "display_data"
    },
    {
     "name": "stdout",
     "output_type": "stream",
     "text": [
      "tensor([[0.6500]])\n"
     ]
    },
    {
     "data": {
      "application/vnd.jupyter.widget-view+json": {
       "model_id": "80268212fc0847d9880b1886964fc1a5",
       "version_major": 2,
       "version_minor": 0
      },
      "text/plain": [
       "Batches:   0%|          | 0/1 [00:00<?, ?it/s]"
      ]
     },
     "metadata": {},
     "output_type": "display_data"
    },
    {
     "data": {
      "application/vnd.jupyter.widget-view+json": {
       "model_id": "ff3ee0bc245f45eaa5cc310b1c271210",
       "version_major": 2,
       "version_minor": 0
      },
      "text/plain": [
       "Batches:   0%|          | 0/1 [00:00<?, ?it/s]"
      ]
     },
     "metadata": {},
     "output_type": "display_data"
    },
    {
     "name": "stdout",
     "output_type": "stream",
     "text": [
      "tensor([[0.6231]])\n"
     ]
    },
    {
     "data": {
      "application/vnd.jupyter.widget-view+json": {
       "model_id": "a853b34b0ccb4fdf9c76b0d192046880",
       "version_major": 2,
       "version_minor": 0
      },
      "text/plain": [
       "Batches:   0%|          | 0/1 [00:00<?, ?it/s]"
      ]
     },
     "metadata": {},
     "output_type": "display_data"
    },
    {
     "data": {
      "application/vnd.jupyter.widget-view+json": {
       "model_id": "ae155007eef644149151e5791596c369",
       "version_major": 2,
       "version_minor": 0
      },
      "text/plain": [
       "Batches:   0%|          | 0/1 [00:00<?, ?it/s]"
      ]
     },
     "metadata": {},
     "output_type": "display_data"
    },
    {
     "name": "stdout",
     "output_type": "stream",
     "text": [
      "tensor([[0.6777]])\n"
     ]
    },
    {
     "data": {
      "application/vnd.jupyter.widget-view+json": {
       "model_id": "a6d5e7d0b4ed4ebd92678e848d6bf687",
       "version_major": 2,
       "version_minor": 0
      },
      "text/plain": [
       "Batches:   0%|          | 0/1 [00:00<?, ?it/s]"
      ]
     },
     "metadata": {},
     "output_type": "display_data"
    },
    {
     "data": {
      "application/vnd.jupyter.widget-view+json": {
       "model_id": "e6325f35400f4f6785254d5bb33311c6",
       "version_major": 2,
       "version_minor": 0
      },
      "text/plain": [
       "Batches:   0%|          | 0/1 [00:00<?, ?it/s]"
      ]
     },
     "metadata": {},
     "output_type": "display_data"
    },
    {
     "name": "stdout",
     "output_type": "stream",
     "text": [
      "tensor([[0.8518]])\n"
     ]
    },
    {
     "data": {
      "application/vnd.jupyter.widget-view+json": {
       "model_id": "d53dd448db5349efbcf7911e67b94cad",
       "version_major": 2,
       "version_minor": 0
      },
      "text/plain": [
       "Batches:   0%|          | 0/1 [00:00<?, ?it/s]"
      ]
     },
     "metadata": {},
     "output_type": "display_data"
    },
    {
     "data": {
      "application/vnd.jupyter.widget-view+json": {
       "model_id": "eae9650f44724373bfae73cdca0a5971",
       "version_major": 2,
       "version_minor": 0
      },
      "text/plain": [
       "Batches:   0%|          | 0/1 [00:00<?, ?it/s]"
      ]
     },
     "metadata": {},
     "output_type": "display_data"
    },
    {
     "name": "stdout",
     "output_type": "stream",
     "text": [
      "tensor([[0.8965]])\n"
     ]
    },
    {
     "data": {
      "application/vnd.jupyter.widget-view+json": {
       "model_id": "210f5a183eec49618e982e27d79e1f25",
       "version_major": 2,
       "version_minor": 0
      },
      "text/plain": [
       "Batches:   0%|          | 0/1 [00:00<?, ?it/s]"
      ]
     },
     "metadata": {},
     "output_type": "display_data"
    },
    {
     "data": {
      "application/vnd.jupyter.widget-view+json": {
       "model_id": "3744b358b3f045aca0dc9d11035cc5a2",
       "version_major": 2,
       "version_minor": 0
      },
      "text/plain": [
       "Batches:   0%|          | 0/1 [00:00<?, ?it/s]"
      ]
     },
     "metadata": {},
     "output_type": "display_data"
    },
    {
     "name": "stdout",
     "output_type": "stream",
     "text": [
      "tensor([[0.6078]])\n"
     ]
    },
    {
     "data": {
      "application/vnd.jupyter.widget-view+json": {
       "model_id": "ace1d5c25af84278a9b4e759d55b42c1",
       "version_major": 2,
       "version_minor": 0
      },
      "text/plain": [
       "Batches:   0%|          | 0/1 [00:00<?, ?it/s]"
      ]
     },
     "metadata": {},
     "output_type": "display_data"
    },
    {
     "data": {
      "application/vnd.jupyter.widget-view+json": {
       "model_id": "c13c84017c324e81bda37f43252e4f15",
       "version_major": 2,
       "version_minor": 0
      },
      "text/plain": [
       "Batches:   0%|          | 0/1 [00:00<?, ?it/s]"
      ]
     },
     "metadata": {},
     "output_type": "display_data"
    },
    {
     "name": "stdout",
     "output_type": "stream",
     "text": [
      "tensor([[0.6172]])\n"
     ]
    },
    {
     "data": {
      "application/vnd.jupyter.widget-view+json": {
       "model_id": "4a8afd1f1691480f8bd97060cbf36a92",
       "version_major": 2,
       "version_minor": 0
      },
      "text/plain": [
       "Batches:   0%|          | 0/1 [00:00<?, ?it/s]"
      ]
     },
     "metadata": {},
     "output_type": "display_data"
    },
    {
     "data": {
      "application/vnd.jupyter.widget-view+json": {
       "model_id": "93b17784570c4a25916e6b1f1d317c78",
       "version_major": 2,
       "version_minor": 0
      },
      "text/plain": [
       "Batches:   0%|          | 0/1 [00:00<?, ?it/s]"
      ]
     },
     "metadata": {},
     "output_type": "display_data"
    },
    {
     "name": "stdout",
     "output_type": "stream",
     "text": [
      "tensor([[0.7057]])\n"
     ]
    },
    {
     "data": {
      "application/vnd.jupyter.widget-view+json": {
       "model_id": "aca9c96956764d39a7b992dd16fe3fb7",
       "version_major": 2,
       "version_minor": 0
      },
      "text/plain": [
       "Batches:   0%|          | 0/1 [00:00<?, ?it/s]"
      ]
     },
     "metadata": {},
     "output_type": "display_data"
    },
    {
     "data": {
      "application/vnd.jupyter.widget-view+json": {
       "model_id": "e9dcbd302ff9406b873abc5d49c016de",
       "version_major": 2,
       "version_minor": 0
      },
      "text/plain": [
       "Batches:   0%|          | 0/1 [00:00<?, ?it/s]"
      ]
     },
     "metadata": {},
     "output_type": "display_data"
    },
    {
     "name": "stdout",
     "output_type": "stream",
     "text": [
      "tensor([[0.6233]])\n"
     ]
    },
    {
     "data": {
      "application/vnd.jupyter.widget-view+json": {
       "model_id": "d05c864a5366437fb1dfb0f28bc9a3b8",
       "version_major": 2,
       "version_minor": 0
      },
      "text/plain": [
       "Batches:   0%|          | 0/1 [00:00<?, ?it/s]"
      ]
     },
     "metadata": {},
     "output_type": "display_data"
    },
    {
     "data": {
      "application/vnd.jupyter.widget-view+json": {
       "model_id": "dc6727bfea714fb2bf0f8467abc728d9",
       "version_major": 2,
       "version_minor": 0
      },
      "text/plain": [
       "Batches:   0%|          | 0/1 [00:00<?, ?it/s]"
      ]
     },
     "metadata": {},
     "output_type": "display_data"
    },
    {
     "name": "stdout",
     "output_type": "stream",
     "text": [
      "tensor([[0.6310]])\n"
     ]
    },
    {
     "data": {
      "application/vnd.jupyter.widget-view+json": {
       "model_id": "53b7ef11225641c0be05cfddecce28e5",
       "version_major": 2,
       "version_minor": 0
      },
      "text/plain": [
       "Batches:   0%|          | 0/1 [00:00<?, ?it/s]"
      ]
     },
     "metadata": {},
     "output_type": "display_data"
    },
    {
     "data": {
      "application/vnd.jupyter.widget-view+json": {
       "model_id": "165577563a154e66b742f2e7d7169698",
       "version_major": 2,
       "version_minor": 0
      },
      "text/plain": [
       "Batches:   0%|          | 0/1 [00:00<?, ?it/s]"
      ]
     },
     "metadata": {},
     "output_type": "display_data"
    },
    {
     "name": "stdout",
     "output_type": "stream",
     "text": [
      "tensor([[0.5967]])\n"
     ]
    },
    {
     "data": {
      "application/vnd.jupyter.widget-view+json": {
       "model_id": "a3442232dfe9404b89e444253a0facac",
       "version_major": 2,
       "version_minor": 0
      },
      "text/plain": [
       "Batches:   0%|          | 0/1 [00:00<?, ?it/s]"
      ]
     },
     "metadata": {},
     "output_type": "display_data"
    },
    {
     "data": {
      "application/vnd.jupyter.widget-view+json": {
       "model_id": "2a8a00e4cf0344a78b269570505c1ea3",
       "version_major": 2,
       "version_minor": 0
      },
      "text/plain": [
       "Batches:   0%|          | 0/1 [00:00<?, ?it/s]"
      ]
     },
     "metadata": {},
     "output_type": "display_data"
    },
    {
     "name": "stdout",
     "output_type": "stream",
     "text": [
      "tensor([[0.6867]])\n"
     ]
    },
    {
     "data": {
      "application/vnd.jupyter.widget-view+json": {
       "model_id": "1ce20af7e70348388ab713df2df8af87",
       "version_major": 2,
       "version_minor": 0
      },
      "text/plain": [
       "Batches:   0%|          | 0/1 [00:00<?, ?it/s]"
      ]
     },
     "metadata": {},
     "output_type": "display_data"
    },
    {
     "data": {
      "application/vnd.jupyter.widget-view+json": {
       "model_id": "bcf2c5480e534cc4b1704c73cc06684d",
       "version_major": 2,
       "version_minor": 0
      },
      "text/plain": [
       "Batches:   0%|          | 0/1 [00:00<?, ?it/s]"
      ]
     },
     "metadata": {},
     "output_type": "display_data"
    },
    {
     "name": "stdout",
     "output_type": "stream",
     "text": [
      "tensor([[0.6242]])\n"
     ]
    }
   ],
   "source": [
    "for _, row in test_case_results_df.iterrows():\n",
    "    tgt_candidate = row['TgtCandidate']\n",
    "    candidate_entity_name = list(OntologyEntryAttr(tgt_candidate, onto_tgt).getAllEntetyNames())[0]\n",
    "    similarity = model.similarity(model.encode(src_entity_name), model.encode(candidate_entity_name))\n",
    "    similarities[tgt_candidate] = similarity\n",
    "    print(similarity)"
   ]
  },
  {
   "cell_type": "code",
   "execution_count": 39,
   "metadata": {
    "collapsed": true,
    "execution": {
     "iopub.execute_input": "2024-12-10T10:32:10.855290Z",
     "iopub.status.busy": "2024-12-10T10:32:10.854839Z",
     "iopub.status.idle": "2024-12-10T10:32:10.888638Z",
     "shell.execute_reply": "2024-12-10T10:32:10.887712Z",
     "shell.execute_reply.started": "2024-12-10T10:32:10.855246Z"
    },
    "jupyter": {
     "outputs_hidden": true
    },
    "trusted": true
   },
   "outputs": [
    {
     "name": "stdout",
     "output_type": "stream",
     "text": [
      "{'http://www.orpha.net/ORDO/Orphanet_93406': tensor([[0.5686]]), 'http://www.orpha.net/ORDO/Orphanet_181': tensor([[0.7394]]), 'http://www.orpha.net/ORDO/Orphanet_3231': tensor([[0.6001]]), 'http://www.orpha.net/ORDO/Orphanet_293642': tensor([[0.4531]]), 'http://www.orpha.net/ORDO/Orphanet_90025': tensor([[0.5845]]), 'http://www.orpha.net/ORDO/Orphanet_90625': tensor([[0.6920]]), 'http://www.orpha.net/ORDO/Orphanet_324761': tensor([[0.6429]]), 'http://www.orpha.net/ORDO/Orphanet_596': tensor([[0.5378]]), 'http://www.orpha.net/ORDO/Orphanet_35093': tensor([[0.5914]]), 'http://www.orpha.net/ORDO/Orphanet_48471': tensor([[0.6892]]), 'http://www.orpha.net/ORDO/Orphanet_423655': tensor([[0.7614]]), 'http://www.orpha.net/ORDO/Orphanet_96265': tensor([[0.6380]]), 'http://www.orpha.net/ORDO/Orphanet_199633': tensor([[0.6298]]), 'http://www.orpha.net/ORDO/Orphanet_88616': tensor([[0.8480]]), 'http://www.orpha.net/ORDO/Orphanet_182076': tensor([[0.8968]]), 'http://www.orpha.net/ORDO/Orphanet_371212': tensor([[0.5829]]), 'http://www.orpha.net/ORDO/Orphanet_371064': tensor([[0.8056]]), 'http://www.orpha.net/ORDO/Orphanet_243': tensor([[0.4485]]), 'http://www.orpha.net/ORDO/Orphanet_90635': tensor([[0.6106]]), 'http://www.orpha.net/ORDO/Orphanet_3242': tensor([[0.8896]]), 'http://www.orpha.net/ORDO/Orphanet_182079': tensor([[0.6803]]), 'http://www.orpha.net/ORDO/Orphanet_166': tensor([[0.6057]]), 'http://www.orpha.net/ORDO/Orphanet_157965': tensor([[0.6267]]), 'http://www.orpha.net/ORDO/Orphanet_431272': tensor([[0.7821]]), 'http://www.orpha.net/ORDO/Orphanet_85274': tensor([[0.4586]]), 'http://www.orpha.net/ORDO/Orphanet_295195': tensor([[0.4278]]), 'http://www.orpha.net/ORDO/Orphanet_102009': tensor([[0.6732]]), 'http://www.orpha.net/ORDO/Orphanet_100981': tensor([[0.6979]]), 'http://www.orpha.net/ORDO/Orphanet_90103': tensor([[0.6718]]), 'http://www.orpha.net/ORDO/Orphanet_64747': tensor([[0.7708]]), 'http://www.orpha.net/ORDO/Orphanet_528084': tensor([[0.8184]]), 'http://www.orpha.net/ORDO/Orphanet_108991': tensor([[0.6886]]), 'http://www.orpha.net/ORDO/Orphanet_255182': tensor([[0.6201]]), 'http://www.orpha.net/ORDO/Orphanet_93457': tensor([[0.5888]]), 'http://www.orpha.net/ORDO/Orphanet_85332': tensor([[0.7738]]), 'http://www.orpha.net/ORDO/Orphanet_2076': tensor([[0.9064]]), 'http://www.orpha.net/ORDO/Orphanet_93890': tensor([[0.7039]]), 'http://www.orpha.net/ORDO/Orphanet_98683': tensor([[0.6095]]), 'http://www.orpha.net/ORDO/Orphanet_453510': tensor([[0.6803]]), 'http://www.orpha.net/ORDO/Orphanet_2496': tensor([[0.6253]]), 'http://www.orpha.net/ORDO/Orphanet_206428': tensor([[0.6481]]), 'http://www.orpha.net/ORDO/Orphanet_166472': tensor([[0.6833]]), 'http://www.orpha.net/ORDO/Orphanet_431140': tensor([[0.8049]]), 'http://www.orpha.net/ORDO/Orphanet_404538': tensor([[0.7803]]), 'http://www.orpha.net/ORDO/Orphanet_139557': tensor([[0.7483]]), 'http://www.orpha.net/ORDO/Orphanet_166490': tensor([[0.5454]]), 'http://www.orpha.net/ORDO/Orphanet_371047': tensor([[0.7138]]), 'http://www.orpha.net/ORDO/Orphanet_269528': tensor([[0.7039]]), 'http://www.orpha.net/ORDO/Orphanet_83001': tensor([[0.5976]]), 'http://www.orpha.net/ORDO/Orphanet_182073': tensor([[0.8417]]), 'http://www.orpha.net/ORDO/Orphanet_163937': tensor([[0.8904]]), 'http://www.orpha.net/ORDO/Orphanet_443197': tensor([[0.6798]]), 'http://www.orpha.net/ORDO/Orphanet_91495': tensor([[0.5479]]), 'http://www.orpha.net/ORDO/Orphanet_90642': tensor([[0.6552]]), 'http://www.orpha.net/ORDO/Orphanet_98641': tensor([[0.6028]]), 'http://www.orpha.net/ORDO/Orphanet_98464': tensor([[0.9619]]), 'http://www.orpha.net/ORDO/Orphanet_49042': tensor([[0.5758]]), 'http://www.orpha.net/ORDO/Orphanet_276234': tensor([[0.5562]]), 'http://www.orpha.net/ORDO/Orphanet_371054': tensor([[0.8513]]), 'http://www.orpha.net/ORDO/Orphanet_476123': tensor([[0.5651]]), 'http://www.orpha.net/ORDO/Orphanet_77828': tensor([[0.5665]]), 'http://www.orpha.net/ORDO/Orphanet_1131': tensor([[0.7437]]), 'http://www.orpha.net/ORDO/Orphanet_461': tensor([[0.6188]]), 'http://www.orpha.net/ORDO/Orphanet_777': tensor([[0.9385]]), 'http://www.orpha.net/ORDO/Orphanet_35098': tensor([[0.4956]]), 'http://www.orpha.net/ORDO/Orphanet_497623': tensor([[0.6115]]), 'http://www.orpha.net/ORDO/Orphanet_35099': tensor([[0.5636]]), 'http://www.orpha.net/ORDO/Orphanet_139583': tensor([[0.7286]]), 'http://www.orpha.net/ORDO/Orphanet_84064': tensor([[0.4649]]), 'http://www.orpha.net/ORDO/Orphanet_269573': tensor([[0.7317]]), 'http://www.orpha.net/ORDO/Orphanet_1576': tensor([[0.7040]]), 'http://www.orpha.net/ORDO/Orphanet_178364': tensor([[0.3911]]), 'http://www.orpha.net/ORDO/Orphanet_202948': tensor([[0.6162]]), 'http://www.orpha.net/ORDO/Orphanet_98791': tensor([[0.7363]]), 'http://www.orpha.net/ORDO/Orphanet_441434': tensor([[0.6594]]), 'http://www.orpha.net/ORDO/Orphanet_93593': tensor([[0.4695]]), 'http://www.orpha.net/ORDO/Orphanet_457223': tensor([[0.6207]]), 'http://www.orpha.net/ORDO/Orphanet_102369': tensor([[0.8416]]), 'http://www.orpha.net/ORDO/Orphanet_261537': tensor([[0.7169]]), 'http://www.orpha.net/ORDO/Orphanet_102011': tensor([[0.6692]]), 'http://www.orpha.net/ORDO/Orphanet_87277': tensor([[0.7883]]), 'http://www.orpha.net/ORDO/Orphanet_183512': tensor([[0.6471]]), 'http://www.orpha.net/ORDO/Orphanet_404481': tensor([[0.7754]]), 'http://www.orpha.net/ORDO/Orphanet_68385': tensor([[0.6430]]), 'http://www.orpha.net/ORDO/Orphanet_85279': tensor([[0.8601]]), 'http://www.orpha.net/ORDO/Orphanet_68361': tensor([[0.4947]]), 'http://www.orpha.net/ORDO/Orphanet_98565': tensor([[0.6326]]), 'http://www.orpha.net/ORDO/Orphanet_98578': tensor([[0.6052]]), 'http://www.orpha.net/ORDO/Orphanet_182070': tensor([[0.6500]]), 'http://www.orpha.net/ORDO/Orphanet_35981': tensor([[0.6231]]), 'http://www.orpha.net/ORDO/Orphanet_165707': tensor([[0.6777]]), 'http://www.orpha.net/ORDO/Orphanet_183763': tensor([[0.8518]]), 'http://www.orpha.net/ORDO/Orphanet_163971': tensor([[0.8965]]), 'http://www.orpha.net/ORDO/Orphanet_166478': tensor([[0.6078]]), 'http://www.orpha.net/ORDO/Orphanet_79244': tensor([[0.6172]]), 'http://www.orpha.net/ORDO/Orphanet_199639': tensor([[0.7057]]), 'http://www.orpha.net/ORDO/Orphanet_163209': tensor([[0.6233]]), 'http://www.orpha.net/ORDO/Orphanet_225147': tensor([[0.6310]]), 'http://www.orpha.net/ORDO/Orphanet_466084': tensor([[0.5967]]), 'http://www.orpha.net/ORDO/Orphanet_183530': tensor([[0.6867]]), 'http://www.orpha.net/ORDO/Orphanet_85275': tensor([[0.6242]])}\n"
     ]
    }
   ],
   "source": [
    "print(similarities)"
   ]
  },
  {
   "cell_type": "code",
   "execution_count": 41,
   "metadata": {
    "execution": {
     "iopub.execute_input": "2024-12-10T10:34:10.000672Z",
     "iopub.status.busy": "2024-12-10T10:34:10.000277Z",
     "iopub.status.idle": "2024-12-10T10:34:10.007979Z",
     "shell.execute_reply": "2024-12-10T10:34:10.007207Z",
     "shell.execute_reply.started": "2024-12-10T10:34:10.000642Z"
    },
    "trusted": true
   },
   "outputs": [
    {
     "name": "stdout",
     "output_type": "stream",
     "text": [
      "Data saved to output.csv\n"
     ]
    }
   ],
   "source": [
    "import csv\n",
    "\n",
    "with open('output.csv', 'w', newline='') as csv_file:\n",
    "    writer = csv.writer(csv_file)\n",
    "    writer.writerow(['Key', 'Value'])  # Header row\n",
    "    for key, value in similarities.items():\n",
    "        writer.writerow([key, value.item()])\n",
    "\n",
    "print(\"Data saved to output.csv\")"
   ]
  },
  {
   "cell_type": "markdown",
   "metadata": {},
   "source": [
    "# Prev evaluation sample"
   ]
  },
  {
   "cell_type": "code",
   "execution_count": null,
   "metadata": {},
   "outputs": [],
   "source": [
    "from tqdm import tqdm\n",
    "\n",
    "ranked_candidates = {}\n",
    "\n",
    "for source, target, candidates in tqdm(test_candidates.iterrows(), total=test_candidates.shape[0], desc=\"Processing rows\"):\n",
    "    ranked_candidates[(source, target)] = sorted(\n",
    "        [(candidate, local_matching_confidence(source, candidate)) \n",
    "         for candidate in tqdm(candidates, desc=f\"Processing candidates for {source}\", leave=False)],\n",
    "        key=lambda x: x[1],\n",
    "        reverse=True\n",
    "    )"
   ]
  },
  {
   "cell_type": "code",
   "execution_count": null,
   "metadata": {},
   "outputs": [],
   "source": [
    "def hits_at_K(test_data, ranked_candidates, K):\n",
    "    hits = 0\n",
    "    for source, target, _, in test_candidates.iterrows():\n",
    "        top_k_candidates = [candidate for candidate, _ in ranked_candidates[(source, target)][:K]]\n",
    "        if target in top_k_candidates:\n",
    "            hits += 1\n",
    "    return hits / len(test_data)"
   ]
  },
  {
   "cell_type": "code",
   "execution_count": null,
   "metadata": {},
   "outputs": [],
   "source": [
    "K = 5\n",
    "hits = hits_at_K(test_candidates, ranked_candidates, K)\n",
    "print(f\"Hits@{K}: {hits:.2f}\")"
   ]
  },
  {
   "cell_type": "markdown",
   "metadata": {},
   "source": [
    "# Testing"
   ]
  },
  {
   "cell_type": "markdown",
   "metadata": {},
   "source": [
    "### Test how parents influence KG alignment\n",
    "Hypothesis: Including parent information in prompts improves alignment accuracy."
   ]
  },
  {
   "cell_type": "code",
   "execution_count": null,
   "metadata": {
    "trusted": true
   },
   "outputs": [],
   "source": [
    "def test_information_effect_parents(source_entry: OntologyEntryAttr, target_entry: OntologyEntryAttr):\n",
    "    return f\"\"\"\n",
    "        **Task Description:**\n",
    "        Determine if the following entities from two different ontologies are equivalent. Consider their names and parent relationships:\n",
    "\n",
    "        1. **Source Entity:**\n",
    "        **All Entity Names:** {source_entry.getAllEntetyNames()}\n",
    "        **Parent Names:** {source_entry.getParentsPreferredNames()}\n",
    "\n",
    "        2. **Target Entity:**\n",
    "        **All Entity Names:** {target_entry.getAllEntetyNames()}\n",
    "        **Parent Names:** {target_entry.getParentsPreferredNames()}\n",
    "\n",
    "        Write \"Yes\" if the entities refer to the same concept, and \"No\" otherwise.\n",
    "        \"\"\""
   ]
  },
  {
   "cell_type": "code",
   "execution_count": null,
   "metadata": {
    "trusted": true
   },
   "outputs": [],
   "source": [
    "def test_information_effect_no_parents(source_entry: OntologyEntryAttr, target_entry: OntologyEntryAttr):\n",
    "    return f\"\"\"\n",
    "        **Task Description:**\n",
    "        Determine if the following entities from two different ontologies are equivalent. Only consider their names:\n",
    "\n",
    "        1. **Source Entity:**\n",
    "        **All Entity Names:** {source_entry.getAllEntetyNames()}\n",
    "\n",
    "        2. **Target Entity:**\n",
    "        **All Entity Names:** {target_entry.getAllEntetyNames()}\n",
    "\n",
    "        Write \"Yes\" if the entities refer to the same concept, and \"No\" otherwise.\n",
    "        \"\"\""
   ]
  },
  {
   "cell_type": "markdown",
   "metadata": {},
   "source": [
    "### Testing Hierarchy Awareness\n",
    "\n",
    "Hypothesis: Using hierarchical relationships (e.g., parent-child) improves alignment precision"
   ]
  },
  {
   "cell_type": "code",
   "execution_count": null,
   "metadata": {
    "trusted": true
   },
   "outputs": [],
   "source": [
    "def test_full_hierarchy_effect(source_entry: OntologyEntryAttr, target_entry: OntologyEntryAttr):\n",
    "    return f\"\"\"\n",
    "    **Task Description:**\n",
    "    Evaluate whether the source and target entities represent the same concept, considering hierarchical relationships:\n",
    "\n",
    "    1. **Source Entity:**\n",
    "    **All Entity Names:** {source_entry.getAllEntetyNames()}\n",
    "    **Parent Names:** {source_entry.getParentsPreferredNames()}\n",
    "    **Child Names:** {source_entry.getChildredPreferredNames()}\n",
    "\n",
    "    2. **Target Entity:**\n",
    "    **All Entity Names:** {target_entry.getAllEntetyNames()}\n",
    "    **Parent Names:** {target_entry.getParentsPreferredNames()}\n",
    "    **Child Names:** {target_entry.getChildredPreferredNames()}\n",
    "\n",
    "    Write \"Yes\" if the entities refer to the same concept, and \"No\" otherwise.\n",
    "    \"\"\""
   ]
  },
  {
   "cell_type": "markdown",
   "metadata": {},
   "source": [
    "### Synonym Comparison Prompt\n",
    "\n",
    "This prompt directly compares synonyms of the source and target entities."
   ]
  },
  {
   "cell_type": "code",
   "execution_count": null,
   "metadata": {
    "trusted": true
   },
   "outputs": [],
   "source": [
    "def compare_synonyms_prompt(source_entry: OntologyEntryAttr, target_entry: OntologyEntryAttr):\n",
    "    \"\"\"\n",
    "    Creates a prompt asking if the synonyms of the source and target entries indicate equivalence.\n",
    "    \"\"\"\n",
    "    return f\"\"\"\n",
    "    **Task Description:**\n",
    "    Given two entities with their synonyms from different ontologies, determine if they refer to the same concept.\n",
    "\n",
    "    1. **Source Entity:**\n",
    "    **Synonyms:** {source_entry.getSynonyms()}\n",
    "\n",
    "    2. **Target Entity:**\n",
    "    **Synonyms:** {target_entry.getSynonyms()}\n",
    "\n",
    "    Write \"Yes\" if the entities refer to the same concept, and \"No\" otherwise.\n",
    "    \"\"\""
   ]
  },
  {
   "cell_type": "markdown",
   "metadata": {},
   "source": [
    "**Synonym Inclusion with Parent-Child Context**\n",
    "\n",
    "\n",
    "Combines synonym information with hierarchical relationships for richer comparisons."
   ]
  },
  {
   "cell_type": "code",
   "execution_count": null,
   "metadata": {
    "trusted": true
   },
   "outputs": [],
   "source": [
    "def synonyms_with_hierarchy_prompt(source_entry, target_entry):\n",
    "    \"\"\"\n",
    "    Creates a prompt that includes synonyms along with parent-child relationships.\n",
    "    \"\"\"\n",
    "    return f\"\"\"\n",
    "    **Task Description:**\n",
    "    Given two entities from different ontologies with their synonyms, parent, and child relationships, determine if they refer to the same concept.\n",
    "\n",
    "    1. **Source Entity:**\n",
    "    **Synonyms:** {source_entry.getSynonyms()}\n",
    "    **Parent Entity Namings:** {source_entry.getParentsPreferredNames()}\n",
    "    **Child Entity Namings:** {source_entry.getChildredPreferredNames()}\n",
    "\n",
    "    2. **Target Entity:**\n",
    "    **Synonyms:** {target_entry.getSynonyms()}\n",
    "    **Parent Entity Namings:** {target_entry.getParentsPreferredNames()}\n",
    "    **Child Entity Namings:** {target_entry.getChildredPreferredNames()}\n",
    "\n",
    "    Write \"Yes\" if the entities refer to the same concept, and \"No\" otherwise.\n",
    "    \"\"\""
   ]
  },
  {
   "cell_type": "markdown",
   "metadata": {},
   "source": [
    "**Synonym-Based Subsumption Prompt** ???\n",
    "\n",
    "Checks if the synonyms indicate a subsumption relationship between the entities."
   ]
  },
  {
   "cell_type": "code",
   "execution_count": null,
   "metadata": {
    "trusted": true
   },
   "outputs": [],
   "source": [
    "def synonyms_subsumption_prompt(source_entry, target_entry):\n",
    "    \"\"\"\n",
    "    Creates a prompt to determine if one entity's synonyms suggest it subsumes the other.\n",
    "    \"\"\"\n",
    "    return f\"\"\"\n",
    "    **Task Description:**\n",
    "    Given two entities with their synonyms, determine if one entity subsumes the other.\n",
    "\n",
    "    1. **Source Entity Synonyms:** {source_entry.getSynonyms()}\n",
    "    2. **Target Entity Synonyms:** {target_entry.getSynonyms()}\n",
    "\n",
    "    Write \"Yes\" if the entities refer to the same concept, and \"No\" otherwise.\n",
    "    \"\"\""
   ]
  },
  {
   "cell_type": "markdown",
   "metadata": {},
   "source": [
    "**Synonym Disjointness Hypothesis Prompt** ???\n",
    "\n",
    "Tests if synonyms indicate disjointness between the entities."
   ]
  },
  {
   "cell_type": "code",
   "execution_count": null,
   "metadata": {
    "trusted": true
   },
   "outputs": [],
   "source": [
    "def synonym_disjointness_prompt(source_entry, target_entry):\n",
    "    \"\"\"\n",
    "    Creates a prompt to hypothesize if the two entities are disjoint based on their synonyms.\n",
    "    \"\"\"\n",
    "    return f\"\"\"\n",
    "    **Task Description:**\n",
    "    Using the synonyms of two entities, determine if they refer to disjoint concepts.\n",
    "\n",
    "    1. **Source Entity Synonyms:** {source_entry.getSynonyms()}\n",
    "    2. **Target Entity Synonyms:** {target_entry.getSynonyms()}\n",
    "\n",
    "    Write \"Yes\" if the entities refer to the same concept, and \"No\" otherwise.\n",
    "    \"\"\""
   ]
  },
  {
   "cell_type": "markdown",
   "metadata": {},
   "source": [
    "Compare prompt results"
   ]
  },
  {
   "cell_type": "code",
   "execution_count": null,
   "metadata": {
    "trusted": true
   },
   "outputs": [],
   "source": [
    "prompt_functions = [\n",
    "    test_information_effect_parents,\n",
    "    test_information_effect_no_parents\n",
    "    test_full_hierarchy_effect,\n",
    "    compare_synonyms_prompt,\n",
    "    synonyms_with_hierarchy_prompt,\n",
    "    synonyms_subsumption_prompt,\n",
    "    synonym_disjointness_prompt\n",
    "]\n",
    "\n",
    "models = {\n",
    "    \"mistral\": mistral,\n",
    "    # \"open_ai\": open_ai,\n",
    "    # Add more models if needed\n",
    "}"
   ]
  },
  {
   "cell_type": "code",
   "execution_count": null,
   "metadata": {
    "trusted": true
   },
   "outputs": [],
   "source": [
    "def compose_prompts(source_entry: OntologyEntryAttr, target_entry: OntologyEntryAttr):\n",
    "    composed_prompts = []\n",
    "    for func in prompt_functions:\n",
    "        prompt = func(source_entry, target_entry)\n",
    "        composed_prompts.append(prompt)\n",
    "\n",
    "    return composed_prompts"
   ]
  },
  {
   "cell_type": "code",
   "execution_count": null,
   "metadata": {
    "trusted": true
   },
   "outputs": [],
   "source": [
    "import pandas as pd\n",
    "\n",
    "def generate_results_table(test_case, models):\n",
    "    results = []\n",
    "\n",
    "    source_entry = test_case['SrcEntity']\n",
    "    target_candidates = test_case['TgtCandidates']\n",
    "    real_answer = test_case['TgtEntity']\n",
    "\n",
    "    for candidate in target_candidates:\n",
    "        prompts = compose_prompts(source_entry, candidate)\n",
    "\n",
    "        for idx, prompt in enumerate(prompts):\n",
    "            row = {\n",
    "                'SrcEntity': source_entry,\n",
    "                'TgtCandidate': candidate,\n",
    "                'PromptNum': idx,\n",
    "                'RealAnswer': \"Yes\" if candidate == real_answer else \"No\"\n",
    "            }\n",
    "            \n",
    "            # Collect model answers for the current prompt\n",
    "            for model_name, model_func in models.items():\n",
    "                row[model_name] = model_func(prompt)\n",
    "            \n",
    "            results.append(row)\n",
    "\n",
    "    results_df = pd.DataFrame(results)\n",
    "\n",
    "    column_order = ['SrcEntity', 'TgtCandidate', 'Prompt', 'RealAnswer'] + list(models.keys())\n",
    "    results_df = results_df[column_order]\n",
    "\n",
    "    return results_df"
   ]
  },
  {
   "cell_type": "code",
   "execution_count": null,
   "metadata": {
    "trusted": true
   },
   "outputs": [],
   "source": [
    "# test_case = test_candidates.iloc[0] ???\n",
    "test_case = {\n",
    "    \"SrcEntity\": \"Entity_A\",\n",
    "    \"TgtCandidates\": [\"Entity_B\", \"Entity_C\"],\n",
    "    \"TgtEntity\": \"Entity_B\"\n",
    "}\n",
    "\n",
    "results_table = generate_results_table(test_case, models, prompt_functions)\n",
    "results_table"
   ]
  },
  {
   "cell_type": "markdown",
   "metadata": {},
   "source": [
    "**Output should look like this**\n",
    "\n",
    "<table border=\"1\">\n",
    "  <thead>\n",
    "    <tr>\n",
    "      <th>SrcEntity</th>\n",
    "      <th>TgtCandidate</th>\n",
    "      <th>PromptIdx</th>\n",
    "      <th>RealAnswer</th>\n",
    "      <th>Mistral</th>\n",
    "      <th>OpenAI</th>\n",
    "    </tr>\n",
    "  </thead>\n",
    "  <tbody>\n",
    "    <tr>\n",
    "      <td>Entity_A</td>\n",
    "      <td>Entity_B</td>\n",
    "      <td>1</td>\n",
    "      <td>Yes</td>\n",
    "      <td>Yes</td>\n",
    "      <td>No</td>\n",
    "    </tr>\n",
    "    <tr>\n",
    "      <td>Entity_A</td>\n",
    "      <td>Entity_B</td>\n",
    "      <td>2</td>\n",
    "      <td>Yes</td>\n",
    "      <td>No</td>\n",
    "      <td>Yes</td>\n",
    "    </tr>\n",
    "    <tr>\n",
    "      <td>Entity_A</td>\n",
    "      <td>Entity_C</td>\n",
    "      <td>1</td>\n",
    "      <td>No</td>\n",
    "      <td>No</td>\n",
    "      <td>Yes</td>\n",
    "    </tr>\n",
    "    <tr>\n",
    "      <td>Entity_A</td>\n",
    "      <td>Entity_C</td>\n",
    "      <td>2</td>\n",
    "      <td>No</td>\n",
    "      <td>Yes</td>\n",
    "      <td>No</td>\n",
    "    </tr>\n",
    "  </tbody>\n",
    "</table>"
   ]
  },
  {
   "cell_type": "markdown",
   "metadata": {},
   "source": [
    "# Evaluation"
   ]
  },
  {
   "cell_type": "markdown",
   "metadata": {},
   "source": [
    "### Model Accuracy\n",
    "\n",
    "Definition: Measure how well each model’s predictions align with the RealAnswer.\n",
    "- Evaluation:\n",
    "- Compute the overall accuracy for each model:\n",
    "\n",
    "$\\text{Accuracy} = \\frac{\\text{Number of Correct Predictions}}{\\text{Total Predictions}}$\n",
    "\n",
    "Example output:\n",
    "- Mistral Accuracy: 80%\n",
    "- OpenAI Accuracy: 75%\n"
   ]
  },
  {
   "cell_type": "code",
   "execution_count": null,
   "metadata": {
    "trusted": true
   },
   "outputs": [],
   "source": []
  },
  {
   "cell_type": "markdown",
   "metadata": {},
   "source": [
    "### Prompt(Hierarchy) Effectiveness\n",
    "\n",
    "- Definition: Evaluate which prompts are most effective in helping models produce correct answers.\n",
    "- Evaluation:\n",
    "- Group results by Prompt and calculate the accuracy for each prompt across all models.\n",
    "- Identify prompts with the highest accuracy.\n",
    "- If certain prompts consistently lead to incorrect predictions, these can be flagged for revision.\n",
    "\n",
    "Example Output:\n",
    "- Prompt 1 Accuracy: 85%\n",
    "- Prompt 2 Accuracy: 70%"
   ]
  },
  {
   "cell_type": "code",
   "execution_count": null,
   "metadata": {
    "trusted": true
   },
   "outputs": [],
   "source": []
  },
  {
   "cell_type": "markdown",
   "metadata": {},
   "source": [
    "### Model-Prompt Interaction\n",
    "\n",
    "- Definition: Assess which prompts work best for specific models.\n",
    "- Evaluation:\n",
    "- Calculate per-prompt accuracy for each model.\n",
    "- Identify combinations where certain models perform exceptionally well or poorly with specific prompts.\n",
    "\n",
    "Example Output:\n",
    "\n",
    "Prompt 1:\n",
    "- Mistral: 90%\n",
    "- OpenAI: 80%"
   ]
  },
  {
   "cell_type": "code",
   "execution_count": null,
   "metadata": {
    "trusted": true
   },
   "outputs": [],
   "source": []
  },
  {
   "cell_type": "markdown",
   "metadata": {},
   "source": [
    "### Error Analysis ???\n",
    "\n",
    "- Definition: Identify patterns in errors made by the models.\n",
    "- Evaluation:\n",
    "- Filter rows where ModelAnswer does not match RealAnswer.\n",
    "- Group errors by TgtCandidate, Prompt, or Model to identify common failure cases.\n",
    "- Examine the characteristics of frequent errors (e.g., ambiguous prompts, challenging candidates).\n",
    "\n",
    "Example Insights:\n",
    "\n",
    "- “Most errors occur when the target candidate is very similar to the source entity.”\n",
    "- “Model A struggles with Prompt 2, likely due to unclear phrasing.”"
   ]
  },
  {
   "cell_type": "code",
   "execution_count": null,
   "metadata": {
    "trusted": true
   },
   "outputs": [],
   "source": []
  },
  {
   "cell_type": "markdown",
   "metadata": {},
   "source": [
    "### Comparison Between Models\n",
    "\n",
    "- Definition: Highlight strengths and weaknesses of each model relative to others.\n",
    "- Evaluation:\n",
    "- Compare accuracy, precision, recall, and F1 scores for each model.\n",
    "- Identify cases where one model consistently outperforms the other, and hypothesize reasons (e.g., prompt comprehension, response generation).\n",
    "\n",
    "Example Output:\n",
    "\n",
    "Mistral:\n",
    "  - Accuracy: 85%\n",
    "  - F1 Score: 82%\n",
    "\n",
    "OpenAI:\n",
    "  - Accuracy: 75%\n",
    "  - F1 Score: 77%"
   ]
  },
  {
   "cell_type": "code",
   "execution_count": null,
   "metadata": {
    "trusted": true
   },
   "outputs": [],
   "source": []
  },
  {
   "cell_type": "markdown",
   "metadata": {},
   "source": [
    "### Aggregated Results\n",
    "\n",
    "- Definition: Summarize overall results to draw broad conclusions.\n",
    "- Evaluation:\n",
    "- Present a table or chart showing accuracy, precision, and recall for all models and prompts.\n",
    "\n",
    "<table border=\"1\">\n",
    "  <tr>\n",
    "    <th>Model</th>\n",
    "    <th>Overall Accuracy</th>\n",
    "    <th>Best Prompt Accuracy</th>\n",
    "    <th>Worst Prompt Accuracy</th>\n",
    "  </tr>\n",
    "  <tr>\n",
    "    <td>Mistral</td>\n",
    "    <td>85%</td>\n",
    "    <td>90%</td>\n",
    "    <td>70%</td>\n",
    "  </tr>\n",
    "  <tr>\n",
    "    <td>OpenAI</td>\n",
    "    <td>75%</td>\n",
    "    <td>80%</td>\n",
    "    <td>60%</td>\n",
    "  </tr>\n",
    "</table>\n"
   ]
  },
  {
   "cell_type": "code",
   "execution_count": null,
   "metadata": {
    "trusted": true
   },
   "outputs": [],
   "source": []
  },
  {
   "cell_type": "markdown",
   "metadata": {},
   "source": [
    "### Statistical Testing\n",
    "- Definition: Conduct statistical tests to determine if differences between models or prompts are significant.\n",
    "\n",
    "Evaluation:\n",
    "- Use metrics like p-values to confirm whether observed differences in accuracy are statistically significant.\n",
    "- Identify whether one model is objectively better.\n"
   ]
  },
  {
   "cell_type": "code",
   "execution_count": null,
   "metadata": {
    "trusted": true
   },
   "outputs": [],
   "source": []
  },
  {
   "cell_type": "markdown",
   "metadata": {},
   "source": [
    "### Visualizations for the Report\n",
    "\n",
    "Graphs and Charts:\n",
    "- Bar Chart: Accuracy of each model.\n",
    "- Heatmap: Model accuracy per prompt.\n",
    "- Confusion Matrix: Display true positives, false positives, etc.\n",
    "- Line Chart: Model performance over different test cases."
   ]
  },
  {
   "cell_type": "code",
   "execution_count": null,
   "metadata": {
    "trusted": true
   },
   "outputs": [],
   "source": []
  }
 ],
 "metadata": {
  "kaggle": {
   "accelerator": "nvidiaTeslaT4",
   "dataSources": [
    {
     "datasetId": 6011590,
     "sourceId": 9807256,
     "sourceType": "datasetVersion"
    },
    {
     "isSourceIdPinned": true,
     "modelId": 1902,
     "modelInstanceId": 3900,
     "sourceId": 5112,
     "sourceType": "modelInstanceVersion"
    }
   ],
   "dockerImageVersionId": 30805,
   "isGpuEnabled": true,
   "isInternetEnabled": true,
   "language": "python",
   "sourceType": "notebook"
  },
  "kernelspec": {
   "display_name": "Python 3",
   "language": "python",
   "name": "python3"
  },
  "language_info": {
   "codemirror_mode": {
    "name": "ipython",
    "version": 3
   },
   "file_extension": ".py",
   "mimetype": "text/x-python",
   "name": "python",
   "nbconvert_exporter": "python",
   "pygments_lexer": "ipython3",
   "version": "3.10.14"
  }
 },
 "nbformat": 4,
 "nbformat_minor": 4
}
